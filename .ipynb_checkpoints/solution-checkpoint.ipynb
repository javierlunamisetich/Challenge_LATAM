{
 "cells": [
  {
   "cell_type": "code",
   "execution_count": 103,
   "metadata": {},
   "outputs": [],
   "source": [
    "import pandas as pd\n",
    "import matplotlib.pyplot as plt\n",
    "import seaborn as sns\n",
    "import datetime\n",
    "from utils import *\n",
    "import numpy as np\n",
    "from sklearn.model_selection import train_test_split, GridSearchCV,RandomizedSearchCV\n",
    "from sklearn.pipeline import Pipeline\n",
    "from sklearn.linear_model import LogisticRegression\n",
    "from sklearn.metrics import confusion_matrix\n",
    "from feature_engine.encoding import (\n",
    "    OrdinalEncoder,\n",
    "    RareLabelEncoder\n",
    ")\n",
    "from sklearn.preprocessing import MinMaxScaler\n",
    "import timeit\n",
    "from sklearn.metrics import plot_confusion_matrix\n",
    "\n",
    "#models\n",
    "import lightgbm as lgb\n",
    "import xgboost as xgb\n",
    "import catboost as cb\n"
   ]
  },
  {
   "cell_type": "code",
   "execution_count": 3,
   "metadata": {},
   "outputs": [
    {
     "name": "stdout",
     "output_type": "stream",
     "text": [
      "(68206, 18)\n"
     ]
    },
    {
     "name": "stderr",
     "output_type": "stream",
     "text": [
      "/home/javier.luna/anaconda3/lib/python3.8/site-packages/IPython/core/interactiveshell.py:3377: DtypeWarning: Columns (1,6) have mixed types.Specify dtype option on import or set low_memory=False.\n",
      "  if (await self.run_code(code, result,  async_=asy)):\n"
     ]
    },
    {
     "data": {
      "text/html": [
       "<div>\n",
       "<style scoped>\n",
       "    .dataframe tbody tr th:only-of-type {\n",
       "        vertical-align: middle;\n",
       "    }\n",
       "\n",
       "    .dataframe tbody tr th {\n",
       "        vertical-align: top;\n",
       "    }\n",
       "\n",
       "    .dataframe thead th {\n",
       "        text-align: right;\n",
       "    }\n",
       "</style>\n",
       "<table border=\"1\" class=\"dataframe\">\n",
       "  <thead>\n",
       "    <tr style=\"text-align: right;\">\n",
       "      <th></th>\n",
       "      <th>Fecha-I</th>\n",
       "      <th>Vlo-I</th>\n",
       "      <th>Ori-I</th>\n",
       "      <th>Des-I</th>\n",
       "      <th>Emp-I</th>\n",
       "      <th>Fecha-O</th>\n",
       "      <th>Vlo-O</th>\n",
       "      <th>Ori-O</th>\n",
       "      <th>Des-O</th>\n",
       "      <th>Emp-O</th>\n",
       "      <th>DIA</th>\n",
       "      <th>MES</th>\n",
       "      <th>AÑO</th>\n",
       "      <th>DIANOM</th>\n",
       "      <th>TIPOVUELO</th>\n",
       "      <th>OPERA</th>\n",
       "      <th>SIGLAORI</th>\n",
       "      <th>SIGLADES</th>\n",
       "    </tr>\n",
       "  </thead>\n",
       "  <tbody>\n",
       "    <tr>\n",
       "      <th>169</th>\n",
       "      <td>2017-01-01 00:15:00</td>\n",
       "      <td>11</td>\n",
       "      <td>SCEL</td>\n",
       "      <td>MMMX</td>\n",
       "      <td>AMX</td>\n",
       "      <td>2017-01-01 00:04:00</td>\n",
       "      <td>11</td>\n",
       "      <td>SCEL</td>\n",
       "      <td>MMMX</td>\n",
       "      <td>AMX</td>\n",
       "      <td>1</td>\n",
       "      <td>1</td>\n",
       "      <td>2017</td>\n",
       "      <td>Domingo</td>\n",
       "      <td>I</td>\n",
       "      <td>Aeromexico</td>\n",
       "      <td>Santiago</td>\n",
       "      <td>Ciudad de Mexico</td>\n",
       "    </tr>\n",
       "    <tr>\n",
       "      <th>5078</th>\n",
       "      <td>2017-01-01 01:15:00</td>\n",
       "      <td>572</td>\n",
       "      <td>SCEL</td>\n",
       "      <td>SKBO</td>\n",
       "      <td>LAN</td>\n",
       "      <td>2017-01-01 01:10:00</td>\n",
       "      <td>572</td>\n",
       "      <td>SCEL</td>\n",
       "      <td>SKBO</td>\n",
       "      <td>LAN</td>\n",
       "      <td>1</td>\n",
       "      <td>1</td>\n",
       "      <td>2017</td>\n",
       "      <td>Domingo</td>\n",
       "      <td>I</td>\n",
       "      <td>Grupo LATAM</td>\n",
       "      <td>Santiago</td>\n",
       "      <td>Bogota</td>\n",
       "    </tr>\n",
       "    <tr>\n",
       "      <th>622</th>\n",
       "      <td>2017-01-01 01:23:00</td>\n",
       "      <td>495</td>\n",
       "      <td>SCEL</td>\n",
       "      <td>MPTO</td>\n",
       "      <td>CMP</td>\n",
       "      <td>2017-01-01 01:29:00</td>\n",
       "      <td>495</td>\n",
       "      <td>SCEL</td>\n",
       "      <td>MPTO</td>\n",
       "      <td>CMP</td>\n",
       "      <td>1</td>\n",
       "      <td>1</td>\n",
       "      <td>2017</td>\n",
       "      <td>Domingo</td>\n",
       "      <td>I</td>\n",
       "      <td>Copa Air</td>\n",
       "      <td>Santiago</td>\n",
       "      <td>Ciudad de Panama</td>\n",
       "    </tr>\n",
       "    <tr>\n",
       "      <th>409</th>\n",
       "      <td>2017-01-01 01:33:00</td>\n",
       "      <td>240</td>\n",
       "      <td>SCEL</td>\n",
       "      <td>SKBO</td>\n",
       "      <td>AVA</td>\n",
       "      <td>2017-01-01 01:38:00</td>\n",
       "      <td>240</td>\n",
       "      <td>SCEL</td>\n",
       "      <td>SKBO</td>\n",
       "      <td>AVA</td>\n",
       "      <td>1</td>\n",
       "      <td>1</td>\n",
       "      <td>2017</td>\n",
       "      <td>Domingo</td>\n",
       "      <td>I</td>\n",
       "      <td>Avianca</td>\n",
       "      <td>Santiago</td>\n",
       "      <td>Bogota</td>\n",
       "    </tr>\n",
       "    <tr>\n",
       "      <th>592</th>\n",
       "      <td>2017-01-01 01:42:00</td>\n",
       "      <td>276</td>\n",
       "      <td>SCEL</td>\n",
       "      <td>MPTO</td>\n",
       "      <td>CMP</td>\n",
       "      <td>2017-01-01 01:40:00</td>\n",
       "      <td>276</td>\n",
       "      <td>SCEL</td>\n",
       "      <td>MPTO</td>\n",
       "      <td>CMP</td>\n",
       "      <td>1</td>\n",
       "      <td>1</td>\n",
       "      <td>2017</td>\n",
       "      <td>Domingo</td>\n",
       "      <td>I</td>\n",
       "      <td>Copa Air</td>\n",
       "      <td>Santiago</td>\n",
       "      <td>Ciudad de Panama</td>\n",
       "    </tr>\n",
       "  </tbody>\n",
       "</table>\n",
       "</div>"
      ],
      "text/plain": [
       "                 Fecha-I Vlo-I Ori-I Des-I Emp-I             Fecha-O Vlo-O  \\\n",
       "169  2017-01-01 00:15:00    11  SCEL  MMMX   AMX 2017-01-01 00:04:00    11   \n",
       "5078 2017-01-01 01:15:00   572  SCEL  SKBO   LAN 2017-01-01 01:10:00   572   \n",
       "622  2017-01-01 01:23:00   495  SCEL  MPTO   CMP 2017-01-01 01:29:00   495   \n",
       "409  2017-01-01 01:33:00   240  SCEL  SKBO   AVA 2017-01-01 01:38:00   240   \n",
       "592  2017-01-01 01:42:00   276  SCEL  MPTO   CMP 2017-01-01 01:40:00   276   \n",
       "\n",
       "     Ori-O Des-O Emp-O  DIA  MES   AÑO   DIANOM TIPOVUELO        OPERA  \\\n",
       "169   SCEL  MMMX   AMX    1    1  2017  Domingo         I   Aeromexico   \n",
       "5078  SCEL  SKBO   LAN    1    1  2017  Domingo         I  Grupo LATAM   \n",
       "622   SCEL  MPTO   CMP    1    1  2017  Domingo         I     Copa Air   \n",
       "409   SCEL  SKBO   AVA    1    1  2017  Domingo         I      Avianca   \n",
       "592   SCEL  MPTO   CMP    1    1  2017  Domingo         I     Copa Air   \n",
       "\n",
       "      SIGLAORI          SIGLADES  \n",
       "169   Santiago  Ciudad de Mexico  \n",
       "5078  Santiago            Bogota  \n",
       "622   Santiago  Ciudad de Panama  \n",
       "409   Santiago            Bogota  \n",
       "592   Santiago  Ciudad de Panama  "
      ]
     },
     "execution_count": 3,
     "metadata": {},
     "output_type": "execute_result"
    }
   ],
   "source": [
    "# load dataset\n",
    "data = load_data('dataset_SCL.csv')\n",
    "\n",
    "# rows and columns of the data\n",
    "print(data.shape)\n",
    "\n",
    "# visualise the dataset\n",
    "data.head()"
   ]
  },
  {
   "cell_type": "markdown",
   "metadata": {},
   "source": [
    "# Creación y selección de datos relevantes"
   ]
  },
  {
   "cell_type": "code",
   "execution_count": 4,
   "metadata": {},
   "outputs": [],
   "source": [
    "data = create_hour(data)\n",
    "data = create_syntethic_features(data)"
   ]
  },
  {
   "cell_type": "code",
   "execution_count": 5,
   "metadata": {},
   "outputs": [
    {
     "data": {
      "text/html": [
       "<div>\n",
       "<style scoped>\n",
       "    .dataframe tbody tr th:only-of-type {\n",
       "        vertical-align: middle;\n",
       "    }\n",
       "\n",
       "    .dataframe tbody tr th {\n",
       "        vertical-align: top;\n",
       "    }\n",
       "\n",
       "    .dataframe thead th {\n",
       "        text-align: right;\n",
       "    }\n",
       "</style>\n",
       "<table border=\"1\" class=\"dataframe\">\n",
       "  <thead>\n",
       "    <tr style=\"text-align: right;\">\n",
       "      <th></th>\n",
       "      <th>Fecha-I</th>\n",
       "      <th>Vlo-I</th>\n",
       "      <th>Ori-I</th>\n",
       "      <th>Des-I</th>\n",
       "      <th>Emp-I</th>\n",
       "      <th>Fecha-O</th>\n",
       "      <th>Vlo-O</th>\n",
       "      <th>Ori-O</th>\n",
       "      <th>Des-O</th>\n",
       "      <th>Emp-O</th>\n",
       "      <th>...</th>\n",
       "      <th>DIANOM</th>\n",
       "      <th>TIPOVUELO</th>\n",
       "      <th>OPERA</th>\n",
       "      <th>SIGLAORI</th>\n",
       "      <th>SIGLADES</th>\n",
       "      <th>HORA</th>\n",
       "      <th>temporada_alta</th>\n",
       "      <th>dif_min</th>\n",
       "      <th>atraso_15</th>\n",
       "      <th>periodo_dia</th>\n",
       "    </tr>\n",
       "  </thead>\n",
       "  <tbody>\n",
       "    <tr>\n",
       "      <th>169</th>\n",
       "      <td>2017-01-01 00:15:00</td>\n",
       "      <td>11</td>\n",
       "      <td>SCEL</td>\n",
       "      <td>MMMX</td>\n",
       "      <td>AMX</td>\n",
       "      <td>2017-01-01 00:04:00</td>\n",
       "      <td>11</td>\n",
       "      <td>SCEL</td>\n",
       "      <td>MMMX</td>\n",
       "      <td>AMX</td>\n",
       "      <td>...</td>\n",
       "      <td>Domingo</td>\n",
       "      <td>I</td>\n",
       "      <td>Aeromexico</td>\n",
       "      <td>Santiago</td>\n",
       "      <td>Ciudad de Mexico</td>\n",
       "      <td>0</td>\n",
       "      <td>1</td>\n",
       "      <td>-11.0</td>\n",
       "      <td>0</td>\n",
       "      <td>noche</td>\n",
       "    </tr>\n",
       "    <tr>\n",
       "      <th>5078</th>\n",
       "      <td>2017-01-01 01:15:00</td>\n",
       "      <td>572</td>\n",
       "      <td>SCEL</td>\n",
       "      <td>SKBO</td>\n",
       "      <td>LAN</td>\n",
       "      <td>2017-01-01 01:10:00</td>\n",
       "      <td>572</td>\n",
       "      <td>SCEL</td>\n",
       "      <td>SKBO</td>\n",
       "      <td>LAN</td>\n",
       "      <td>...</td>\n",
       "      <td>Domingo</td>\n",
       "      <td>I</td>\n",
       "      <td>Grupo LATAM</td>\n",
       "      <td>Santiago</td>\n",
       "      <td>Bogota</td>\n",
       "      <td>1</td>\n",
       "      <td>1</td>\n",
       "      <td>-5.0</td>\n",
       "      <td>0</td>\n",
       "      <td>noche</td>\n",
       "    </tr>\n",
       "    <tr>\n",
       "      <th>622</th>\n",
       "      <td>2017-01-01 01:23:00</td>\n",
       "      <td>495</td>\n",
       "      <td>SCEL</td>\n",
       "      <td>MPTO</td>\n",
       "      <td>CMP</td>\n",
       "      <td>2017-01-01 01:29:00</td>\n",
       "      <td>495</td>\n",
       "      <td>SCEL</td>\n",
       "      <td>MPTO</td>\n",
       "      <td>CMP</td>\n",
       "      <td>...</td>\n",
       "      <td>Domingo</td>\n",
       "      <td>I</td>\n",
       "      <td>Copa Air</td>\n",
       "      <td>Santiago</td>\n",
       "      <td>Ciudad de Panama</td>\n",
       "      <td>1</td>\n",
       "      <td>1</td>\n",
       "      <td>6.0</td>\n",
       "      <td>0</td>\n",
       "      <td>noche</td>\n",
       "    </tr>\n",
       "    <tr>\n",
       "      <th>409</th>\n",
       "      <td>2017-01-01 01:33:00</td>\n",
       "      <td>240</td>\n",
       "      <td>SCEL</td>\n",
       "      <td>SKBO</td>\n",
       "      <td>AVA</td>\n",
       "      <td>2017-01-01 01:38:00</td>\n",
       "      <td>240</td>\n",
       "      <td>SCEL</td>\n",
       "      <td>SKBO</td>\n",
       "      <td>AVA</td>\n",
       "      <td>...</td>\n",
       "      <td>Domingo</td>\n",
       "      <td>I</td>\n",
       "      <td>Avianca</td>\n",
       "      <td>Santiago</td>\n",
       "      <td>Bogota</td>\n",
       "      <td>1</td>\n",
       "      <td>1</td>\n",
       "      <td>5.0</td>\n",
       "      <td>0</td>\n",
       "      <td>noche</td>\n",
       "    </tr>\n",
       "    <tr>\n",
       "      <th>592</th>\n",
       "      <td>2017-01-01 01:42:00</td>\n",
       "      <td>276</td>\n",
       "      <td>SCEL</td>\n",
       "      <td>MPTO</td>\n",
       "      <td>CMP</td>\n",
       "      <td>2017-01-01 01:40:00</td>\n",
       "      <td>276</td>\n",
       "      <td>SCEL</td>\n",
       "      <td>MPTO</td>\n",
       "      <td>CMP</td>\n",
       "      <td>...</td>\n",
       "      <td>Domingo</td>\n",
       "      <td>I</td>\n",
       "      <td>Copa Air</td>\n",
       "      <td>Santiago</td>\n",
       "      <td>Ciudad de Panama</td>\n",
       "      <td>1</td>\n",
       "      <td>1</td>\n",
       "      <td>-2.0</td>\n",
       "      <td>0</td>\n",
       "      <td>noche</td>\n",
       "    </tr>\n",
       "    <tr>\n",
       "      <th>...</th>\n",
       "      <td>...</td>\n",
       "      <td>...</td>\n",
       "      <td>...</td>\n",
       "      <td>...</td>\n",
       "      <td>...</td>\n",
       "      <td>...</td>\n",
       "      <td>...</td>\n",
       "      <td>...</td>\n",
       "      <td>...</td>\n",
       "      <td>...</td>\n",
       "      <td>...</td>\n",
       "      <td>...</td>\n",
       "      <td>...</td>\n",
       "      <td>...</td>\n",
       "      <td>...</td>\n",
       "      <td>...</td>\n",
       "      <td>...</td>\n",
       "      <td>...</td>\n",
       "      <td>...</td>\n",
       "      <td>...</td>\n",
       "      <td>...</td>\n",
       "    </tr>\n",
       "    <tr>\n",
       "      <th>66797</th>\n",
       "      <td>2017-12-31 23:30:00</td>\n",
       "      <td>532</td>\n",
       "      <td>SCEL</td>\n",
       "      <td>KJFK</td>\n",
       "      <td>LAN</td>\n",
       "      <td>2017-12-31 23:32:00</td>\n",
       "      <td>532.0</td>\n",
       "      <td>SCEL</td>\n",
       "      <td>KJFK</td>\n",
       "      <td>LAN</td>\n",
       "      <td>...</td>\n",
       "      <td>Domingo</td>\n",
       "      <td>I</td>\n",
       "      <td>Grupo LATAM</td>\n",
       "      <td>Santiago</td>\n",
       "      <td>Nueva York</td>\n",
       "      <td>23</td>\n",
       "      <td>1</td>\n",
       "      <td>2.0</td>\n",
       "      <td>0</td>\n",
       "      <td>noche</td>\n",
       "    </tr>\n",
       "    <tr>\n",
       "      <th>66947</th>\n",
       "      <td>2017-12-31 23:40:00</td>\n",
       "      <td>622</td>\n",
       "      <td>SCEL</td>\n",
       "      <td>MMMX</td>\n",
       "      <td>LAN</td>\n",
       "      <td>2018-01-01 00:12:00</td>\n",
       "      <td>622.0</td>\n",
       "      <td>SCEL</td>\n",
       "      <td>MMMX</td>\n",
       "      <td>LAN</td>\n",
       "      <td>...</td>\n",
       "      <td>Lunes</td>\n",
       "      <td>I</td>\n",
       "      <td>Grupo LATAM</td>\n",
       "      <td>Santiago</td>\n",
       "      <td>Ciudad de Mexico</td>\n",
       "      <td>23</td>\n",
       "      <td>1</td>\n",
       "      <td>32.0</td>\n",
       "      <td>1</td>\n",
       "      <td>noche</td>\n",
       "    </tr>\n",
       "    <tr>\n",
       "      <th>62026</th>\n",
       "      <td>2017-12-31 23:45:00</td>\n",
       "      <td>11</td>\n",
       "      <td>SCEL</td>\n",
       "      <td>MMMX</td>\n",
       "      <td>AMX</td>\n",
       "      <td>2017-12-31 23:42:00</td>\n",
       "      <td>11</td>\n",
       "      <td>SCEL</td>\n",
       "      <td>MMMX</td>\n",
       "      <td>AMX</td>\n",
       "      <td>...</td>\n",
       "      <td>Domingo</td>\n",
       "      <td>I</td>\n",
       "      <td>Aeromexico</td>\n",
       "      <td>Santiago</td>\n",
       "      <td>Ciudad de Mexico</td>\n",
       "      <td>23</td>\n",
       "      <td>1</td>\n",
       "      <td>-3.0</td>\n",
       "      <td>0</td>\n",
       "      <td>noche</td>\n",
       "    </tr>\n",
       "    <tr>\n",
       "      <th>66918</th>\n",
       "      <td>2017-12-31 23:55:00</td>\n",
       "      <td>602</td>\n",
       "      <td>SCEL</td>\n",
       "      <td>KLAX</td>\n",
       "      <td>LAN</td>\n",
       "      <td>2018-01-01 00:02:00</td>\n",
       "      <td>602.0</td>\n",
       "      <td>SCEL</td>\n",
       "      <td>KLAX</td>\n",
       "      <td>LAN</td>\n",
       "      <td>...</td>\n",
       "      <td>Lunes</td>\n",
       "      <td>I</td>\n",
       "      <td>Grupo LATAM</td>\n",
       "      <td>Santiago</td>\n",
       "      <td>Los Angeles</td>\n",
       "      <td>23</td>\n",
       "      <td>1</td>\n",
       "      <td>7.0</td>\n",
       "      <td>0</td>\n",
       "      <td>noche</td>\n",
       "    </tr>\n",
       "    <tr>\n",
       "      <th>61862</th>\n",
       "      <td>2017-12-31 23:55:00</td>\n",
       "      <td>226</td>\n",
       "      <td>SCEL</td>\n",
       "      <td>KMIA</td>\n",
       "      <td>AAL</td>\n",
       "      <td>2017-12-31 23:53:00</td>\n",
       "      <td>226</td>\n",
       "      <td>SCEL</td>\n",
       "      <td>KMIA</td>\n",
       "      <td>AAL</td>\n",
       "      <td>...</td>\n",
       "      <td>Domingo</td>\n",
       "      <td>I</td>\n",
       "      <td>American Airlines</td>\n",
       "      <td>Santiago</td>\n",
       "      <td>Miami</td>\n",
       "      <td>23</td>\n",
       "      <td>1</td>\n",
       "      <td>-2.0</td>\n",
       "      <td>0</td>\n",
       "      <td>noche</td>\n",
       "    </tr>\n",
       "  </tbody>\n",
       "</table>\n",
       "<p>21640 rows × 23 columns</p>\n",
       "</div>"
      ],
      "text/plain": [
       "                  Fecha-I Vlo-I Ori-I Des-I Emp-I             Fecha-O  Vlo-O  \\\n",
       "169   2017-01-01 00:15:00    11  SCEL  MMMX   AMX 2017-01-01 00:04:00     11   \n",
       "5078  2017-01-01 01:15:00   572  SCEL  SKBO   LAN 2017-01-01 01:10:00    572   \n",
       "622   2017-01-01 01:23:00   495  SCEL  MPTO   CMP 2017-01-01 01:29:00    495   \n",
       "409   2017-01-01 01:33:00   240  SCEL  SKBO   AVA 2017-01-01 01:38:00    240   \n",
       "592   2017-01-01 01:42:00   276  SCEL  MPTO   CMP 2017-01-01 01:40:00    276   \n",
       "...                   ...   ...   ...   ...   ...                 ...    ...   \n",
       "66797 2017-12-31 23:30:00   532  SCEL  KJFK   LAN 2017-12-31 23:32:00  532.0   \n",
       "66947 2017-12-31 23:40:00   622  SCEL  MMMX   LAN 2018-01-01 00:12:00  622.0   \n",
       "62026 2017-12-31 23:45:00    11  SCEL  MMMX   AMX 2017-12-31 23:42:00     11   \n",
       "66918 2017-12-31 23:55:00   602  SCEL  KLAX   LAN 2018-01-01 00:02:00  602.0   \n",
       "61862 2017-12-31 23:55:00   226  SCEL  KMIA   AAL 2017-12-31 23:53:00    226   \n",
       "\n",
       "      Ori-O Des-O Emp-O  ...   DIANOM  TIPOVUELO              OPERA  SIGLAORI  \\\n",
       "169    SCEL  MMMX   AMX  ...  Domingo          I         Aeromexico  Santiago   \n",
       "5078   SCEL  SKBO   LAN  ...  Domingo          I        Grupo LATAM  Santiago   \n",
       "622    SCEL  MPTO   CMP  ...  Domingo          I           Copa Air  Santiago   \n",
       "409    SCEL  SKBO   AVA  ...  Domingo          I            Avianca  Santiago   \n",
       "592    SCEL  MPTO   CMP  ...  Domingo          I           Copa Air  Santiago   \n",
       "...     ...   ...   ...  ...      ...        ...                ...       ...   \n",
       "66797  SCEL  KJFK   LAN  ...  Domingo          I        Grupo LATAM  Santiago   \n",
       "66947  SCEL  MMMX   LAN  ...    Lunes          I        Grupo LATAM  Santiago   \n",
       "62026  SCEL  MMMX   AMX  ...  Domingo          I         Aeromexico  Santiago   \n",
       "66918  SCEL  KLAX   LAN  ...    Lunes          I        Grupo LATAM  Santiago   \n",
       "61862  SCEL  KMIA   AAL  ...  Domingo          I  American Airlines  Santiago   \n",
       "\n",
       "               SIGLADES HORA temporada_alta dif_min  atraso_15  periodo_dia  \n",
       "169    Ciudad de Mexico    0              1   -11.0          0        noche  \n",
       "5078             Bogota    1              1    -5.0          0        noche  \n",
       "622    Ciudad de Panama    1              1     6.0          0        noche  \n",
       "409              Bogota    1              1     5.0          0        noche  \n",
       "592    Ciudad de Panama    1              1    -2.0          0        noche  \n",
       "...                 ...  ...            ...     ...        ...          ...  \n",
       "66797        Nueva York   23              1     2.0          0        noche  \n",
       "66947  Ciudad de Mexico   23              1    32.0          1        noche  \n",
       "62026  Ciudad de Mexico   23              1    -3.0          0        noche  \n",
       "66918       Los Angeles   23              1     7.0          0        noche  \n",
       "61862             Miami   23              1    -2.0          0        noche  \n",
       "\n",
       "[21640 rows x 23 columns]"
      ]
     },
     "execution_count": 5,
     "metadata": {},
     "output_type": "execute_result"
    }
   ],
   "source": [
    "data[data.temporada_alta==1]"
   ]
  },
  {
   "cell_type": "code",
   "execution_count": 6,
   "metadata": {},
   "outputs": [
    {
     "data": {
      "text/html": [
       "<div>\n",
       "<style scoped>\n",
       "    .dataframe tbody tr th:only-of-type {\n",
       "        vertical-align: middle;\n",
       "    }\n",
       "\n",
       "    .dataframe tbody tr th {\n",
       "        vertical-align: top;\n",
       "    }\n",
       "\n",
       "    .dataframe thead th {\n",
       "        text-align: right;\n",
       "    }\n",
       "</style>\n",
       "<table border=\"1\" class=\"dataframe\">\n",
       "  <thead>\n",
       "    <tr style=\"text-align: right;\">\n",
       "      <th></th>\n",
       "      <th>Fecha-I</th>\n",
       "      <th>Vlo-I</th>\n",
       "      <th>Ori-I</th>\n",
       "      <th>Des-I</th>\n",
       "      <th>Emp-I</th>\n",
       "      <th>Fecha-O</th>\n",
       "      <th>Vlo-O</th>\n",
       "      <th>Ori-O</th>\n",
       "      <th>Des-O</th>\n",
       "      <th>Emp-O</th>\n",
       "      <th>...</th>\n",
       "      <th>DIANOM</th>\n",
       "      <th>TIPOVUELO</th>\n",
       "      <th>OPERA</th>\n",
       "      <th>SIGLAORI</th>\n",
       "      <th>SIGLADES</th>\n",
       "      <th>HORA</th>\n",
       "      <th>temporada_alta</th>\n",
       "      <th>dif_min</th>\n",
       "      <th>atraso_15</th>\n",
       "      <th>periodo_dia</th>\n",
       "    </tr>\n",
       "  </thead>\n",
       "  <tbody>\n",
       "    <tr>\n",
       "      <th>169</th>\n",
       "      <td>2017-01-01 00:15:00</td>\n",
       "      <td>11</td>\n",
       "      <td>SCEL</td>\n",
       "      <td>MMMX</td>\n",
       "      <td>AMX</td>\n",
       "      <td>2017-01-01 00:04:00</td>\n",
       "      <td>11</td>\n",
       "      <td>SCEL</td>\n",
       "      <td>MMMX</td>\n",
       "      <td>AMX</td>\n",
       "      <td>...</td>\n",
       "      <td>Domingo</td>\n",
       "      <td>I</td>\n",
       "      <td>Aeromexico</td>\n",
       "      <td>Santiago</td>\n",
       "      <td>Ciudad de Mexico</td>\n",
       "      <td>0</td>\n",
       "      <td>1</td>\n",
       "      <td>-11.0</td>\n",
       "      <td>0</td>\n",
       "      <td>noche</td>\n",
       "    </tr>\n",
       "    <tr>\n",
       "      <th>5078</th>\n",
       "      <td>2017-01-01 01:15:00</td>\n",
       "      <td>572</td>\n",
       "      <td>SCEL</td>\n",
       "      <td>SKBO</td>\n",
       "      <td>LAN</td>\n",
       "      <td>2017-01-01 01:10:00</td>\n",
       "      <td>572</td>\n",
       "      <td>SCEL</td>\n",
       "      <td>SKBO</td>\n",
       "      <td>LAN</td>\n",
       "      <td>...</td>\n",
       "      <td>Domingo</td>\n",
       "      <td>I</td>\n",
       "      <td>Grupo LATAM</td>\n",
       "      <td>Santiago</td>\n",
       "      <td>Bogota</td>\n",
       "      <td>1</td>\n",
       "      <td>1</td>\n",
       "      <td>-5.0</td>\n",
       "      <td>0</td>\n",
       "      <td>noche</td>\n",
       "    </tr>\n",
       "    <tr>\n",
       "      <th>622</th>\n",
       "      <td>2017-01-01 01:23:00</td>\n",
       "      <td>495</td>\n",
       "      <td>SCEL</td>\n",
       "      <td>MPTO</td>\n",
       "      <td>CMP</td>\n",
       "      <td>2017-01-01 01:29:00</td>\n",
       "      <td>495</td>\n",
       "      <td>SCEL</td>\n",
       "      <td>MPTO</td>\n",
       "      <td>CMP</td>\n",
       "      <td>...</td>\n",
       "      <td>Domingo</td>\n",
       "      <td>I</td>\n",
       "      <td>Copa Air</td>\n",
       "      <td>Santiago</td>\n",
       "      <td>Ciudad de Panama</td>\n",
       "      <td>1</td>\n",
       "      <td>1</td>\n",
       "      <td>6.0</td>\n",
       "      <td>0</td>\n",
       "      <td>noche</td>\n",
       "    </tr>\n",
       "    <tr>\n",
       "      <th>409</th>\n",
       "      <td>2017-01-01 01:33:00</td>\n",
       "      <td>240</td>\n",
       "      <td>SCEL</td>\n",
       "      <td>SKBO</td>\n",
       "      <td>AVA</td>\n",
       "      <td>2017-01-01 01:38:00</td>\n",
       "      <td>240</td>\n",
       "      <td>SCEL</td>\n",
       "      <td>SKBO</td>\n",
       "      <td>AVA</td>\n",
       "      <td>...</td>\n",
       "      <td>Domingo</td>\n",
       "      <td>I</td>\n",
       "      <td>Avianca</td>\n",
       "      <td>Santiago</td>\n",
       "      <td>Bogota</td>\n",
       "      <td>1</td>\n",
       "      <td>1</td>\n",
       "      <td>5.0</td>\n",
       "      <td>0</td>\n",
       "      <td>noche</td>\n",
       "    </tr>\n",
       "    <tr>\n",
       "      <th>592</th>\n",
       "      <td>2017-01-01 01:42:00</td>\n",
       "      <td>276</td>\n",
       "      <td>SCEL</td>\n",
       "      <td>MPTO</td>\n",
       "      <td>CMP</td>\n",
       "      <td>2017-01-01 01:40:00</td>\n",
       "      <td>276</td>\n",
       "      <td>SCEL</td>\n",
       "      <td>MPTO</td>\n",
       "      <td>CMP</td>\n",
       "      <td>...</td>\n",
       "      <td>Domingo</td>\n",
       "      <td>I</td>\n",
       "      <td>Copa Air</td>\n",
       "      <td>Santiago</td>\n",
       "      <td>Ciudad de Panama</td>\n",
       "      <td>1</td>\n",
       "      <td>1</td>\n",
       "      <td>-2.0</td>\n",
       "      <td>0</td>\n",
       "      <td>noche</td>\n",
       "    </tr>\n",
       "  </tbody>\n",
       "</table>\n",
       "<p>5 rows × 23 columns</p>\n",
       "</div>"
      ],
      "text/plain": [
       "                 Fecha-I Vlo-I Ori-I Des-I Emp-I             Fecha-O Vlo-O  \\\n",
       "169  2017-01-01 00:15:00    11  SCEL  MMMX   AMX 2017-01-01 00:04:00    11   \n",
       "5078 2017-01-01 01:15:00   572  SCEL  SKBO   LAN 2017-01-01 01:10:00   572   \n",
       "622  2017-01-01 01:23:00   495  SCEL  MPTO   CMP 2017-01-01 01:29:00   495   \n",
       "409  2017-01-01 01:33:00   240  SCEL  SKBO   AVA 2017-01-01 01:38:00   240   \n",
       "592  2017-01-01 01:42:00   276  SCEL  MPTO   CMP 2017-01-01 01:40:00   276   \n",
       "\n",
       "     Ori-O Des-O Emp-O  ...   DIANOM  TIPOVUELO        OPERA  SIGLAORI  \\\n",
       "169   SCEL  MMMX   AMX  ...  Domingo          I   Aeromexico  Santiago   \n",
       "5078  SCEL  SKBO   LAN  ...  Domingo          I  Grupo LATAM  Santiago   \n",
       "622   SCEL  MPTO   CMP  ...  Domingo          I     Copa Air  Santiago   \n",
       "409   SCEL  SKBO   AVA  ...  Domingo          I      Avianca  Santiago   \n",
       "592   SCEL  MPTO   CMP  ...  Domingo          I     Copa Air  Santiago   \n",
       "\n",
       "              SIGLADES HORA temporada_alta dif_min  atraso_15  periodo_dia  \n",
       "169   Ciudad de Mexico    0              1   -11.0          0        noche  \n",
       "5078            Bogota    1              1    -5.0          0        noche  \n",
       "622   Ciudad de Panama    1              1     6.0          0        noche  \n",
       "409             Bogota    1              1     5.0          0        noche  \n",
       "592   Ciudad de Panama    1              1    -2.0          0        noche  \n",
       "\n",
       "[5 rows x 23 columns]"
      ]
     },
     "execution_count": 6,
     "metadata": {},
     "output_type": "execute_result"
    }
   ],
   "source": [
    "data.head()"
   ]
  },
  {
   "cell_type": "code",
   "execution_count": 206,
   "metadata": {},
   "outputs": [],
   "source": [
    "PATH='synthetic_features.csv'\n",
    "save_syntethic_features(data, path=PATH)"
   ]
  },
  {
   "cell_type": "markdown",
   "metadata": {},
   "source": [
    "# Drop features\n",
    "## Variables -O\n",
    "\n",
    "Las variables -O se refieren a lo que sucedió, indepentiende de lo programado. Se puede suponer que el si hubo un cambio respecto a lo programado, puede haber alguna causa de fondo que cause un retraso.\n",
    "Veamos primero el retraso promedio"
   ]
  },
  {
   "cell_type": "code",
   "execution_count": 8,
   "metadata": {},
   "outputs": [
    {
     "name": "stdout",
     "output_type": "stream",
     "text": [
      "Retraso promedio: 0.18493974137172683 min\n"
     ]
    }
   ],
   "source": [
    "retraso_promedio = data.atraso_15.mean()\n",
    "print(f'Retraso promedio: {retraso_promedio} min')"
   ]
  },
  {
   "cell_type": "code",
   "execution_count": 9,
   "metadata": {},
   "outputs": [
    {
     "name": "stdout",
     "output_type": "stream",
     "text": [
      "Retraso promedio ante cambio de destino: 0.2857142857142857 min\n"
     ]
    }
   ],
   "source": [
    "retraso_promedio = data[data['Des-O']!=data['Des-I']].atraso_15.mean()\n",
    "print(f'Retraso promedio ante cambio de destino: {retraso_promedio} min')"
   ]
  },
  {
   "cell_type": "code",
   "execution_count": 10,
   "metadata": {},
   "outputs": [
    {
     "name": "stdout",
     "output_type": "stream",
     "text": [
      "Retraso promedio ante cambio de nro de vuelo: 0.252972972972973 min\n"
     ]
    }
   ],
   "source": [
    "retraso = data[data['Vlo-O']!=data['Vlo-I']].atraso_15.mean()\n",
    "print(f'Retraso promedio ante cambio de nro de vuelo: {retraso} min')"
   ]
  },
  {
   "cell_type": "code",
   "execution_count": 11,
   "metadata": {},
   "outputs": [
    {
     "name": "stdout",
     "output_type": "stream",
     "text": [
      "Retraso promedio ante cambio de aerolinea: 0.1800310675451283 min\n"
     ]
    }
   ],
   "source": [
    "retraso = data[data['Emp-O']!=data['Emp-I']].atraso_15.mean()\n",
    "print(f'Retraso promedio ante cambio de aerolinea: {retraso} min')"
   ]
  },
  {
   "cell_type": "markdown",
   "metadata": {},
   "source": [
    "Los cambios en destino y aerolinea reflejan un mayor retraso. Sin embargo, estos datos contienen datos que se conocen luego de que se produjo el retraso, por lo cual no son útiles para predecir."
   ]
  },
  {
   "cell_type": "code",
   "execution_count": 12,
   "metadata": {},
   "outputs": [
    {
     "data": {
      "text/plain": [
       "Index(['Fecha-I', 'Vlo-I', 'Ori-I', 'Des-I', 'Emp-I', 'Fecha-O', 'Vlo-O',\n",
       "       'Ori-O', 'Des-O', 'Emp-O', 'DIA', 'MES', 'AÑO', 'DIANOM', 'TIPOVUELO',\n",
       "       'OPERA', 'SIGLAORI', 'SIGLADES', 'HORA', 'temporada_alta', 'dif_min',\n",
       "       'atraso_15', 'periodo_dia'],\n",
       "      dtype='object')"
      ]
     },
     "execution_count": 12,
     "metadata": {},
     "output_type": "execute_result"
    }
   ],
   "source": [
    "data.columns"
   ]
  },
  {
   "cell_type": "code",
   "execution_count": 13,
   "metadata": {},
   "outputs": [],
   "source": [
    "data.drop(columns=['Vlo-O','Ori-O', 'Des-O', 'Emp-O','Fecha-O'],inplace=True)"
   ]
  },
  {
   "cell_type": "code",
   "execution_count": 14,
   "metadata": {},
   "outputs": [
    {
     "data": {
      "text/plain": [
       "Index(['Fecha-I', 'Vlo-I', 'Ori-I', 'Des-I', 'Emp-I', 'DIA', 'MES', 'AÑO',\n",
       "       'DIANOM', 'TIPOVUELO', 'OPERA', 'SIGLAORI', 'SIGLADES', 'HORA',\n",
       "       'temporada_alta', 'dif_min', 'atraso_15', 'periodo_dia'],\n",
       "      dtype='object')"
      ]
     },
     "execution_count": 14,
     "metadata": {},
     "output_type": "execute_result"
    }
   ],
   "source": [
    "data.columns"
   ]
  },
  {
   "cell_type": "markdown",
   "metadata": {},
   "source": [
    "## Variables redundantes e innecesarias\n",
    "### Origen"
   ]
  },
  {
   "cell_type": "code",
   "execution_count": 15,
   "metadata": {},
   "outputs": [
    {
     "data": {
      "text/plain": [
       "array(['SCEL'], dtype=object)"
      ]
     },
     "execution_count": 15,
     "metadata": {},
     "output_type": "execute_result"
    }
   ],
   "source": [
    "data['Ori-I'].unique()"
   ]
  },
  {
   "cell_type": "code",
   "execution_count": 16,
   "metadata": {},
   "outputs": [
    {
     "data": {
      "text/plain": [
       "array(['Santiago'], dtype=object)"
      ]
     },
     "execution_count": 16,
     "metadata": {},
     "output_type": "execute_result"
    }
   ],
   "source": [
    "data['SIGLAORI'].unique()"
   ]
  },
  {
   "cell_type": "code",
   "execution_count": 17,
   "metadata": {},
   "outputs": [],
   "source": [
    "#ambas se refieren al origen y no contienen información relevante\n",
    "data.drop(columns=['Ori-I','SIGLAORI'],inplace=True)"
   ]
  },
  {
   "cell_type": "markdown",
   "metadata": {},
   "source": [
    "### Empresa operadora"
   ]
  },
  {
   "cell_type": "code",
   "execution_count": 18,
   "metadata": {},
   "outputs": [
    {
     "data": {
      "text/plain": [
       "30"
      ]
     },
     "execution_count": 18,
     "metadata": {},
     "output_type": "execute_result"
    }
   ],
   "source": [
    "len(data['Emp-I'].unique())"
   ]
  },
  {
   "cell_type": "code",
   "execution_count": 19,
   "metadata": {},
   "outputs": [
    {
     "data": {
      "text/plain": [
       "23"
      ]
     },
     "execution_count": 19,
     "metadata": {},
     "output_type": "execute_result"
    }
   ],
   "source": [
    "len(data['OPERA'].unique())"
   ]
  },
  {
   "cell_type": "markdown",
   "metadata": {},
   "source": [
    "Pareece que hay alguna diferencia entre las dos categorias. Chequeemos esto"
   ]
  },
  {
   "cell_type": "code",
   "execution_count": 20,
   "metadata": {},
   "outputs": [
    {
     "name": "stdout",
     "output_type": "stream",
     "text": [
      "Grupo LATAM\n",
      "['LAN' 'TAM' 'LAP' 'LXP' 'LNE' 'DSM' 'LPE']\n",
      "Latin American Wings\n",
      "['LAW' 'JMR']\n"
     ]
    }
   ],
   "source": [
    "for op in data.OPERA.unique(): \n",
    "    tmp = data[data.OPERA==op]\n",
    "    if len(tmp['Emp-I'].unique())>1:\n",
    "        print(op)\n",
    "        print(tmp['Emp-I'].unique())"
   ]
  },
  {
   "cell_type": "code",
   "execution_count": 21,
   "metadata": {},
   "outputs": [
    {
     "data": {
      "text/plain": [
       "0.340146028208662"
      ]
     },
     "execution_count": 21,
     "metadata": {},
     "output_type": "execute_result"
    }
   ],
   "source": [
    "len(data[data['Emp-I'].isin(['LAP','LXP','LNE','DSM','LPE'])])/len(data)*100"
   ]
  },
  {
   "cell_type": "markdown",
   "metadata": {},
   "source": [
    "Dado que las variables son altamente dependientes, y representan lo mismo, se descarta una de ellas."
   ]
  },
  {
   "cell_type": "code",
   "execution_count": 22,
   "metadata": {},
   "outputs": [],
   "source": [
    "data.drop(columns=['Emp-I'],inplace=True)"
   ]
  },
  {
   "cell_type": "code",
   "execution_count": 23,
   "metadata": {},
   "outputs": [
    {
     "data": {
      "text/plain": [
       "Index(['Fecha-I', 'Vlo-I', 'Des-I', 'DIA', 'MES', 'AÑO', 'DIANOM', 'TIPOVUELO',\n",
       "       'OPERA', 'SIGLADES', 'HORA', 'temporada_alta', 'dif_min', 'atraso_15',\n",
       "       'periodo_dia'],\n",
       "      dtype='object')"
      ]
     },
     "execution_count": 23,
     "metadata": {},
     "output_type": "execute_result"
    }
   ],
   "source": [
    "data.columns"
   ]
  },
  {
   "cell_type": "markdown",
   "metadata": {},
   "source": [
    "# Destino"
   ]
  },
  {
   "cell_type": "code",
   "execution_count": 24,
   "metadata": {},
   "outputs": [
    {
     "data": {
      "text/plain": [
       "62"
      ]
     },
     "execution_count": 24,
     "metadata": {},
     "output_type": "execute_result"
    }
   ],
   "source": [
    "data.SIGLADES.nunique()"
   ]
  },
  {
   "cell_type": "code",
   "execution_count": 25,
   "metadata": {},
   "outputs": [
    {
     "data": {
      "text/plain": [
       "64"
      ]
     },
     "execution_count": 25,
     "metadata": {},
     "output_type": "execute_result"
    }
   ],
   "source": [
    "data['Des-I'].nunique()"
   ]
  },
  {
   "cell_type": "code",
   "execution_count": 26,
   "metadata": {},
   "outputs": [
    {
     "name": "stdout",
     "output_type": "stream",
     "text": [
      "Rio de Janeiro\n",
      "['SBGL' 'SBGR']\n",
      "Calama\n",
      "['SCCF' 'SCFA']\n",
      "Puerto Montt\n",
      "['SCTE' 'SCBA' 'SCCI' 'SCIE']\n",
      "Punta Arenas\n",
      "['SCCI' 'SCTE']\n",
      "Buenos Aires\n",
      "['SAEZ' 'SABE' 'SEGU']\n",
      "Temuco\n",
      "['SCQP' 'SCTE' 'SCIE']\n",
      "Miami\n",
      "['KMIA' 'KJFK']\n",
      "Cataratas Iguacu\n",
      "['SBFI' 'SARI']\n",
      "Quito\n",
      "['SEQM' 'SEQU']\n",
      "Melbourne\n",
      "['YMML' 'YSSY']\n"
     ]
    }
   ],
   "source": [
    "for op in data['SIGLADES'].unique(): \n",
    "    tmp = data[data['SIGLADES']==op]\n",
    "    if len(tmp['Des-I'].unique())>1:\n",
    "        print(op)\n",
    "        print(tmp['Des-I'].unique())"
   ]
  },
  {
   "cell_type": "markdown",
   "metadata": {},
   "source": [
    "Se decide conservar ambas variables, ya que ambas representan el destino de acuerdo a distinto criterio (aeropuerto, ciudad). Es posible que haya retrasasos en un cierto aeropuerto en particular del destino, independientemente de lo que ocurra en otro de la misma ciudad. "
   ]
  },
  {
   "cell_type": "markdown",
   "metadata": {},
   "source": [
    "## Fecha y año.\n",
    "La fecha es redundante respecto a las otras variables temporales y no es extrapolable. Por otro lado, todos los datos son del 2017."
   ]
  },
  {
   "cell_type": "code",
   "execution_count": 27,
   "metadata": {},
   "outputs": [],
   "source": [
    "data.drop(columns=['Fecha-I'],inplace=True)"
   ]
  },
  {
   "cell_type": "code",
   "execution_count": 28,
   "metadata": {},
   "outputs": [],
   "source": [
    "data.drop(columns=['AÑO'],inplace=True)"
   ]
  },
  {
   "cell_type": "markdown",
   "metadata": {},
   "source": [
    "# Missing values\n",
    "Veamos que valores faltan, para saber qué hay que imputar si es necesario, y como se relacionan las variables faltantes con el target."
   ]
  },
  {
   "cell_type": "code",
   "execution_count": 29,
   "metadata": {},
   "outputs": [],
   "source": [
    "vars_with_na = [var for var in data.columns if data[var].isnull().sum() > 0]\n",
    "\n",
    "# determine percentage of missing values (expressed as decimals)\n",
    "# and display the result ordered by % of missin data\n",
    "\n",
    "data[vars_with_na].isnull().mean().sort_values(ascending=False)\n",
    "\n",
    "data[data.isna().any(axis=1)]\n",
    "\n",
    "# Dado que solo hay una fila con datos faltantes, se puede tirar sin perjuicio. En otra situación, puede pensarse en imputar dos.\n",
    "data=data.dropna()"
   ]
  },
  {
   "cell_type": "code",
   "execution_count": 30,
   "metadata": {},
   "outputs": [
    {
     "data": {
      "text/plain": [
       "Series([], dtype: float64)"
      ]
     },
     "execution_count": 30,
     "metadata": {},
     "output_type": "execute_result"
    }
   ],
   "source": [
    "#chequeemos que no pase nada raro\n",
    "data[vars_with_na].isnull().mean().sort_values(ascending=False)"
   ]
  },
  {
   "cell_type": "markdown",
   "metadata": {},
   "source": [
    "# 1:¿Cómo se distribuyen los datos? \n",
    "Respondamos a esto separando en tres partes. El target (el retraso), las variables numéricas, que en este caso son temporales, y las categóricas.\n"
   ]
  },
  {
   "cell_type": "markdown",
   "metadata": {},
   "source": [
    "\n",
    "## Target (Retraso)\n",
    "\n",
    "Empecemos por el retraso"
   ]
  },
  {
   "cell_type": "code",
   "execution_count": 31,
   "metadata": {},
   "outputs": [
    {
     "data": {
      "image/png": "[encoded data removed]",
      "text/plain": [
       "<Figure size 432x288 with 1 Axes>"
      ]
     },
     "metadata": {
      "needs_background": "light"
     },
     "output_type": "display_data"
    }
   ],
   "source": [
    "# histogram to evaluate target distribution\n",
    "\n",
    "data['dif_min'].hist(bins=50, density=True)\n",
    "plt.ylabel('Number of flights')\n",
    "plt.xlabel('Delay (in minutes)')\n",
    "plt.show()"
   ]
  },
  {
   "cell_type": "markdown",
   "metadata": {},
   "source": [
    "Tal como se espera, la distribución esta centrada en 0 y decae en ambas direcciones. Existe vuelos que no se retrasan, sino que se adelantan."
   ]
  },
  {
   "cell_type": "code",
   "execution_count": 32,
   "metadata": {},
   "outputs": [
    {
     "name": "stdout",
     "output_type": "stream",
     "text": [
      "El 26.26% de los vuelos salen adelantados\n"
     ]
    }
   ],
   "source": [
    "percent_vuelos_adelantados = round(100*len(data[data.dif_min < 0])/len(data),2) \n",
    "print(f'El {percent_vuelos_adelantados}% de los vuelos salen adelantados')"
   ]
  },
  {
   "cell_type": "markdown",
   "metadata": {},
   "source": [
    " La gran mayoría de los retrasos están por debajo de los 50 minutos, pero hay una larga cola que sobrepasa las 2 horas. Sería interesante analizar qué causa estos retrasos más largos.\n",
    "\n",
    "Si bien en esta notebook se atacará el problema como uno de clasificación, esta larga cola puede causar problemas en un modelo de regresión, por lo que debería aplicarse alguna transformación (p.ej Yeo-Johnson).\n",
    "\n",
    "Veamos ahora el atraso a 15 minutos"
   ]
  },
  {
   "cell_type": "code",
   "execution_count": 33,
   "metadata": {},
   "outputs": [],
   "source": [
    "def make_pie_chart(data, var, title=''):\n",
    "\n",
    "    labels= data[var].value_counts().index\n",
    "    datas = data[var].value_counts()/len(data)\n",
    "    fig = plt.figure(figsize=[6, 6])\n",
    "    ax = fig.add_subplot(111)\n",
    "    title = title\n",
    "    ax.set_title(title)\n",
    "    pie_wedge_collection = ax.pie(datas, labels=labels, labeldistance=1.05,autopct='%.0f%%')\n",
    "\n",
    "    for pie_wedge in pie_wedge_collection[0]:\n",
    "            pie_wedge.set_edgecolor('white')"
   ]
  },
  {
   "cell_type": "code",
   "execution_count": 34,
   "metadata": {},
   "outputs": [
    {
     "data": {
      "image/png": "[encoded data removed]",
      "text/plain": [
       "<Figure size 432x432 with 1 Axes>"
      ]
     },
     "metadata": {},
     "output_type": "display_data"
    }
   ],
   "source": [
    "make_pie_chart(data, var= 'atraso_15',title= 'Retraso mayor a 15 minutos en vuelos' )"
   ]
  },
  {
   "cell_type": "markdown",
   "metadata": {},
   "source": [
    "Como es de esperar, hay un desbalance, no habiendo retraso en la mayoría de los vuelos. Notablemente, hay menos vuelos atrasados que adelantados. El desbalance no es tan grande para aplicar métodos como upsampling (por lo menos en una primera iteración).\n",
    "\n",
    "Ver: https://machinelearningmastery.com/framework-for-imbalanced-classification-projects/"
   ]
  },
  {
   "cell_type": "markdown",
   "metadata": {},
   "source": [
    "Es de esperar que haya una dependencia entre los retrasos (varios retrasos consecutivos por clima, por ejemplo). Podemos ver si existe una autocorrelación en el target."
   ]
  },
  {
   "cell_type": "code",
   "execution_count": 35,
   "metadata": {},
   "outputs": [
    {
     "data": {
      "image/png": "[encoded data removed]",
      "text/plain": [
       "<Figure size 432x288 with 1 Axes>"
      ]
     },
     "metadata": {
      "needs_background": "light"
     },
     "output_type": "display_data"
    }
   ],
   "source": [
    "from statsmodels.graphics.tsaplots import plot_acf\n",
    "import matplotlib.pyplot as plt\n",
    "plot_acf(x=data['dif_min'])\n",
    "plt.show()"
   ]
  },
  {
   "cell_type": "markdown",
   "metadata": {},
   "source": [
    "Existe una autocorrelación, siempre positiva, pero no tan grande. Se puede pensar agregar una nueva feature que contenga la información de si el vuelo anterior fue retrasado, o bien el promedio del target en las anteriores N horas. Si bien esta información probablemente mejoraría el resultado del modelo, muy posiblemente no sea posible tener este dato en una situación real, o sea, sería necesario disponer de la información de los vuelos inmediatamente anteriores, entrenar y predecir. Por eso, no se agregará esta feature en la notebook. "
   ]
  },
  {
   "cell_type": "markdown",
   "metadata": {},
   "source": [
    "# Features\n"
   ]
  },
  {
   "cell_type": "markdown",
   "metadata": {},
   "source": [
    "## Distribución de variables numéricas"
   ]
  },
  {
   "cell_type": "code",
   "execution_count": 36,
   "metadata": {},
   "outputs": [
    {
     "data": {
      "text/plain": [
       "Index(['Vlo-I', 'Des-I', 'DIA', 'MES', 'DIANOM', 'TIPOVUELO', 'OPERA',\n",
       "       'SIGLADES', 'HORA', 'temporada_alta', 'dif_min', 'atraso_15',\n",
       "       'periodo_dia'],\n",
       "      dtype='object')"
      ]
     },
     "execution_count": 36,
     "metadata": {},
     "output_type": "execute_result"
    }
   ],
   "source": [
    "data.columns"
   ]
  },
  {
   "cell_type": "code",
   "execution_count": 37,
   "metadata": {},
   "outputs": [],
   "source": [
    "VARIABLES_DISCRETAS = ['DIA','MES','HORA']"
   ]
  },
  {
   "cell_type": "markdown",
   "metadata": {},
   "source": [
    "### Dia"
   ]
  },
  {
   "cell_type": "code",
   "execution_count": 207,
   "metadata": {},
   "outputs": [
    {
     "data": {
      "text/plain": [
       "Text(0.5, 0, 'Día')"
      ]
     },
     "execution_count": 207,
     "metadata": {},
     "output_type": "execute_result"
    },
    {
     "data": {
      "image/png": "[encoded data removed]",
      "text/plain": [
       "<Figure size 432x288 with 1 Axes>"
      ]
     },
     "metadata": {
      "needs_background": "light"
     },
     "output_type": "display_data"
    }
   ],
   "source": [
    "# Descartamos los 31 porque son menos\n",
    "data[data['DIA']<31]['DIA'].hist(bins=30)\n",
    "plt.xlabel('Día')"
   ]
  },
  {
   "cell_type": "markdown",
   "metadata": {},
   "source": []
  },
  {
   "cell_type": "markdown",
   "metadata": {},
   "source": [
    "### Hora"
   ]
  },
  {
   "cell_type": "code",
   "execution_count": 208,
   "metadata": {},
   "outputs": [
    {
     "data": {
      "text/plain": [
       "Text(0.5, 0, 'Hora')"
      ]
     },
     "execution_count": 208,
     "metadata": {},
     "output_type": "execute_result"
    },
    {
     "data": {
      "image/png": "[encoded data removed]",
      "text/plain": [
       "<Figure size 432x288 with 1 Axes>"
      ]
     },
     "metadata": {
      "needs_background": "light"
     },
     "output_type": "display_data"
    }
   ],
   "source": [
    "data['HORA'].hist(bins=24)\n",
    "plt.xlabel('Hora')"
   ]
  },
  {
   "cell_type": "markdown",
   "metadata": {},
   "source": [
    "\n",
    "### Mes"
   ]
  },
  {
   "cell_type": "code",
   "execution_count": 209,
   "metadata": {},
   "outputs": [
    {
     "data": {
      "text/plain": [
       "Text(0.5, 0, 'Mes')"
      ]
     },
     "execution_count": 209,
     "metadata": {},
     "output_type": "execute_result"
    },
    {
     "data": {
      "image/png": "[encoded data removed]",
      "text/plain": [
       "<Figure size 432x288 with 1 Axes>"
      ]
     },
     "metadata": {
      "needs_background": "light"
     },
     "output_type": "display_data"
    }
   ],
   "source": [
    "data['MES'].hist(bins=12)\n",
    "plt.xlabel('Mes')"
   ]
  },
  {
   "cell_type": "markdown",
   "metadata": {},
   "source": [
    "\n",
    "La distribución por día del mes es uniforme, aunque sorprendentemente hay una pequeña caída a fin de mes.\n",
    "La mayor actividad se da a final y principio de año, dadas las vacaciones. Hay una caída desde enero hasta julio, cuando vuelve a retomar. Se ven mayores retrasos a mediados de mes, pero con grandes fluctuaciones. Valdría la pena estudiar por qué ocurre esto, de lo que podrían salir features.\n",
    "\n",
    "Es notable una alta actividad a la mañana (entre 6 y 8) y alrededor de las 15.\n"
   ]
  },
  {
   "cell_type": "markdown",
   "metadata": {},
   "source": []
  },
  {
   "cell_type": "markdown",
   "metadata": {},
   "source": []
  },
  {
   "cell_type": "markdown",
   "metadata": {},
   "source": [
    "## Variables categóricas: cardinalidad"
   ]
  },
  {
   "cell_type": "code",
   "execution_count": 45,
   "metadata": {},
   "outputs": [],
   "source": [
    "VARIABLES_CATEGORICAS = ['Vlo-I', 'Des-I', 'DIANOM', 'TIPOVUELO', 'OPERA',\n",
    "       'SIGLADES', 'temporada_alta','periodo_dia']"
   ]
  },
  {
   "cell_type": "code",
   "execution_count": 46,
   "metadata": {},
   "outputs": [
    {
     "data": {
      "text/plain": [
       "Index(['Vlo-I', 'Des-I', 'DIA', 'MES', 'DIANOM', 'TIPOVUELO', 'OPERA',\n",
       "       'SIGLADES', 'HORA', 'temporada_alta', 'dif_min', 'atraso_15',\n",
       "       'periodo_dia'],\n",
       "      dtype='object')"
      ]
     },
     "execution_count": 46,
     "metadata": {},
     "output_type": "execute_result"
    }
   ],
   "source": [
    "data.columns"
   ]
  },
  {
   "cell_type": "code",
   "execution_count": 47,
   "metadata": {},
   "outputs": [
    {
     "data": {
      "text/plain": [
       "<AxesSubplot:>"
      ]
     },
     "execution_count": 47,
     "metadata": {},
     "output_type": "execute_result"
    },
    {
     "data": {
      "image/png": "[encoded data removed]",
      "text/plain": [
       "<Figure size 864x360 with 1 Axes>"
      ]
     },
     "metadata": {
      "needs_background": "light"
     },
     "output_type": "display_data"
    }
   ],
   "source": [
    "# we count unique categories with pandas unique() \n",
    "# and then plot them in descending order\n",
    "data[VARIABLES_CATEGORICAS].nunique().sort_values(ascending=False).plot.bar(figsize=(12,5))"
   ]
  },
  {
   "cell_type": "markdown",
   "metadata": {},
   "source": [
    "El número de vuelo tiene una cardinalidad alta, como es de esperar. Usar un OneHotEncoder puede ser muy pesado. Esta variable puede llegar a no ser importante, dado que es un ID del vuelo y no contiene información en sí.\n"
   ]
  },
  {
   "cell_type": "code",
   "execution_count": 48,
   "metadata": {},
   "outputs": [],
   "source": [
    "CAT_REDUCED=['Des-I', 'DIANOM', 'TIPOVUELO', 'OPERA',\n",
    "       'SIGLADES', 'temporada_alta','periodo_dia']"
   ]
  },
  {
   "cell_type": "code",
   "execution_count": 49,
   "metadata": {},
   "outputs": [
    {
     "data": {
      "text/plain": [
       "<AxesSubplot:>"
      ]
     },
     "execution_count": 49,
     "metadata": {},
     "output_type": "execute_result"
    },
    {
     "data": {
      "image/png": "[encoded data removed]",
      "text/plain": [
       "<Figure size 864x360 with 1 Axes>"
      ]
     },
     "metadata": {
      "needs_background": "light"
     },
     "output_type": "display_data"
    }
   ],
   "source": [
    "data[CAT_REDUCED].nunique().sort_values(ascending=False).plot.bar(figsize=(12,5))"
   ]
  },
  {
   "cell_type": "code",
   "execution_count": 50,
   "metadata": {},
   "outputs": [
    {
     "data": {
      "text/plain": [
       "['Vlo-I',\n",
       " 'Des-I',\n",
       " 'DIANOM',\n",
       " 'TIPOVUELO',\n",
       " 'OPERA',\n",
       " 'SIGLADES',\n",
       " 'temporada_alta',\n",
       " 'periodo_dia']"
      ]
     },
     "execution_count": 50,
     "metadata": {},
     "output_type": "execute_result"
    }
   ],
   "source": [
    "VARIABLES_CATEGORICAS"
   ]
  },
  {
   "cell_type": "markdown",
   "metadata": {},
   "source": [
    "## Variables categóricas: distribución"
   ]
  },
  {
   "cell_type": "code",
   "execution_count": null,
   "metadata": {},
   "outputs": [],
   "source": [
    "x = range(10)\n",
    "#The below code will create two plots. The parameters that .subplot take are (row, column, no. of plots).\n",
    "plt.subplot(3,2,1)\n",
    "#This will create the bar graph for poulation\n",
    "pop = plt.bar(x, datasort['population']/10**6)\n",
    "plt.ylabel('Population in Millions')\n",
    "plt.xticks([],[])\n",
    "#The below code will create the second plot.\n",
    "plt.subplot(2,1,2)\n",
    "#This will create the bar graph for gdp i.e gdppercapita divided by population.\n",
    "gdp =plt.bar(x, datasort['gdpPerCapita'] * datasort['population'] / 10 ** 9)\n",
    "plt.ylabel('GDP in Billions')\n",
    "plt.xticks(x, datasort['country'], rotation='vertical')\n",
    "plt.show()"
   ]
  },
  {
   "cell_type": "markdown",
   "metadata": {},
   "source": [
    "## Temporada alta"
   ]
  },
  {
   "cell_type": "code",
   "execution_count": 51,
   "metadata": {},
   "outputs": [
    {
     "data": {
      "image/png": "[encoded data removed]",
      "text/plain": [
       "<Figure size 864x360 with 1 Axes>"
      ]
     },
     "metadata": {
      "needs_background": "light"
     },
     "output_type": "display_data"
    }
   ],
   "source": [
    "plot_distribucion(data,'temporada_alta')"
   ]
  },
  {
   "cell_type": "code",
   "execution_count": 52,
   "metadata": {},
   "outputs": [
    {
     "name": "stdout",
     "output_type": "stream",
     "text": [
      "Días que son temporada alta: 0.2328767123287671\n"
     ]
    }
   ],
   "source": [
    "dias = (16+31+3+16+19)/365\n",
    "print(f'Días que son temporada alta: {dias}')"
   ]
  },
  {
   "cell_type": "code",
   "execution_count": 53,
   "metadata": {},
   "outputs": [
    {
     "name": "stdout",
     "output_type": "stream",
     "text": [
      "Vuelos en temporada alta: 0.3172741401049761\n"
     ]
    }
   ],
   "source": [
    "frac = data.temporada_alta.sum()/len(data)\n",
    "print(f'Vuelos en temporada alta: {frac}')"
   ]
  },
  {
   "cell_type": "markdown",
   "metadata": {},
   "source": [
    "Hay más vuelos en temporada alta, como es esperable, pero no es una cantidad tan importante."
   ]
  },
  {
   "cell_type": "markdown",
   "metadata": {},
   "source": [
    "## Aerolinea "
   ]
  },
  {
   "cell_type": "code",
   "execution_count": 54,
   "metadata": {},
   "outputs": [
    {
     "data": {
      "image/png": "[encoded data removed]",
      "text/plain": [
       "<Figure size 864x360 with 1 Axes>"
      ]
     },
     "metadata": {
      "needs_background": "light"
     },
     "output_type": "display_data"
    }
   ],
   "source": [
    "plot_distribucion(data,'OPERA')"
   ]
  },
  {
   "cell_type": "code",
   "execution_count": null,
   "metadata": {},
   "outputs": [],
   "source": []
  },
  {
   "cell_type": "markdown",
   "metadata": {},
   "source": [
    "La gran mayoria de los vuelos son del grupo LATAM, seguido por Sky Airline, con una participación mucho menor de otras aerolíneas.\n",
    "\n",
    "El retraso depende de la aerolínea, lo cual muestra que puede ser un buen indicador. Dos aerolíneas tuvieron retrasos en más de la mitad de los vuelos.\n",
    "\n",
    "S"
   ]
  },
  {
   "cell_type": "markdown",
   "metadata": {},
   "source": [
    "## Destino"
   ]
  },
  {
   "cell_type": "code",
   "execution_count": 55,
   "metadata": {},
   "outputs": [
    {
     "data": {
      "image/png": "[encoded data removed]",
      "text/plain": [
       "<Figure size 864x360 with 1 Axes>"
      ]
     },
     "metadata": {
      "needs_background": "light"
     },
     "output_type": "display_data"
    }
   ],
   "source": [
    "plot_distribucion(data,'SIGLADES')"
   ]
  },
  {
   "cell_type": "code",
   "execution_count": 56,
   "metadata": {},
   "outputs": [
    {
     "data": {
      "image/png": "[encoded data removed]",
      "text/plain": [
       "<Figure size 864x360 with 1 Axes>"
      ]
     },
     "metadata": {
      "needs_background": "light"
     },
     "output_type": "display_data"
    }
   ],
   "source": [
    "plot_distribucion(data,'Des-I')"
   ]
  },
  {
   "cell_type": "markdown",
   "metadata": {},
   "source": [
    "Buenos Aires destaca por gran cantidad de vuelos y una cantidad alta de retrasos. Hay lugares con pocos vuelos (Quito) pero en que todos sus vuelos se retrasaron. "
   ]
  },
  {
   "cell_type": "markdown",
   "metadata": {},
   "source": [
    "## Día de la semana"
   ]
  },
  {
   "cell_type": "code",
   "execution_count": 57,
   "metadata": {},
   "outputs": [
    {
     "data": {
      "image/png": "[encoded data removed]",
      "text/plain": [
       "<Figure size 864x360 with 1 Axes>"
      ]
     },
     "metadata": {
      "needs_background": "light"
     },
     "output_type": "display_data"
    }
   ],
   "source": [
    "plot_distribucion(data,'DIANOM')"
   ]
  },
  {
   "cell_type": "markdown",
   "metadata": {},
   "source": [
    "Inesperadamente, hay menos vuelos los sábados. Los viernes, que son el día de mayor actividad, tienen la mayor cantidad de retraso, similar a jueves y lunes"
   ]
  },
  {
   "cell_type": "markdown",
   "metadata": {},
   "source": [
    "## Código de vuelo"
   ]
  },
  {
   "cell_type": "code",
   "execution_count": 58,
   "metadata": {},
   "outputs": [
    {
     "data": {
      "image/png": "[encoded data removed]",
      "text/plain": [
       "<Figure size 864x360 with 1 Axes>"
      ]
     },
     "metadata": {
      "needs_background": "light"
     },
     "output_type": "display_data"
    }
   ],
   "source": [
    "plot_distribucion(data,'Vlo-I')"
   ]
  },
  {
   "cell_type": "markdown",
   "metadata": {},
   "source": [
    "## Tipo de vuelo"
   ]
  },
  {
   "cell_type": "code",
   "execution_count": 59,
   "metadata": {},
   "outputs": [
    {
     "data": {
      "image/png": "[encoded data removed]",
      "text/plain": [
       "<Figure size 864x360 with 1 Axes>"
      ]
     },
     "metadata": {
      "needs_background": "light"
     },
     "output_type": "display_data"
    }
   ],
   "source": [
    "plot_distribucion(data,'TIPOVUELO')"
   ]
  },
  {
   "cell_type": "markdown",
   "metadata": {},
   "source": [
    "Hay una leve mayor cantidad de vuelos nacionales sobre internacionales"
   ]
  },
  {
   "cell_type": "markdown",
   "metadata": {},
   "source": [
    "## Periodo del día"
   ]
  },
  {
   "cell_type": "code",
   "execution_count": 60,
   "metadata": {},
   "outputs": [
    {
     "data": {
      "image/png": "[encoded data removed]",
      "text/plain": [
       "<Figure size 864x360 with 1 Axes>"
      ]
     },
     "metadata": {
      "needs_background": "light"
     },
     "output_type": "display_data"
    }
   ],
   "source": [
    "plot_distribucion(data,'periodo_dia')"
   ]
  },
  {
   "cell_type": "markdown",
   "metadata": {},
   "source": [
    "# Conclusión pregunta 1\n",
    "La mayor cantidad de datos son de tipo categórico, siendo las únicas variables numéricas de tipo temporal.\n",
    "\n",
    "Otro tipo de datos que sería interesante ver sería si el día fue un feriado o no, lo que afecta la actividad laboral y los viajes. Asimismo, los factores climáticos pueden provocar retrasos en los vuelos, así que datos de pronósticos podrían resultar útiles.\n",
    "\n",
    "Se debe tener en cuenta que la gran mayoría de los vuelos son operados por dos aerolíneas. Esto provoca que la gran mayoría de los vuelos sean en estas aerolíneas, pero no significa a priori que su tasa de retraso sea mayor."
   ]
  },
  {
   "cell_type": "markdown",
   "metadata": {},
   "source": [
    "# Pregunta 3: \n",
    "\n",
    "¿Cómo se compone la tasa de atraso por destino, aerolínea, mes del año, día de la semana, temporada, tipo de vuelo?\n",
    "¿Qué variables esperarías que más influyeran en predecir atrasos?"
   ]
  },
  {
   "cell_type": "markdown",
   "metadata": {},
   "source": [
    "## Variables numéricas"
   ]
  },
  {
   "cell_type": "code",
   "execution_count": 62,
   "metadata": {},
   "outputs": [
    {
     "data": {
      "text/plain": [
       "Text(0, 0.5, 'retraso (min)')"
      ]
     },
     "execution_count": 62,
     "metadata": {},
     "output_type": "execute_result"
    },
    {
     "data": {
      "image/png": "[encoded data removed]",
      "text/plain": [
       "<Figure size 432x288 with 1 Axes>"
      ]
     },
     "metadata": {
      "needs_background": "light"
     },
     "output_type": "display_data"
    }
   ],
   "source": [
    "data.groupby('HORA').mean()['dif_min'].plot()\n",
    "plt.ylabel('retraso (min)')"
   ]
  },
  {
   "cell_type": "markdown",
   "metadata": {},
   "source": [
    "Las primeras horas de la mañana, con menos acticidad, fluctúan mucho. El retraso crece con la hora del día después de eso. Esto puede indicar que hay un retraso que se acumula a lo largo del día, con efecto en cadena."
   ]
  },
  {
   "cell_type": "code",
   "execution_count": 63,
   "metadata": {},
   "outputs": [
    {
     "data": {
      "text/plain": [
       "Text(0, 0.5, 'retraso (min)')"
      ]
     },
     "execution_count": 63,
     "metadata": {},
     "output_type": "execute_result"
    },
    {
     "data": {
      "image/png": "[encoded data removed]",
      "text/plain": [
       "<Figure size 432x288 with 1 Axes>"
      ]
     },
     "metadata": {
      "needs_background": "light"
     },
     "output_type": "display_data"
    }
   ],
   "source": [
    "data.groupby('DIA').mean()['dif_min'].plot()\n",
    "plt.ylabel('retraso (min)')"
   ]
  },
  {
   "cell_type": "markdown",
   "metadata": {},
   "source": [
    "Se ven mayores retrasos a mediados de mes respecto de los extremos, pero con grandes fluctuaciones. "
   ]
  },
  {
   "cell_type": "code",
   "execution_count": 64,
   "metadata": {},
   "outputs": [
    {
     "data": {
      "text/plain": [
       "Text(0, 0.5, 'retraso (min)')"
      ]
     },
     "execution_count": 64,
     "metadata": {},
     "output_type": "execute_result"
    },
    {
     "data": {
      "image/png": "[encoded data removed]",
      "text/plain": [
       "<Figure size 432x288 with 1 Axes>"
      ]
     },
     "metadata": {
      "needs_background": "light"
     },
     "output_type": "display_data"
    }
   ],
   "source": [
    "data.groupby('MES').mean()['dif_min'].plot()\n",
    "plt.ylabel('retraso (min)')"
   ]
  },
  {
   "cell_type": "markdown",
   "metadata": {},
   "source": [
    "Hubo un aumento fueret de los retrasos durante el mes de julio, cuyas causas valdría la pena estudiar por separado en otro momento. Quizás tenga que ver con factores climáticos"
   ]
  },
  {
   "cell_type": "markdown",
   "metadata": {},
   "source": [
    "## Variables categóricas: tasa de retraso\n",
    "\n",
    "Veamos ahora cómo se relacionan estas variables con el retraso\n",
    "\n",
    "## Temporada alta"
   ]
  },
  {
   "cell_type": "code",
   "execution_count": 65,
   "metadata": {},
   "outputs": [
    {
     "data": {
      "image/png": "[encoded data removed]",
      "text/plain": [
       "<Figure size 864x360 with 1 Axes>"
      ]
     },
     "metadata": {
      "needs_background": "light"
     },
     "output_type": "display_data"
    }
   ],
   "source": [
    "plot_retraso_promedio(data,'temporada_alta')"
   ]
  },
  {
   "cell_type": "markdown",
   "metadata": {},
   "source": [
    "La fracción de vuelos retrasados es algo mayor en temporada alta, pero no tan significativa."
   ]
  },
  {
   "cell_type": "markdown",
   "metadata": {},
   "source": [
    "## Aerolinea "
   ]
  },
  {
   "cell_type": "code",
   "execution_count": 66,
   "metadata": {},
   "outputs": [
    {
     "data": {
      "image/png": "[encoded data removed]",
      "text/plain": [
       "<Figure size 864x360 with 1 Axes>"
      ]
     },
     "metadata": {
      "needs_background": "light"
     },
     "output_type": "display_data"
    }
   ],
   "source": [
    "plot_retraso_promedio(data,'OPERA')"
   ]
  },
  {
   "cell_type": "markdown",
   "metadata": {},
   "source": [
    "Hay una marcada varianza por aerolínea, habiendo dos de las cuales que tuvieron retrasos más de la mitad de las veces. Sin embargo, el grupo LATAM y Sky Airline, que son los de mayor cantidad de vuelos, tienen una tasa de retraso bastatne inferior."
   ]
  },
  {
   "cell_type": "markdown",
   "metadata": {},
   "source": [
    "## Destino"
   ]
  },
  {
   "cell_type": "code",
   "execution_count": 213,
   "metadata": {},
   "outputs": [
    {
     "data": {
      "image/png": "[encoded data removed]",
      "text/plain": [
       "<Figure size 864x360 with 1 Axes>"
      ]
     },
     "metadata": {
      "needs_background": "light"
     },
     "output_type": "display_data"
    }
   ],
   "source": [
    "plot_retraso_promedio(data,'SIGLADES')"
   ]
  },
  {
   "cell_type": "markdown",
   "metadata": {},
   "source": [
    "Hay destinos en los que siempre hubo retrasos, pero son poco representativos. "
   ]
  },
  {
   "cell_type": "markdown",
   "metadata": {},
   "source": [
    "## Día de la semana"
   ]
  },
  {
   "cell_type": "code",
   "execution_count": 68,
   "metadata": {},
   "outputs": [
    {
     "data": {
      "image/png": "[encoded data removed]",
      "text/plain": [
       "<Figure size 864x360 with 1 Axes>"
      ]
     },
     "metadata": {
      "needs_background": "light"
     },
     "output_type": "display_data"
    }
   ],
   "source": [
    "plot_retraso_promedio(data,'DIANOM')\n",
    "\n"
   ]
  },
  {
   "cell_type": "markdown",
   "metadata": {},
   "source": [
    "Los días viernes, que son los de mayor actividad, tienen la mayor tasa de retraso. Puede pensarse a priori que un ajuste en estos 3 días de alto retraso llevaría a menores retrasos"
   ]
  },
  {
   "cell_type": "markdown",
   "metadata": {},
   "source": [
    "## Código de vuelo"
   ]
  },
  {
   "cell_type": "code",
   "execution_count": 70,
   "metadata": {},
   "outputs": [
    {
     "data": {
      "image/png": "[encoded data removed]",
      "text/plain": [
       "<Figure size 864x360 with 1 Axes>"
      ]
     },
     "metadata": {
      "needs_background": "light"
     },
     "output_type": "display_data"
    }
   ],
   "source": [
    "plot_retraso_promedio(data,'Vlo-I')"
   ]
  },
  {
   "cell_type": "markdown",
   "metadata": {},
   "source": [
    "Como se esperaba, esta variable no da mucha información, al ser un id y de alta cardinalidad."
   ]
  },
  {
   "cell_type": "markdown",
   "metadata": {},
   "source": [
    "## Tipo de vuelo"
   ]
  },
  {
   "cell_type": "code",
   "execution_count": 71,
   "metadata": {},
   "outputs": [
    {
     "data": {
      "image/png": "[encoded data removed]",
      "text/plain": [
       "<Figure size 864x360 with 1 Axes>"
      ]
     },
     "metadata": {
      "needs_background": "light"
     },
     "output_type": "display_data"
    }
   ],
   "source": [
    "plot_retraso_promedio(data,'TIPOVUELO')\n",
    "\n"
   ]
  },
  {
   "cell_type": "markdown",
   "metadata": {},
   "source": [
    "Los vuelos internacionales tienen una marcada tasa de retraso mayor respecto a los nacionales, quizás por el más largo proceso de abordaje o por operar con distintas aerolíneas. "
   ]
  },
  {
   "cell_type": "markdown",
   "metadata": {},
   "source": [
    "## Periodo del día"
   ]
  },
  {
   "cell_type": "code",
   "execution_count": 72,
   "metadata": {},
   "outputs": [
    {
     "data": {
      "image/png": "[encoded data removed]",
      "text/plain": [
       "<Figure size 864x360 with 1 Axes>"
      ]
     },
     "metadata": {
      "needs_background": "light"
     },
     "output_type": "display_data"
    }
   ],
   "source": [
    "plot_retraso_promedio(data,'periodo_dia')\n",
    "\n"
   ]
  },
  {
   "cell_type": "markdown",
   "metadata": {},
   "source": [
    "# Conclusión pregunta 3"
   ]
  },
  {
   "cell_type": "markdown",
   "metadata": {},
   "source": [
    "\n",
    "\n",
    "Respecto a las variables temporales, es esperable que el mes del año sea un factor indicativo, dado que entran en juego factores climáticos (tormentas). La hora del día también indica que los vuelos se retrasan más al final del día, quizás por efecto de arrastre. A la noche hay una tasa de retraso mayor, pese a que hay menos vuelos. En julio de 2017 hubo una alta tasa de retraso que merece ser estudiada respecto a otros años, o estudiar qué pasó ese mes en particular para ese aumento.\n",
    "\n",
    "\n",
    "El tipo de vuelo y la aerolínea también muestran ser variables importantes. En particular, se puede pensar en dos modelos distintos, para vuelos nacionales e internacionales, sobre todo considerando que los procesos de onboarding son distintos. \n",
    "\n",
    "Notablemente, en temporada alta no hay una tasa muy distinta, tan solo levemente mayor.\n",
    "\n",
    "Existe una alta variabilidad en la tasa de retraso de distintas aerolíneas, lo cual merece estudiar si es algo intrínseco del funcionamiento de ellas.\n",
    "\n",
    "Las variables temporales, el tipo de vuelo (o el destino, que se relacionan) y la aerolínea operadora parecen ser variables que influyen más."
   ]
  },
  {
   "cell_type": "markdown",
   "metadata": {},
   "source": [
    "# Preparación de datos\n",
    "\n",
    "\n"
   ]
  },
  {
   "cell_type": "code",
   "execution_count": 126,
   "metadata": {},
   "outputs": [],
   "source": [
    "X_train, X_test, y_train, y_test = train_test_split(\n",
    "    data.drop(['atraso_15', 'dif_min'], axis=1), # predictive variables\n",
    "    data['atraso_15'], # target\n",
    "    test_size=0.1, # portion of dataset to allocate to test set\n",
    "    random_state=0, # we are setting the seed here\n",
    ")\n",
    "\n",
    "features = X_train.columns"
   ]
  },
  {
   "cell_type": "code",
   "execution_count": 127,
   "metadata": {},
   "outputs": [],
   "source": [
    "CATEGORICAL_VARS = ['Vlo-I', 'Des-I','DIANOM', 'TIPOVUELO', 'OPERA',\n",
    "       'SIGLADES','periodo_dia']\n",
    "\n",
    "data[CATEGORICAL_VARS]=data[CATEGORICAL_VARS].astype('object')"
   ]
  },
  {
   "cell_type": "code",
   "execution_count": 128,
   "metadata": {},
   "outputs": [],
   "source": [
    "pipeline = Pipeline([\n",
    "    \n",
    "    ('rare_label_encoder', RareLabelEncoder(\n",
    "        tol=0.01, n_categories=1, variables=CATEGORICAL_VARS\n",
    "    )),\n",
    "\n",
    "    \n",
    "     ('categorical_encoder', OrdinalEncoder(\n",
    "        encoding_method='ordered', variables=CATEGORICAL_VARS)),\n",
    "    \n",
    "    ('scaler',MinMaxScaler())\n",
    "])"
   ]
  },
  {
   "cell_type": "code",
   "execution_count": 129,
   "metadata": {},
   "outputs": [
    {
     "data": {
      "text/plain": [
       "Pipeline(steps=[('rare_label_encoder',\n",
       "                 RareLabelEncoder(n_categories=1, tol=0.01,\n",
       "                                  variables=['Vlo-I', 'Des-I', 'DIANOM',\n",
       "                                             'TIPOVUELO', 'OPERA', 'SIGLADES',\n",
       "                                             'periodo_dia'])),\n",
       "                ('categorical_encoder',\n",
       "                 OrdinalEncoder(variables=['Vlo-I', 'Des-I', 'DIANOM',\n",
       "                                           'TIPOVUELO', 'OPERA', 'SIGLADES',\n",
       "                                           'periodo_dia'])),\n",
       "                ('scaler', MinMaxScaler())])"
      ]
     },
     "execution_count": 129,
     "metadata": {},
     "output_type": "execute_result"
    }
   ],
   "source": [
    "# train the pipeline\n",
    "pipeline.fit(X_train, y_train)"
   ]
  },
  {
   "cell_type": "code",
   "execution_count": 130,
   "metadata": {},
   "outputs": [],
   "source": [
    "X_train = pipeline.transform(X_train)"
   ]
  },
  {
   "cell_type": "code",
   "execution_count": 131,
   "metadata": {},
   "outputs": [],
   "source": [
    "X_test = pipeline.transform(X_test)"
   ]
  },
  {
   "cell_type": "code",
   "execution_count": 132,
   "metadata": {},
   "outputs": [
    {
     "data": {
      "text/plain": [
       "array([[1.        , 0.48      , 0.76666667, ..., 0.2173913 , 1.        ,\n",
       "        0.        ],\n",
       "       [1.        , 0.52      , 0.53333333, ..., 0.43478261, 1.        ,\n",
       "        0.        ],\n",
       "       [1.        , 0.44      , 0.13333333, ..., 0.65217391, 0.        ,\n",
       "        0.5       ],\n",
       "       ...,\n",
       "       [1.        , 0.96      , 0.3       , ..., 0.60869565, 0.        ,\n",
       "        0.5       ],\n",
       "       [1.        , 0.64      , 0.73333333, ..., 0.82608696, 0.        ,\n",
       "        1.        ],\n",
       "       [1.        , 0.16      , 0.9       , ..., 0.95652174, 0.        ,\n",
       "        1.        ]])"
      ]
     },
     "execution_count": 132,
     "metadata": {},
     "output_type": "execute_result"
    }
   ],
   "source": [
    "X_train"
   ]
  },
  {
   "cell_type": "code",
   "execution_count": 80,
   "metadata": {},
   "outputs": [],
   "source": [
    "from sklearn.metrics import make_scorer\n",
    "from sklearn.metrics import precision_recall_curve, auc\n",
    "\n",
    "# define scoring function \n",
    "def custom_auc(ground_truth, predictions):\n",
    " # I need only one column of predictions[\"0\" and \"1\"]. You can get an error here\n",
    " # while trying to return both columns at once\n",
    " precision,recall,threshold = precision_recall_curve(ground_truth, predictions[:, 1], pos_label=1)    \n",
    " return auc(recall,precision)\n",
    "\n",
    "# to be standart sklearn's scorer        \n",
    "my_auc = make_scorer(custom_auc, greater_is_better=True, needs_proba=True)"
   ]
  },
  {
   "cell_type": "code",
   "execution_count": 81,
   "metadata": {},
   "outputs": [],
   "source": [
    "def pr_auc_score(y_true, y_score):\n",
    "    \"\"\"\n",
    "    Generates the Area Under the Curve for precision and recall.\n",
    "    \"\"\"\n",
    "    precision, recall, thresholds = \\\n",
    "        precision_recall_curve(y_true, y_score[:, 1])\n",
    "    return auc(recall, precision, reorder=True)\n",
    "\n",
    "pr_auc_scorer = make_scorer(pr_auc_score, greater_is_better=True,\n",
    "                            needs_proba=True)"
   ]
  },
  {
   "cell_type": "code",
   "execution_count": 82,
   "metadata": {},
   "outputs": [
    {
     "data": {
      "text/plain": [
       "make_scorer(custom_auc, needs_proba=True)"
      ]
     },
     "execution_count": 82,
     "metadata": {},
     "output_type": "execute_result"
    }
   ],
   "source": [
    "my_auc"
   ]
  },
  {
   "cell_type": "code",
   "execution_count": 83,
   "metadata": {},
   "outputs": [
    {
     "data": {
      "text/plain": [
       "(61385, 11)"
      ]
     },
     "execution_count": 83,
     "metadata": {},
     "output_type": "execute_result"
    }
   ],
   "source": [
    "X_train.shape"
   ]
  },
  {
   "cell_type": "code",
   "execution_count": 84,
   "metadata": {},
   "outputs": [
    {
     "data": {
      "text/plain": [
       "array([0, 0, 0, ..., 1, 0, 0])"
      ]
     },
     "execution_count": 84,
     "metadata": {},
     "output_type": "execute_result"
    }
   ],
   "source": [
    "y=y_train.to_numpy().reshape(-1)\n",
    "y"
   ]
  },
  {
   "cell_type": "markdown",
   "metadata": {},
   "source": [
    "# Preguntas 4 y 5: Entrenamiento del modelo."
   ]
  },
  {
   "cell_type": "markdown",
   "metadata": {},
   "source": [
    "¿Qué métricas usaste para evaluar esa performance y por qué? ¿Por qué\n",
    "elegiste ese algoritmo en particular? ¿Qué variables son las que más influyen en la predicción? ¿Cómo podrías mejorar la\n",
    "performance?"
   ]
  },
  {
   "cell_type": "markdown",
   "metadata": {},
   "source": [
    "\n",
    "\n",
    "Al ser un problema de clasificación binaria, con un desbalance entre clases y con mayor importancia de la clase positiva (vuelo retrasado), se tomó como scoring al área bajo la curva Precision-Recall. [Ver](https://machinelearningmastery.com/framework-for-imbalanced-classification-projects/). Esto busca un balance entre predecir la mayor cantidad de retrasos posibles y errar la menor cantidad de veces (balance, precision-recall).\n",
    "\n",
    "Otra métrica a calcular es la precisión, dado que es maś fácil de interpretar desde un punto de vista de la toma negocios y la toma de decisiones. \n",
    "No obstante, se puede tener una precisión alta pasando por alto muchos vuelos retrasados. Se utilizará la matriz de confusión para observar estos casos de falsos negativo. Alternativamente, se podría también observar el recall.\n",
    "\n",
    "La curva de True positivos vs False positivos nos permite observar cómo varían los resultados de acuerdo a cuál es el threshold que se decida de qué es un caso positivo, dando la posibilidad de dar flexibilidad respecto a esto.\n",
    "\n",
    "Se eligió usar como modelo básico la regresión logística, que es un modelo de clasificación sencillo y que puede servir siempre como prueba y baseline antes de usar algoritmos más sofisticados.\n",
    "\n",
    "XGBOOST, Y LIGHTGBM son modelos similares que usan boosting de árboles. Son todos modelos escalables y que han demostrado buenos resultados en competiciones. Lightgbm como una variante más liviana de XGBOOST. \n",
    "\n",
    "También son modelos útiles al tener métodos para calcular la feature importance.\n",
    "\n",
    "Se ha realizado un proceso de hyperparameter con tuning para los modelos (salvo XGBOOST que por motivos de memoria no se logró), con scoring average_precision, que contiene información similar al área bajo la curva de la curva precision-recall. Estos bloques están comentados, pero los parámetros que se usan luego para entrenar los modelos son los que resultan de estos procesos.\n"
   ]
  },
  {
   "cell_type": "code",
   "execution_count": 85,
   "metadata": {},
   "outputs": [],
   "source": [
    "from sklearn.metrics import precision_recall_curve, auc,precision_score\n",
    "\n",
    "# define scoring function \n",
    "def custom_auc(ground_truth, predictions):\n",
    " # I need only one column of predictions[\"0\" and \"1\"]. You can get an error here\n",
    " # while trying to return both columns at once\n",
    " precision,recall,threshold = precision_recall_curve(ground_truth, predictions[:, 1], pos_label=1)\n",
    "\n",
    "    \n",
    " return auc(recall,precision)"
   ]
  },
  {
   "cell_type": "markdown",
   "metadata": {},
   "source": [
    "# Modelos baseline\n",
    "Veamos la necesidad de usar modelos de machine learning para predecir retrasos en vuelos. Estos sirven como referencia para saber qué tanto mejoran los modelos de ML respecto a un guess de baseline"
   ]
  },
  {
   "cell_type": "code",
   "execution_count": 91,
   "metadata": {},
   "outputs": [
    {
     "name": "stdout",
     "output_type": "stream",
     "text": [
      "Precisión al calcular aleatoriamente: 0.18\n"
     ]
    }
   ],
   "source": [
    "guess = round(y_test.sum()/len(y_test),2)\n",
    "print(f'Precisión al calcular aleatoriamente: {guess}')"
   ]
  },
  {
   "cell_type": "markdown",
   "metadata": {},
   "source": [
    "Esto significa que si tomamos todos los vuelos como que tendrán retraso, acertaremos el 18% de las veces"
   ]
  },
  {
   "cell_type": "markdown",
   "metadata": {},
   "source": [
    "Anteriormente vimos que si el vuelo es nacional o internacional es un buen diferenciador. Veamos entonces un guess pero separando entre estos."
   ]
  },
  {
   "cell_type": "code",
   "execution_count": 94,
   "metadata": {},
   "outputs": [
    {
     "name": "stdout",
     "output_type": "stream",
     "text": [
      "Precisión para vuelos internacionales: 0.22560819462227913\n",
      "Precisión para vuelos nacionales: 0.15057079478439647\n"
     ]
    }
   ],
   "source": [
    "internacional = data[data.TIPOVUELO=='I']\n",
    "nacional = data[data.TIPOVUELO!='I']\n",
    "\n",
    "guess_internacional = internacional.atraso_15.sum()/len(internacional)\n",
    "guess_nacional = nacional.atraso_15.sum()/len(nacional)\n",
    "\n",
    "print(f'Precisión para vuelos internacionales: {guess_internacional}')\n",
    "print(f'Precisión para vuelos nacionales: {guess_nacional}')"
   ]
  },
  {
   "cell_type": "markdown",
   "metadata": {},
   "source": [
    "Con estas reglas simples, mejora las precisión para vuelos internacionales pero decae la de nacionales. Veamos con modelos basados en machine learning"
   ]
  },
  {
   "cell_type": "markdown",
   "metadata": {},
   "source": [
    "# Logistic regression\n",
    "Veamos ahora un modelo de regresión logística, al ser un modelo simple pero que debería superar el baseline"
   ]
  },
  {
   "cell_type": "code",
   "execution_count": 215,
   "metadata": {},
   "outputs": [],
   "source": [
    "#Hyperparameter tuning for LogisticRegression\n",
    "#param_dist= {\n",
    "#    'C' : np.logspace(-4, 4, 20),\n",
    "#                }\n",
    "    \n",
    "\n",
    "#grid_search = GridSearchCV(LogisticRegression(), n_jobs=-1, param_grid =param_dist, cv = 5, scoring = 'average_precision' , verbose=5)\n",
    "#grid_search.fit(X_train,y_train)\n",
    "#print(grid_search.best_estimator_)\n",
    "\n",
    "#stop = timeit.default_timer()\n",
    "#print('Time: ', stop - start)"
   ]
  },
  {
   "cell_type": "code",
   "execution_count": 95,
   "metadata": {},
   "outputs": [
    {
     "data": {
      "text/plain": [
       "LogisticRegression(C=10000.0)"
      ]
     },
     "execution_count": 95,
     "metadata": {},
     "output_type": "execute_result"
    }
   ],
   "source": [
    "C=10000.0\n",
    "linear = LogisticRegression(C=C)\n",
    "linear.fit(X_train,y_train)          "
   ]
  },
  {
   "cell_type": "code",
   "execution_count": 146,
   "metadata": {},
   "outputs": [],
   "source": [
    "result = linear.predict_proba(X_test)\n",
    "y_pred = linear.predict(X_test)"
   ]
  },
  {
   "cell_type": "code",
   "execution_count": 104,
   "metadata": {},
   "outputs": [
    {
     "name": "stdout",
     "output_type": "stream",
     "text": [
      "Score del modelo de regresión logística: 0.29\n",
      "Precisión del modelo de regresión logística: 0.65\n"
     ]
    }
   ],
   "source": [
    "score_lin = round(custom_auc(y_test, result),2)\n",
    "prec_lin = round(precision_score(y_test,y_pred),2)\n",
    "print(f'Score del modelo de regresión logística: {score_lin}')\n",
    "print(f'Precisión del modelo de regresión logística: {prec_lin}')"
   ]
  },
  {
   "cell_type": "code",
   "execution_count": 113,
   "metadata": {},
   "outputs": [
    {
     "data": {
      "image/png": "[encoded data removed]",
      "text/plain": [
       "<Figure size 432x288 with 1 Axes>"
      ]
     },
     "metadata": {
      "needs_background": "light"
     },
     "output_type": "display_data"
    }
   ],
   "source": [
    "# Curva precision recall\n",
    "lr_fpr, lr_tpr, _ = precision_recall_curve(y_test, result[:,1])\n",
    "# plot the roc curve for the model\n",
    "plt.plot(lr_fpr, lr_tpr, marker='.', label='Logistic')\n",
    "# axis labels\n",
    "plt.xlabel('False Positive Rate')\n",
    "plt.ylabel('True Positive Rate')\n",
    "# show the legend\n",
    "plt.legend()\n",
    "# show the plot\n",
    "plt.show()"
   ]
  },
  {
   "cell_type": "markdown",
   "metadata": {},
   "source": [
    "La curva decae rápidamente, lo cual significa que, al mover el threshold de qué se considera un caso positivo, el modelo es incapaz de encontrar casos positivos verdaderos sin incurrir en falsos positivos."
   ]
  },
  {
   "cell_type": "code",
   "execution_count": 147,
   "metadata": {},
   "outputs": [
    {
     "data": {
      "image/png": "[encoded data removed]",
      "text/plain": [
       "<Figure size 432x288 with 2 Axes>"
      ]
     },
     "metadata": {
      "needs_background": "light"
     },
     "output_type": "display_data"
    }
   ],
   "source": [
    "import seaborn as sns\n",
    "#Veamos la matriz de confusión\n",
    "cf_matrix = confusion_matrix(y_test, y_pred)\n",
    "ax = sns.heatmap(cf_matrix, annot=True, cmap='Blues')\n",
    "\n",
    "ax.set_title('Matriz de confusión para modelo logístico');\n",
    "ax.set_xlabel('\\nPredicted Values')\n",
    "ax.set_ylabel('Actual Values ');\n",
    "\n",
    "## Ticket labels - List must be in alphabetical order\n",
    "ax.xaxis.set_ticklabels(['False','True'])\n",
    "ax.yaxis.set_ticklabels(['False','True'])\n",
    "\n",
    "## Display the visualization of the Confusion Matrix.\n",
    "plt.show()"
   ]
  },
  {
   "cell_type": "markdown",
   "metadata": {},
   "source": [
    "Para este modelo, se ve que tuvo una buena precisión pero un score bajo. Esto se refleja en la matriz de confusión, en que se ve que logra precisión alta prediciendo a costa de predecir pocos retrasos. Queremos un modelo que pueda predecir resultados con precisión, pero atrapando la mayor cantidad de vuelos retrasados posibles (lo que se dice, un buen recall). "
   ]
  },
  {
   "cell_type": "code",
   "execution_count": 114,
   "metadata": {},
   "outputs": [
    {
     "data": {
      "text/plain": [
       "['liner_model.joblib']"
      ]
     },
     "execution_count": 114,
     "metadata": {},
     "output_type": "execute_result"
    }
   ],
   "source": [
    "from joblib import dump, load\n",
    "dump(linear, 'liner_model.joblib') "
   ]
  },
  {
   "cell_type": "markdown",
   "metadata": {},
   "source": [
    "# LightGBM"
   ]
  },
  {
   "cell_type": "code",
   "execution_count": 115,
   "metadata": {},
   "outputs": [],
   "source": [
    "## Hyperparameter tuning for LightGBM algorithm\n",
    "#start = timeit.default_timer()\n",
    "#lgb_estimator = lgb.LGBMClassifier(boosting_type='gbdt', objective='binary')\n",
    "#param_dist = {\"max_depth\": [7],\n",
    "#          \"learning_rate\" : [0.01,0.05,0.08, 0.1],\n",
    "#           \"num_leaves\": [100,120, 150, 200],\n",
    "#           \"n_estimators\": [100,500,1000]\n",
    "#          }\n",
    "\n",
    "#grid_search = RandomizedSearchCV(lgb_estimator, n_jobs=-1, param_distributions=param_dist, cv = 5, scoring = 'average_precision', verbose=5)\n",
    "#grid_search.fit(X_train,y_train)\n",
    "#print(grid_search.best_estimator_)\n",
    "\n",
    "#stop = timeit.default_timer()\n",
    "#print('Time: ', stop - start)"
   ]
  },
  {
   "cell_type": "code",
   "execution_count": 138,
   "metadata": {},
   "outputs": [],
   "source": [
    "params = {\"max_depth\": 7, \"learning_rate\" : 0.01, \"num_leaves\": 120,  \"n_estimators\": 1000}"
   ]
  },
  {
   "cell_type": "code",
   "execution_count": 139,
   "metadata": {},
   "outputs": [],
   "source": [
    "light = lgb.LGBMClassifier(objective='binary',**params)"
   ]
  },
  {
   "cell_type": "code",
   "execution_count": 140,
   "metadata": {},
   "outputs": [
    {
     "data": {
      "text/plain": [
       "LGBMClassifier(learning_rate=0.01, max_depth=7, n_estimators=1000,\n",
       "               num_leaves=120, objective='binary')"
      ]
     },
     "execution_count": 140,
     "metadata": {},
     "output_type": "execute_result"
    }
   ],
   "source": [
    "light.fit(X_train,y_train)"
   ]
  },
  {
   "cell_type": "code",
   "execution_count": 149,
   "metadata": {},
   "outputs": [],
   "source": [
    "result=light.predict_proba(X_test)\n",
    "y_pred = light.predict(X_test)"
   ]
  },
  {
   "cell_type": "code",
   "execution_count": 142,
   "metadata": {},
   "outputs": [
    {
     "name": "stdout",
     "output_type": "stream",
     "text": [
      "Score del modelo LightGBM: 0.4433798811025872\n",
      "Precisión del modelo LightGBM: 0.6415770609318996\n"
     ]
    }
   ],
   "source": [
    "score_light = custom_auc(y_test, result)\n",
    "prec_light = precision_score(y_test, y_pred)\n",
    "print(f'Score del modelo LightGBM: {score_light}')\n",
    "print(f'Precisión del modelo LightGBM: {prec_light}')"
   ]
  },
  {
   "cell_type": "code",
   "execution_count": 161,
   "metadata": {},
   "outputs": [
    {
     "data": {
      "image/png": "[encoded data removed]",
      "text/plain": [
       "<Figure size 432x288 with 1 Axes>"
      ]
     },
     "metadata": {
      "needs_background": "light"
     },
     "output_type": "display_data"
    }
   ],
   "source": [
    "# Curva precision recall\n",
    "lr_fpr, lr_tpr, _ = precision_recall_curve(y_test, result[:,1])\n",
    "# plot the roc curve for the model\n",
    "plt.plot(lr_fpr, lr_tpr, marker='.', label='LightGBM')\n",
    "# axis labels\n",
    "plt.xlabel('False Positive Rate')\n",
    "plt.ylabel('True Positive Rate')\n",
    "# show the legend\n",
    "plt.legend()\n",
    "# show the plot\n",
    "plt.show()"
   ]
  },
  {
   "cell_type": "markdown",
   "metadata": {},
   "source": [
    "En este caso la curva desciende más suavamente que en el caso de regresión logística. Da mayor flexibilidad para elegir un threshold"
   ]
  },
  {
   "cell_type": "code",
   "execution_count": 150,
   "metadata": {},
   "outputs": [
    {
     "data": {
      "image/png": "[encoded data removed]",
      "text/plain": [
       "<Figure size 432x288 with 2 Axes>"
      ]
     },
     "metadata": {
      "needs_background": "light"
     },
     "output_type": "display_data"
    }
   ],
   "source": [
    "import seaborn as sns\n",
    "#Veamos la matriz de confusión\n",
    "cf_matrix = confusion_matrix(y_test, y_pred)\n",
    "ax = sns.heatmap(cf_matrix, annot=True, cmap='Blues')\n",
    "\n",
    "ax.set_title('Matriz de confusión para modelo lightgbm');\n",
    "ax.set_xlabel('\\nPredicted Values')\n",
    "ax.set_ylabel('Actual Values ');\n",
    "\n",
    "## Ticket labels - List must be in alphabetical order\n",
    "ax.xaxis.set_ticklabels(['False','True'])\n",
    "ax.yaxis.set_ticklabels(['False','True'])\n",
    "\n",
    "## Display the visualization of the Confusion Matrix.\n",
    "plt.show()"
   ]
  },
  {
   "cell_type": "markdown",
   "metadata": {},
   "source": [
    "Comparado con el modelo anterior, la precisión es similar. Esto es, acierta vuelos retrasados una similar fracción de veces respecto al modelo linear. Sin embargo, es capaz de encontrar una mayor cantidad de vuelos retrasados."
   ]
  },
  {
   "cell_type": "code",
   "execution_count": 153,
   "metadata": {},
   "outputs": [
    {
     "data": {
      "text/plain": [
       "['lightgbm_model.joblib']"
      ]
     },
     "execution_count": 153,
     "metadata": {},
     "output_type": "execute_result"
    }
   ],
   "source": [
    "#save model\n",
    "dump(light, 'lightgbm_model.joblib') "
   ]
  },
  {
   "cell_type": "markdown",
   "metadata": {},
   "source": [
    "# XGBOOST"
   ]
  },
  {
   "cell_type": "code",
   "execution_count": 151,
   "metadata": {},
   "outputs": [],
   "source": [
    "## Hyperparameter tuning for XGBoost algorithm\n",
    "\n",
    "#start = timeit.default_timer()\n",
    "#xgb_model = xgb.XGBClassifier()\n",
    "#param_dist = {\"max_depth\": [2,5,7,10],\n",
    "#           \"min_child_weight\" : [2,6,10,],\n",
    "#           \"n_estimators\": [100, 500],\n",
    "#           \"learning_rate\" : [0.01,0.05,0.08, 0.1, 0.5, 0.8]}\n",
    "#grid_search = RandomizedSearchCV(xgb_model, n_jobs=-1, param_distributions=param_dist,\n",
    "                                 #cv = 2, scoring = 'average_precision', verbose=10,n_iter=1)\n",
    "#grid_search.fit(X_train, y_train)\n",
    "#print(grid_search.best_estimator_)\n",
    "\n",
    "#stop = timeit.default_timer()\n",
    "#print('Time: ', stop - start)"
   ]
  },
  {
   "cell_type": "code",
   "execution_count": 154,
   "metadata": {},
   "outputs": [],
   "source": [
    "params = {\"max_depth\": 7, \"learning_rate\" : 0.01, \"num_leaves\": 120,  \"n_estimators\": 1000}"
   ]
  },
  {
   "cell_type": "code",
   "execution_count": 156,
   "metadata": {},
   "outputs": [
    {
     "name": "stdout",
     "output_type": "stream",
     "text": [
      "[11:48:01] WARNING: ../src/learner.cc:1115: Starting in XGBoost 1.3.0, the default evaluation metric used with the objective 'binary:logistic' was changed from 'error' to 'logloss'. Explicitly set eval_metric if you'd like to restore the old behavior.\n"
     ]
    }
   ],
   "source": [
    "boost = xgb.XGBClassifier()\n",
    "\n",
    "boost.fit(X_train,y_train)\n",
    "\n",
    "result=boost.predict_proba(X_test)\n",
    "y_pred = boost.predict(X_test)"
   ]
  },
  {
   "cell_type": "code",
   "execution_count": 160,
   "metadata": {},
   "outputs": [
    {
     "name": "stdout",
     "output_type": "stream",
     "text": [
      "Precisión del modelo Xgboost: 0.6125356125356125\n",
      "Score del modelo Xgboost: 0.4361931508414738\n"
     ]
    }
   ],
   "source": [
    "score_boost = custom_auc(y_test, result)\n",
    "prec_boost = precision_score(y_test, y_pred)\n",
    "print(f'Precisión del modelo Xgboost: {prec_boost}')\n",
    "print(f'Score del modelo Xgboost: {score_boost}')"
   ]
  },
  {
   "cell_type": "code",
   "execution_count": null,
   "metadata": {},
   "outputs": [],
   "source": []
  },
  {
   "cell_type": "markdown",
   "metadata": {},
   "source": [
    "En ambas métricas este modelo tiene peor performance que el LightGBM. No obstante, se debe tener en cuenta que no se realizó hyperparameter tuning, lo cual da lugar a que se podrían alcanzar mejores resultados con este modelo.\n"
   ]
  },
  {
   "cell_type": "code",
   "execution_count": 163,
   "metadata": {},
   "outputs": [
    {
     "data": {
      "image/png": "[encoded data removed]",
      "text/plain": [
       "<Figure size 432x288 with 1 Axes>"
      ]
     },
     "metadata": {
      "needs_background": "light"
     },
     "output_type": "display_data"
    }
   ],
   "source": [
    "# Curva precision recall\n",
    "lr_fpr, lr_tpr, _ = precision_recall_curve(y_test, result[:,1])\n",
    "# plot the roc curve for the model\n",
    "plt.plot(lr_fpr, lr_tpr, marker='.', label='XGboost')\n",
    "# axis labels\n",
    "plt.xlabel('False Positive Rate')\n",
    "plt.ylabel('True Positive Rate')\n",
    "# show the legend\n",
    "plt.legend()\n",
    "# show the plot\n",
    "plt.show()"
   ]
  },
  {
   "cell_type": "code",
   "execution_count": 165,
   "metadata": {},
   "outputs": [
    {
     "data": {
      "image/png": "[encoded data removed]",
      "text/plain": [
       "<Figure size 432x288 with 2 Axes>"
      ]
     },
     "metadata": {
      "needs_background": "light"
     },
     "output_type": "display_data"
    }
   ],
   "source": [
    "import seaborn as sns\n",
    "#Veamos la matriz de confusión\n",
    "cf_matrix = confusion_matrix(y_test, y_pred)\n",
    "ax = sns.heatmap(cf_matrix, annot=True, cmap='Blues')\n",
    "\n",
    "ax.set_title('Matriz de confusión para modelo Xgboost');\n",
    "ax.set_xlabel('\\nPredicted Values')\n",
    "ax.set_ylabel('Actual Values ');\n",
    "\n",
    "## Ticket labels - List must be in alphabetical order\n",
    "ax.xaxis.set_ticklabels(['False','True'])\n",
    "ax.yaxis.set_ticklabels(['False','True'])\n",
    "\n",
    "## Display the visualization of the Confusion Matrix.\n",
    "plt.show()"
   ]
  },
  {
   "cell_type": "markdown",
   "metadata": {},
   "source": [
    "Respecto del LightGBM, tuvo menor precisión. En la matriz de confusión se observa que el modelo es capaz, sin embargo, de encontrar más vuelos retrasados correctamente, a costa de predecir una mayor cantidad de falsos negativos. "
   ]
  },
  {
   "cell_type": "markdown",
   "metadata": {},
   "source": [
    "# Feature importance"
   ]
  },
  {
   "cell_type": "code",
   "execution_count": 216,
   "metadata": {},
   "outputs": [
    {
     "data": {
      "text/plain": [
       "Text(0.5, 0, 'Xgboost Feature Importance')"
      ]
     },
     "execution_count": 216,
     "metadata": {},
     "output_type": "execute_result"
    },
    {
     "data": {
      "image/png": "[encoded data removed]",
      "text/plain": [
       "<Figure size 432x288 with 1 Axes>"
      ]
     },
     "metadata": {
      "needs_background": "light"
     },
     "output_type": "display_data"
    }
   ],
   "source": [
    "sorted_idx = boost.feature_importances_.argsort()\n",
    "plt.barh(features[sorted_idx], boost.feature_importances_[sorted_idx])\n",
    "plt.xlabel(\"Xgboost Feature Importance\")"
   ]
  },
  {
   "cell_type": "code",
   "execution_count": 217,
   "metadata": {},
   "outputs": [
    {
     "data": {
      "text/plain": [
       "array([0.0452672 , 0.12654646, 0.07550272, 0.11965551, 0.07946724,\n",
       "       0.07455634, 0.13972503, 0.07407031, 0.09808096, 0.08791772,\n",
       "       0.07921057], dtype=float32)"
      ]
     },
     "execution_count": 217,
     "metadata": {},
     "output_type": "execute_result"
    }
   ],
   "source": [
    "boost.feature_importances_"
   ]
  },
  {
   "cell_type": "code",
   "execution_count": 218,
   "metadata": {},
   "outputs": [],
   "source": [
    "sorted_idx = light.feature_importances_.argsort()"
   ]
  },
  {
   "cell_type": "code",
   "execution_count": 219,
   "metadata": {},
   "outputs": [
    {
     "data": {
      "text/plain": [
       "array([  349, 12068, 25471, 18955, 12525,   759,  9130,  1519, 18035,\n",
       "        1760,  1148], dtype=int32)"
      ]
     },
     "execution_count": 219,
     "metadata": {},
     "output_type": "execute_result"
    }
   ],
   "source": [
    "light.feature_importances_"
   ]
  },
  {
   "cell_type": "code",
   "execution_count": 220,
   "metadata": {},
   "outputs": [
    {
     "data": {
      "text/plain": [
       "Text(0.5, 0, 'Lightgbm Feature Importance')"
      ]
     },
     "execution_count": 220,
     "metadata": {},
     "output_type": "execute_result"
    },
    {
     "data": {
      "image/png": "[encoded data removed]",
      "text/plain": [
       "<Figure size 432x288 with 1 Axes>"
      ]
     },
     "metadata": {
      "needs_background": "light"
     },
     "output_type": "display_data"
    }
   ],
   "source": [
    "plt.barh(features[sorted_idx], light.feature_importances_[sorted_idx])\n",
    "plt.xlabel(\"Lightgbm Feature Importance\")"
   ]
  },
  {
   "cell_type": "code",
   "execution_count": 223,
   "metadata": {},
   "outputs": [
    {
     "data": {
      "text/plain": [
       "Text(0.5, 0, 'Linear Regression Importance')"
      ]
     },
     "execution_count": 223,
     "metadata": {},
     "output_type": "execute_result"
    },
    {
     "data": {
      "image/png": "[encoded data removed]",
      "text/plain": [
       "<Figure size 432x288 with 1 Axes>"
      ]
     },
     "metadata": {
      "needs_background": "light"
     },
     "output_type": "display_data"
    }
   ],
   "source": [
    "importance = abs(linear.coef_[0])\n",
    "idx = abs(linear.coef_[0]).argsort()\n",
    "plt.barh(features[idx],abs(linear.coef_[0])[idx])\n",
    "plt.xlabel(\"Linear Regression Importance\")"
   ]
  },
  {
   "cell_type": "markdown",
   "metadata": {},
   "source": [
    "# Conclusiones pregunta 4 y posibles mejoras.\n",
    "\n",
    "Los modelos de ML performan mucho mejor que un guess, con lo que se puede justificar la necesidad de usar un approach de machine learning para el negocio. Los retrasos en vuelos generan costos en las aerolíneas, [estimadas en miles de millones de dólares](https://www.airlines.org/dataset/u-s-passenger-carrier-delay-costs/#:~:text=Assuming%20%2447%20per%20hour*%20as,2018%20to%20be%20%2428%20billion). Predecir cuándo van a ocurrir y conocer las causas para poder realizar cambios es fundamental para abaratar costos.\n",
    "\n",
    "Se justificó el uso de complementar la precisión como métrica con el área bajo la curva. Ser capaz de predecir con precisión que un vuelo tendrá retraso no es de utilidad si se dejan pasar vuelos retrasados, incurriendo en costos. Se puede usar la curva para elegir un threshold adecuado para el balance precision-recall deseado desde este punto de vista.\n",
    "\n",
    "Los modelos fueron capaces de reconocer los factores temporales y el destino como factores comunes que causan un retraso. El modelo de Xgboost, a diferencia de los otros dos, no atribuyó la aerolínea operadora como un feature de importancia, aunque cabe señalar que este modelo no pasó por un proceso de tuneo de hiperparámetros, así que no se pueden sacar conclusiones al respecto. Es importante afinar esto, dado que no solo es importante predecir cuándo habrá un retraso, sino tener insights que permitan comprender qué cambios se puede hacer que tengan impacto.\n",
    "\n",
    "Entre las posibles mejoras están:\n",
    "\n",
    "- Estudiar por separado cuándo y por qué los vuelos se adelantan.\n",
    "- Agregar variables meteorológicas \n",
    "- Tener en cuenta desbalance. La mayor parte de los vuelos no tienen retraso, aunque el desbalance no es tan grande. Se pueden usar distintos métodos para manejar el desbalance (ej upsampling, usar metodos de librerias como imblearn) o tener en cuenta métricas especializadas al respecto (ej. f1-micro vs f1-macro).\n",
    "- Usar LSTM o GRU para tener en cuenta factor de orden temporal. El factor temporal claramente afecta porque 1) los factores climáticos que causan retrasos tienen un periodo anual 2) Si hay retrasos en vuelos, se puede producir un efecto cascada que retrase los siguientes.\n",
    "- Tomar como problema de regresion, calculando el tiempo de retraso en lugar de una variable binaria.\n",
    "- Usar GridSearch en lugar de RandomSearch da mejores resultados, pero toma más tiempo.\n",
    "- Usar hyperparameter tuning para XGBOOST, que aquí se dejó de lado por cuestiones de tiempo.\n",
    "- Experimentar con otros scalings y encodings en el pipeline de transformación.\n",
    "- Usar un scoring custom para hyperparameter tuning\n"
   ]
  },
  {
   "cell_type": "code",
   "execution_count": null,
   "metadata": {},
   "outputs": [],
   "source": []
  }
 ],
 "metadata": {
  "kernelspec": {
   "display_name": "Python 3 (ipykernel)",
   "language": "python",
   "name": "python3"
  },
  "language_info": {
   "codemirror_mode": {
    "name": "ipython",
    "version": 3
   },
   "file_extension": ".py",
   "mimetype": "text/x-python",
   "name": "python",
   "nbconvert_exporter": "python",
   "pygments_lexer": "ipython3",
   "version": "3.8.8"
  }
 },
 "nbformat": 4,
 "nbformat_minor": 4
}
