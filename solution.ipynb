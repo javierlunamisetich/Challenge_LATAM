{
 "cells": [
  {
   "cell_type": "code",
   "execution_count": 433,
   "metadata": {},
   "outputs": [],
   "source": [
    "import pandas as pd\n",
    "import matplotlib.pyplot as plt\n",
    "import seaborn as sns"
   ]
  },
  {
   "cell_type": "code",
   "execution_count": 434,
   "metadata": {},
   "outputs": [
    {
     "data": {
      "text/html": [
       "<div>\n",
       "<style scoped>\n",
       "    .dataframe tbody tr th:only-of-type {\n",
       "        vertical-align: middle;\n",
       "    }\n",
       "\n",
       "    .dataframe tbody tr th {\n",
       "        vertical-align: top;\n",
       "    }\n",
       "\n",
       "    .dataframe thead th {\n",
       "        text-align: right;\n",
       "    }\n",
       "</style>\n",
       "<table border=\"1\" class=\"dataframe\">\n",
       "  <thead>\n",
       "    <tr style=\"text-align: right;\">\n",
       "      <th></th>\n",
       "      <th>Fecha-I</th>\n",
       "      <th>Vlo-I</th>\n",
       "      <th>Ori-I</th>\n",
       "      <th>Des-I</th>\n",
       "      <th>Emp-I</th>\n",
       "      <th>Fecha-O</th>\n",
       "      <th>Vlo-O</th>\n",
       "      <th>Ori-O</th>\n",
       "      <th>Des-O</th>\n",
       "      <th>Emp-O</th>\n",
       "      <th>...</th>\n",
       "      <th>SIGLAORI</th>\n",
       "      <th>SIGLADES</th>\n",
       "      <th>year</th>\n",
       "      <th>month</th>\n",
       "      <th>hour</th>\n",
       "      <th>temporada_alta</th>\n",
       "      <th>dif_min</th>\n",
       "      <th>atraso_15</th>\n",
       "      <th>periodo_dia</th>\n",
       "      <th>day</th>\n",
       "    </tr>\n",
       "  </thead>\n",
       "  <tbody>\n",
       "    <tr>\n",
       "      <th>0</th>\n",
       "      <td>2017-01-01 23:30:00</td>\n",
       "      <td>226</td>\n",
       "      <td>SCEL</td>\n",
       "      <td>KMIA</td>\n",
       "      <td>AAL</td>\n",
       "      <td>2017-01-01 23:33:00</td>\n",
       "      <td>226</td>\n",
       "      <td>SCEL</td>\n",
       "      <td>KMIA</td>\n",
       "      <td>AAL</td>\n",
       "      <td>...</td>\n",
       "      <td>Santiago</td>\n",
       "      <td>Miami</td>\n",
       "      <td>2017</td>\n",
       "      <td>1</td>\n",
       "      <td>23</td>\n",
       "      <td>0</td>\n",
       "      <td>3.0</td>\n",
       "      <td>0</td>\n",
       "      <td>noche</td>\n",
       "      <td>1</td>\n",
       "    </tr>\n",
       "    <tr>\n",
       "      <th>1</th>\n",
       "      <td>2017-01-02 23:30:00</td>\n",
       "      <td>226</td>\n",
       "      <td>SCEL</td>\n",
       "      <td>KMIA</td>\n",
       "      <td>AAL</td>\n",
       "      <td>2017-01-02 23:39:00</td>\n",
       "      <td>226</td>\n",
       "      <td>SCEL</td>\n",
       "      <td>KMIA</td>\n",
       "      <td>AAL</td>\n",
       "      <td>...</td>\n",
       "      <td>Santiago</td>\n",
       "      <td>Miami</td>\n",
       "      <td>2017</td>\n",
       "      <td>1</td>\n",
       "      <td>23</td>\n",
       "      <td>0</td>\n",
       "      <td>9.0</td>\n",
       "      <td>0</td>\n",
       "      <td>noche</td>\n",
       "      <td>2</td>\n",
       "    </tr>\n",
       "    <tr>\n",
       "      <th>2</th>\n",
       "      <td>2017-01-03 23:30:00</td>\n",
       "      <td>226</td>\n",
       "      <td>SCEL</td>\n",
       "      <td>KMIA</td>\n",
       "      <td>AAL</td>\n",
       "      <td>2017-01-03 23:39:00</td>\n",
       "      <td>226</td>\n",
       "      <td>SCEL</td>\n",
       "      <td>KMIA</td>\n",
       "      <td>AAL</td>\n",
       "      <td>...</td>\n",
       "      <td>Santiago</td>\n",
       "      <td>Miami</td>\n",
       "      <td>2017</td>\n",
       "      <td>1</td>\n",
       "      <td>23</td>\n",
       "      <td>0</td>\n",
       "      <td>9.0</td>\n",
       "      <td>0</td>\n",
       "      <td>noche</td>\n",
       "      <td>3</td>\n",
       "    </tr>\n",
       "    <tr>\n",
       "      <th>3</th>\n",
       "      <td>2017-01-04 23:30:00</td>\n",
       "      <td>226</td>\n",
       "      <td>SCEL</td>\n",
       "      <td>KMIA</td>\n",
       "      <td>AAL</td>\n",
       "      <td>2017-01-04 23:33:00</td>\n",
       "      <td>226</td>\n",
       "      <td>SCEL</td>\n",
       "      <td>KMIA</td>\n",
       "      <td>AAL</td>\n",
       "      <td>...</td>\n",
       "      <td>Santiago</td>\n",
       "      <td>Miami</td>\n",
       "      <td>2017</td>\n",
       "      <td>1</td>\n",
       "      <td>23</td>\n",
       "      <td>0</td>\n",
       "      <td>3.0</td>\n",
       "      <td>0</td>\n",
       "      <td>noche</td>\n",
       "      <td>4</td>\n",
       "    </tr>\n",
       "    <tr>\n",
       "      <th>4</th>\n",
       "      <td>2017-01-05 23:30:00</td>\n",
       "      <td>226</td>\n",
       "      <td>SCEL</td>\n",
       "      <td>KMIA</td>\n",
       "      <td>AAL</td>\n",
       "      <td>2017-01-05 23:28:00</td>\n",
       "      <td>226</td>\n",
       "      <td>SCEL</td>\n",
       "      <td>KMIA</td>\n",
       "      <td>AAL</td>\n",
       "      <td>...</td>\n",
       "      <td>Santiago</td>\n",
       "      <td>Miami</td>\n",
       "      <td>2017</td>\n",
       "      <td>1</td>\n",
       "      <td>23</td>\n",
       "      <td>0</td>\n",
       "      <td>-2.0</td>\n",
       "      <td>0</td>\n",
       "      <td>noche</td>\n",
       "      <td>5</td>\n",
       "    </tr>\n",
       "    <tr>\n",
       "      <th>...</th>\n",
       "      <td>...</td>\n",
       "      <td>...</td>\n",
       "      <td>...</td>\n",
       "      <td>...</td>\n",
       "      <td>...</td>\n",
       "      <td>...</td>\n",
       "      <td>...</td>\n",
       "      <td>...</td>\n",
       "      <td>...</td>\n",
       "      <td>...</td>\n",
       "      <td>...</td>\n",
       "      <td>...</td>\n",
       "      <td>...</td>\n",
       "      <td>...</td>\n",
       "      <td>...</td>\n",
       "      <td>...</td>\n",
       "      <td>...</td>\n",
       "      <td>...</td>\n",
       "      <td>...</td>\n",
       "      <td>...</td>\n",
       "      <td>...</td>\n",
       "    </tr>\n",
       "    <tr>\n",
       "      <th>68201</th>\n",
       "      <td>2017-12-22 14:55:00</td>\n",
       "      <td>400</td>\n",
       "      <td>SCEL</td>\n",
       "      <td>SPJC</td>\n",
       "      <td>JAT</td>\n",
       "      <td>2017-12-22 15:41:00</td>\n",
       "      <td>400.0</td>\n",
       "      <td>SCEL</td>\n",
       "      <td>SPJC</td>\n",
       "      <td>JAT</td>\n",
       "      <td>...</td>\n",
       "      <td>Santiago</td>\n",
       "      <td>Lima</td>\n",
       "      <td>2017</td>\n",
       "      <td>12</td>\n",
       "      <td>14</td>\n",
       "      <td>0</td>\n",
       "      <td>46.0</td>\n",
       "      <td>1</td>\n",
       "      <td>tarde</td>\n",
       "      <td>22</td>\n",
       "    </tr>\n",
       "    <tr>\n",
       "      <th>68202</th>\n",
       "      <td>2017-12-25 14:55:00</td>\n",
       "      <td>400</td>\n",
       "      <td>SCEL</td>\n",
       "      <td>SPJC</td>\n",
       "      <td>JAT</td>\n",
       "      <td>2017-12-25 15:11:00</td>\n",
       "      <td>400.0</td>\n",
       "      <td>SCEL</td>\n",
       "      <td>SPJC</td>\n",
       "      <td>JAT</td>\n",
       "      <td>...</td>\n",
       "      <td>Santiago</td>\n",
       "      <td>Lima</td>\n",
       "      <td>2017</td>\n",
       "      <td>12</td>\n",
       "      <td>14</td>\n",
       "      <td>0</td>\n",
       "      <td>16.0</td>\n",
       "      <td>1</td>\n",
       "      <td>tarde</td>\n",
       "      <td>25</td>\n",
       "    </tr>\n",
       "    <tr>\n",
       "      <th>68203</th>\n",
       "      <td>2017-12-27 14:55:00</td>\n",
       "      <td>400</td>\n",
       "      <td>SCEL</td>\n",
       "      <td>SPJC</td>\n",
       "      <td>JAT</td>\n",
       "      <td>2017-12-27 15:35:00</td>\n",
       "      <td>400.0</td>\n",
       "      <td>SCEL</td>\n",
       "      <td>SPJC</td>\n",
       "      <td>JAT</td>\n",
       "      <td>...</td>\n",
       "      <td>Santiago</td>\n",
       "      <td>Lima</td>\n",
       "      <td>2017</td>\n",
       "      <td>12</td>\n",
       "      <td>14</td>\n",
       "      <td>0</td>\n",
       "      <td>40.0</td>\n",
       "      <td>1</td>\n",
       "      <td>tarde</td>\n",
       "      <td>27</td>\n",
       "    </tr>\n",
       "    <tr>\n",
       "      <th>68204</th>\n",
       "      <td>2017-12-29 14:55:00</td>\n",
       "      <td>400</td>\n",
       "      <td>SCEL</td>\n",
       "      <td>SPJC</td>\n",
       "      <td>JAT</td>\n",
       "      <td>2017-12-29 15:08:00</td>\n",
       "      <td>400.0</td>\n",
       "      <td>SCEL</td>\n",
       "      <td>SPJC</td>\n",
       "      <td>JAT</td>\n",
       "      <td>...</td>\n",
       "      <td>Santiago</td>\n",
       "      <td>Lima</td>\n",
       "      <td>2017</td>\n",
       "      <td>12</td>\n",
       "      <td>14</td>\n",
       "      <td>0</td>\n",
       "      <td>13.0</td>\n",
       "      <td>0</td>\n",
       "      <td>tarde</td>\n",
       "      <td>29</td>\n",
       "    </tr>\n",
       "    <tr>\n",
       "      <th>68205</th>\n",
       "      <td>2017-12-31 14:55:00</td>\n",
       "      <td>400</td>\n",
       "      <td>SCEL</td>\n",
       "      <td>SPJC</td>\n",
       "      <td>JAT</td>\n",
       "      <td>2017-12-31 15:04:00</td>\n",
       "      <td>400.0</td>\n",
       "      <td>SCEL</td>\n",
       "      <td>SPJC</td>\n",
       "      <td>JAT</td>\n",
       "      <td>...</td>\n",
       "      <td>Santiago</td>\n",
       "      <td>Lima</td>\n",
       "      <td>2017</td>\n",
       "      <td>12</td>\n",
       "      <td>14</td>\n",
       "      <td>0</td>\n",
       "      <td>9.0</td>\n",
       "      <td>0</td>\n",
       "      <td>tarde</td>\n",
       "      <td>31</td>\n",
       "    </tr>\n",
       "  </tbody>\n",
       "</table>\n",
       "<p>68206 rows × 26 columns</p>\n",
       "</div>"
      ],
      "text/plain": [
       "                  Fecha-I Vlo-I Ori-I Des-I Emp-I             Fecha-O  Vlo-O  \\\n",
       "0     2017-01-01 23:30:00   226  SCEL  KMIA   AAL 2017-01-01 23:33:00    226   \n",
       "1     2017-01-02 23:30:00   226  SCEL  KMIA   AAL 2017-01-02 23:39:00    226   \n",
       "2     2017-01-03 23:30:00   226  SCEL  KMIA   AAL 2017-01-03 23:39:00    226   \n",
       "3     2017-01-04 23:30:00   226  SCEL  KMIA   AAL 2017-01-04 23:33:00    226   \n",
       "4     2017-01-05 23:30:00   226  SCEL  KMIA   AAL 2017-01-05 23:28:00    226   \n",
       "...                   ...   ...   ...   ...   ...                 ...    ...   \n",
       "68201 2017-12-22 14:55:00   400  SCEL  SPJC   JAT 2017-12-22 15:41:00  400.0   \n",
       "68202 2017-12-25 14:55:00   400  SCEL  SPJC   JAT 2017-12-25 15:11:00  400.0   \n",
       "68203 2017-12-27 14:55:00   400  SCEL  SPJC   JAT 2017-12-27 15:35:00  400.0   \n",
       "68204 2017-12-29 14:55:00   400  SCEL  SPJC   JAT 2017-12-29 15:08:00  400.0   \n",
       "68205 2017-12-31 14:55:00   400  SCEL  SPJC   JAT 2017-12-31 15:04:00  400.0   \n",
       "\n",
       "      Ori-O Des-O Emp-O  ...  SIGLAORI  SIGLADES  year month hour  \\\n",
       "0      SCEL  KMIA   AAL  ...  Santiago     Miami  2017     1   23   \n",
       "1      SCEL  KMIA   AAL  ...  Santiago     Miami  2017     1   23   \n",
       "2      SCEL  KMIA   AAL  ...  Santiago     Miami  2017     1   23   \n",
       "3      SCEL  KMIA   AAL  ...  Santiago     Miami  2017     1   23   \n",
       "4      SCEL  KMIA   AAL  ...  Santiago     Miami  2017     1   23   \n",
       "...     ...   ...   ...  ...       ...       ...   ...   ...  ...   \n",
       "68201  SCEL  SPJC   JAT  ...  Santiago      Lima  2017    12   14   \n",
       "68202  SCEL  SPJC   JAT  ...  Santiago      Lima  2017    12   14   \n",
       "68203  SCEL  SPJC   JAT  ...  Santiago      Lima  2017    12   14   \n",
       "68204  SCEL  SPJC   JAT  ...  Santiago      Lima  2017    12   14   \n",
       "68205  SCEL  SPJC   JAT  ...  Santiago      Lima  2017    12   14   \n",
       "\n",
       "      temporada_alta dif_min atraso_15  periodo_dia  day  \n",
       "0                  0     3.0         0        noche    1  \n",
       "1                  0     9.0         0        noche    2  \n",
       "2                  0     9.0         0        noche    3  \n",
       "3                  0     3.0         0        noche    4  \n",
       "4                  0    -2.0         0        noche    5  \n",
       "...              ...     ...       ...          ...  ...  \n",
       "68201              0    46.0         1        tarde   22  \n",
       "68202              0    16.0         1        tarde   25  \n",
       "68203              0    40.0         1        tarde   27  \n",
       "68204              0    13.0         0        tarde   29  \n",
       "68205              0     9.0         0        tarde   31  \n",
       "\n",
       "[68206 rows x 26 columns]"
      ]
     },
     "execution_count": 434,
     "metadata": {},
     "output_type": "execute_result"
    }
   ],
   "source": [
    "data"
   ]
  },
  {
   "cell_type": "code",
   "execution_count": 435,
   "metadata": {},
   "outputs": [
    {
     "name": "stdout",
     "output_type": "stream",
     "text": [
      "(68206, 26)\n"
     ]
    },
    {
     "name": "stderr",
     "output_type": "stream",
     "text": [
      "/usr/lib/python3/dist-packages/IPython/core/interactiveshell.py:3254: DtypeWarning: Columns (1,6) have mixed types.Specify dtype option on import or set low_memory=False.\n",
      "  if (await self.run_code(code, result,  async_=asy)):\n"
     ]
    },
    {
     "data": {
      "text/html": [
       "<div>\n",
       "<style scoped>\n",
       "    .dataframe tbody tr th:only-of-type {\n",
       "        vertical-align: middle;\n",
       "    }\n",
       "\n",
       "    .dataframe tbody tr th {\n",
       "        vertical-align: top;\n",
       "    }\n",
       "\n",
       "    .dataframe thead th {\n",
       "        text-align: right;\n",
       "    }\n",
       "</style>\n",
       "<table border=\"1\" class=\"dataframe\">\n",
       "  <thead>\n",
       "    <tr style=\"text-align: right;\">\n",
       "      <th></th>\n",
       "      <th>Fecha-I</th>\n",
       "      <th>Vlo-I</th>\n",
       "      <th>Ori-I</th>\n",
       "      <th>Des-I</th>\n",
       "      <th>Emp-I</th>\n",
       "      <th>Fecha-O</th>\n",
       "      <th>Vlo-O</th>\n",
       "      <th>Ori-O</th>\n",
       "      <th>Des-O</th>\n",
       "      <th>Emp-O</th>\n",
       "      <th>...</th>\n",
       "      <th>SIGLAORI</th>\n",
       "      <th>SIGLADES</th>\n",
       "      <th>year</th>\n",
       "      <th>month</th>\n",
       "      <th>hour</th>\n",
       "      <th>temporada_alta</th>\n",
       "      <th>dif_min</th>\n",
       "      <th>atraso_15</th>\n",
       "      <th>periodo_dia</th>\n",
       "      <th>day</th>\n",
       "    </tr>\n",
       "  </thead>\n",
       "  <tbody>\n",
       "    <tr>\n",
       "      <th>0</th>\n",
       "      <td>2017-01-01 23:30:00</td>\n",
       "      <td>226</td>\n",
       "      <td>SCEL</td>\n",
       "      <td>KMIA</td>\n",
       "      <td>AAL</td>\n",
       "      <td>2017-01-01 23:33:00</td>\n",
       "      <td>226</td>\n",
       "      <td>SCEL</td>\n",
       "      <td>KMIA</td>\n",
       "      <td>AAL</td>\n",
       "      <td>...</td>\n",
       "      <td>Santiago</td>\n",
       "      <td>Miami</td>\n",
       "      <td>2017</td>\n",
       "      <td>1</td>\n",
       "      <td>23</td>\n",
       "      <td>0</td>\n",
       "      <td>3.0</td>\n",
       "      <td>0</td>\n",
       "      <td>noche</td>\n",
       "      <td>1</td>\n",
       "    </tr>\n",
       "    <tr>\n",
       "      <th>1</th>\n",
       "      <td>2017-01-02 23:30:00</td>\n",
       "      <td>226</td>\n",
       "      <td>SCEL</td>\n",
       "      <td>KMIA</td>\n",
       "      <td>AAL</td>\n",
       "      <td>2017-01-02 23:39:00</td>\n",
       "      <td>226</td>\n",
       "      <td>SCEL</td>\n",
       "      <td>KMIA</td>\n",
       "      <td>AAL</td>\n",
       "      <td>...</td>\n",
       "      <td>Santiago</td>\n",
       "      <td>Miami</td>\n",
       "      <td>2017</td>\n",
       "      <td>1</td>\n",
       "      <td>23</td>\n",
       "      <td>0</td>\n",
       "      <td>9.0</td>\n",
       "      <td>0</td>\n",
       "      <td>noche</td>\n",
       "      <td>2</td>\n",
       "    </tr>\n",
       "    <tr>\n",
       "      <th>2</th>\n",
       "      <td>2017-01-03 23:30:00</td>\n",
       "      <td>226</td>\n",
       "      <td>SCEL</td>\n",
       "      <td>KMIA</td>\n",
       "      <td>AAL</td>\n",
       "      <td>2017-01-03 23:39:00</td>\n",
       "      <td>226</td>\n",
       "      <td>SCEL</td>\n",
       "      <td>KMIA</td>\n",
       "      <td>AAL</td>\n",
       "      <td>...</td>\n",
       "      <td>Santiago</td>\n",
       "      <td>Miami</td>\n",
       "      <td>2017</td>\n",
       "      <td>1</td>\n",
       "      <td>23</td>\n",
       "      <td>0</td>\n",
       "      <td>9.0</td>\n",
       "      <td>0</td>\n",
       "      <td>noche</td>\n",
       "      <td>3</td>\n",
       "    </tr>\n",
       "    <tr>\n",
       "      <th>3</th>\n",
       "      <td>2017-01-04 23:30:00</td>\n",
       "      <td>226</td>\n",
       "      <td>SCEL</td>\n",
       "      <td>KMIA</td>\n",
       "      <td>AAL</td>\n",
       "      <td>2017-01-04 23:33:00</td>\n",
       "      <td>226</td>\n",
       "      <td>SCEL</td>\n",
       "      <td>KMIA</td>\n",
       "      <td>AAL</td>\n",
       "      <td>...</td>\n",
       "      <td>Santiago</td>\n",
       "      <td>Miami</td>\n",
       "      <td>2017</td>\n",
       "      <td>1</td>\n",
       "      <td>23</td>\n",
       "      <td>0</td>\n",
       "      <td>3.0</td>\n",
       "      <td>0</td>\n",
       "      <td>noche</td>\n",
       "      <td>4</td>\n",
       "    </tr>\n",
       "    <tr>\n",
       "      <th>4</th>\n",
       "      <td>2017-01-05 23:30:00</td>\n",
       "      <td>226</td>\n",
       "      <td>SCEL</td>\n",
       "      <td>KMIA</td>\n",
       "      <td>AAL</td>\n",
       "      <td>2017-01-05 23:28:00</td>\n",
       "      <td>226</td>\n",
       "      <td>SCEL</td>\n",
       "      <td>KMIA</td>\n",
       "      <td>AAL</td>\n",
       "      <td>...</td>\n",
       "      <td>Santiago</td>\n",
       "      <td>Miami</td>\n",
       "      <td>2017</td>\n",
       "      <td>1</td>\n",
       "      <td>23</td>\n",
       "      <td>0</td>\n",
       "      <td>-2.0</td>\n",
       "      <td>0</td>\n",
       "      <td>noche</td>\n",
       "      <td>5</td>\n",
       "    </tr>\n",
       "  </tbody>\n",
       "</table>\n",
       "<p>5 rows × 26 columns</p>\n",
       "</div>"
      ],
      "text/plain": [
       "              Fecha-I Vlo-I Ori-I Des-I Emp-I             Fecha-O Vlo-O Ori-O  \\\n",
       "0 2017-01-01 23:30:00   226  SCEL  KMIA   AAL 2017-01-01 23:33:00   226  SCEL   \n",
       "1 2017-01-02 23:30:00   226  SCEL  KMIA   AAL 2017-01-02 23:39:00   226  SCEL   \n",
       "2 2017-01-03 23:30:00   226  SCEL  KMIA   AAL 2017-01-03 23:39:00   226  SCEL   \n",
       "3 2017-01-04 23:30:00   226  SCEL  KMIA   AAL 2017-01-04 23:33:00   226  SCEL   \n",
       "4 2017-01-05 23:30:00   226  SCEL  KMIA   AAL 2017-01-05 23:28:00   226  SCEL   \n",
       "\n",
       "  Des-O Emp-O  ...  SIGLAORI  SIGLADES  year month hour temporada_alta  \\\n",
       "0  KMIA   AAL  ...  Santiago     Miami  2017     1   23              0   \n",
       "1  KMIA   AAL  ...  Santiago     Miami  2017     1   23              0   \n",
       "2  KMIA   AAL  ...  Santiago     Miami  2017     1   23              0   \n",
       "3  KMIA   AAL  ...  Santiago     Miami  2017     1   23              0   \n",
       "4  KMIA   AAL  ...  Santiago     Miami  2017     1   23              0   \n",
       "\n",
       "  dif_min atraso_15  periodo_dia  day  \n",
       "0     3.0         0        noche    1  \n",
       "1     9.0         0        noche    2  \n",
       "2     9.0         0        noche    3  \n",
       "3     3.0         0        noche    4  \n",
       "4    -2.0         0        noche    5  \n",
       "\n",
       "[5 rows x 26 columns]"
      ]
     },
     "execution_count": 435,
     "metadata": {},
     "output_type": "execute_result"
    }
   ],
   "source": [
    "# load dataset\n",
    "\n",
    "def load_data(path):\n",
    "    data = pd.read_csv(path)\n",
    "    data['Fecha-I'] = pd.to_datetime(data['Fecha-I'], format=\"%Y/%m/%d %H:%M:%S\")\n",
    "    data['Fecha-O'] = pd.to_datetime(data['Fecha-O'], format=\"%Y/%m/%d %H:%M:%S\")\n",
    "    data = data.sort_values(by='Fecha-I')\n",
    "\n",
    "    return data\n",
    "\n",
    "load_data('dataset_SCL.csv')\n",
    "\n",
    "# rows and columns of the data\n",
    "print(data.shape)\n",
    "\n",
    "# visualise the dataset\n",
    "data.head()"
   ]
  },
  {
   "cell_type": "code",
   "execution_count": 436,
   "metadata": {},
   "outputs": [],
   "source": [
    "def is_temporada_alta(fecha):\n",
    "    if (\n",
    "        date(2017, 12, 15) < fecha < date(2017, 3, 3) or\n",
    "        date(2017, 7, 15) < fecha < date(2017, 7, 31) or\n",
    "        date(2017, 9, 11) < fecha < date(2017, 9, 30)\n",
    "        ):\n",
    "        \n",
    "        return True\n",
    "    else:\n",
    "        return False\n",
    "\n",
    "def get_minutes_difference(row):\n",
    "    return (row['Fecha-O']-row['Fecha-I']).total_seconds() / 60\n",
    "\n",
    "\n",
    "def periodo_dia(hora):\n",
    "    if hora >= 5 and hora < 12:\n",
    "        return 'mañana'\n",
    "    \n",
    "    elif hora >=12 and hora < 19:\n",
    "        return 'tarde'\n",
    "    \n",
    "    else:\n",
    "        return 'noche'\n",
    "\n",
    "def create_feature_dif_min(data):\n",
    "    df = data.copy()\n",
    "    df['dif_min'] = df.apply(lambda x: get_minutes_difference(x),axis=1)\n",
    "    return df\n",
    "\n",
    "def create_feature_atraso_15(data):\n",
    "    df = data.copy()\n",
    "    df['atraso_15'] = df['dif_min'].apply(lambda x: 1 if x > 15 else 0)\n",
    "    \n",
    "    return df\n",
    "\n",
    "def create_feature_temporada_alta(data):\n",
    "    df = data.copy()\n",
    "    df['temporada_alta'] = data['Fecha-I'].apply(lambda x: 1 if is_temporada_alta(x) else 0)\n",
    "    \n",
    "    return df\n",
    "\n",
    "\n",
    "def create_time_features(data):\n",
    "    \n",
    "    df = data.copy()\n",
    "    \n",
    "    #df['year'] = pd.DatetimeIndex(data['Fecha-I']).year\n",
    "    #df['month'] = pd.DatetimeIndex(data['Fecha-I']).month\n",
    "    df['hour'] = pd.DatetimeIndex(data['Fecha-I']).hour\n",
    "    #df['day'] = pd.DatetimeIndex(data['Fecha-I']).day\n",
    "\n",
    "\n",
    "    return df\n",
    "\n",
    "def create_feature_periodo_dia(data):\n",
    "    df = data.copy()\n",
    "    \n",
    "    df['periodo_dia'] = df['hour'].apply(lambda x: periodo_dia(x)) \n",
    "    \n",
    "    return df\n",
    "\n",
    "def create_syntethic_features(data):\n",
    "    df = data.copy()\n",
    "    \n",
    "    df = create_feature_temporada_alta(df)\n",
    "    df = create_feature_dif_min(df)                                     \n",
    "    df = create_feature_atraso_15(df)\n",
    "    df = create_feature_periodo_dia(df)\n",
    "    \n",
    "    return df"
   ]
  },
  {
   "cell_type": "code",
   "execution_count": 437,
   "metadata": {},
   "outputs": [],
   "source": [
    "data = create_time_features(data)\n",
    "data = create_syntethic_features(data)"
   ]
  },
  {
   "cell_type": "code",
   "execution_count": 438,
   "metadata": {},
   "outputs": [
    {
     "data": {
      "text/plain": [
       "0         1\n",
       "1         2\n",
       "2         3\n",
       "3         4\n",
       "4         5\n",
       "         ..\n",
       "68201    22\n",
       "68202    25\n",
       "68203    27\n",
       "68204    29\n",
       "68205    31\n",
       "Name: day, Length: 68206, dtype: int64"
      ]
     },
     "execution_count": 438,
     "metadata": {},
     "output_type": "execute_result"
    }
   ],
   "source": [
    "data.day"
   ]
  },
  {
   "cell_type": "code",
   "execution_count": 439,
   "metadata": {},
   "outputs": [],
   "source": [
    "def save_syntethic_features(data, path):\n",
    "    SYNTHETIC_FEATURES = ['temporada_alta', 'dif_min', 'atraso_15', 'periodo_dia']\n",
    "    \n",
    "    data[SYNTHETIC_FEATURES].to_csv(path, index=False)\n",
    "    \n",
    "    return None"
   ]
  },
  {
   "cell_type": "code",
   "execution_count": 440,
   "metadata": {},
   "outputs": [],
   "source": [
    "save_syntethic_features(data,'synthetic_features.csv')"
   ]
  },
  {
   "cell_type": "markdown",
   "metadata": {},
   "source": [
    "## Analysis\n",
    "\n",
    "**We will analyse the following:**\n",
    "\n",
    "1. The target variable\n",
    "2. Variable types (categorical and numerical)\n",
    "3. Missing data\n",
    "4. Numerical variables\n",
    "    - Discrete\n",
    "    - Continuous\n",
    "    - Distributions\n",
    "    - Transformations\n",
    "\n",
    "5. Categorical variables\n",
    "    - Cardinality\n",
    "    - Rare Labels\n",
    "    - Special mappings\n",
    "    \n",
    "6. Additional Reading Resources\n",
    "\n",
    "## Target (Retraso)\n",
    "\n",
    "Empecemos por el retraso"
   ]
  },
  {
   "cell_type": "code",
   "execution_count": 441,
   "metadata": {},
   "outputs": [
    {
     "data": {
      "image/png": "[encoded data removed]",
      "text/plain": [
       "<Figure size 432x288 with 1 Axes>"
      ]
     },
     "metadata": {
      "needs_background": "light"
     },
     "output_type": "display_data"
    }
   ],
   "source": [
    "# histogram to evaluate target distribution\n",
    "\n",
    "data['dif_min'].hist(bins=50, density=True)\n",
    "plt.ylabel('Number of flights')\n",
    "plt.xlabel('Delay (in minutes)')\n",
    "plt.show()"
   ]
  },
  {
   "cell_type": "markdown",
   "metadata": {},
   "source": [
    "Tal como se espera, la distribución esta centrada en 0 y decae en ambas direcciones. Existe vuelos que no se retrasan, sino que se adelantan."
   ]
  },
  {
   "cell_type": "code",
   "execution_count": 442,
   "metadata": {},
   "outputs": [
    {
     "name": "stdout",
     "output_type": "stream",
     "text": [
      "El 26.26% de los vuelos salen adelantados\n"
     ]
    }
   ],
   "source": [
    "percent_vuelos_adelantados = round(100*len(data[data.dif_min < 0])/len(data),2) \n",
    "print(f'El {percent_vuelos_adelantados}% de los vuelos salen adelantados')"
   ]
  },
  {
   "cell_type": "markdown",
   "metadata": {},
   "source": [
    " La gran mayoría de los retrasos están por debajo de los 50 minutos, pero hay una larga cola que sobrepasa las 2 horas. Sería interesante analizar qué causa estos retrasos más largos.\n",
    "\n",
    "Si bien en esta notebook se atacará el problema como uno de clasificación, esta larga cola puede causar problemas en un modelo de regresión, por lo que debería aplicarse alguna transformación (p.ej Yeo-Johnson).\n",
    "\n",
    "Veamos ahora el atraso a 15 minutos"
   ]
  },
  {
   "cell_type": "code",
   "execution_count": 443,
   "metadata": {},
   "outputs": [],
   "source": [
    "def make_pie_chart(data, var, title=''):\n",
    "\n",
    "    labels= data[var].value_counts().index\n",
    "    datas = data[var].value_counts()/len(data)\n",
    "    fig = plt.figure(figsize=[6, 6])\n",
    "    ax = fig.add_subplot(111)\n",
    "    title = title\n",
    "    ax.set_title(title)\n",
    "    pie_wedge_collection = ax.pie(datas, labels=labels, labeldistance=1.05,autopct='%.0f%%')\n",
    "\n",
    "    for pie_wedge in pie_wedge_collection[0]:\n",
    "            pie_wedge.set_edgecolor('white')"
   ]
  },
  {
   "cell_type": "code",
   "execution_count": 444,
   "metadata": {},
   "outputs": [
    {
     "data": {
      "image/png": "[encoded data removed]",
      "text/plain": [
       "<Figure size 432x432 with 1 Axes>"
      ]
     },
     "metadata": {},
     "output_type": "display_data"
    }
   ],
   "source": [
    "make_pie_chart(data, var= 'atraso_15',title= 'Retraso mayor a 15 minutos en vuelos' )"
   ]
  },
  {
   "cell_type": "markdown",
   "metadata": {},
   "source": [
    "Como es de esperar, hay un desbalance, no habiendo retraso en la mayoría de los vuelos. Notablemente, hay menos vuelos atrasados que adelantados. El desbalance no es tan grande para aplicar métodos como upsampling (por lo menos en una primera iteración).\n",
    "\n",
    "Ver: https://machinelearningmastery.com/framework-for-imbalanced-classification-projects/"
   ]
  },
  {
   "cell_type": "markdown",
   "metadata": {},
   "source": [
    "Es de esperar que haya una dependencia entre los retrasos (varios retrasos consecutivos por clima, por ejemplo). Podemos ver si existe una autocorrelación en el target."
   ]
  },
  {
   "cell_type": "code",
   "execution_count": 445,
   "metadata": {},
   "outputs": [
    {
     "data": {
      "image/png": "[encoded data removed]",
      "text/plain": [
       "<Figure size 432x288 with 1 Axes>"
      ]
     },
     "metadata": {
      "needs_background": "light"
     },
     "output_type": "display_data"
    }
   ],
   "source": [
    "from statsmodels.graphics.tsaplots import plot_acf\n",
    "import matplotlib.pyplot as plt\n",
    "plot_acf(x=data['dif_min'])\n",
    "plt.show()"
   ]
  },
  {
   "cell_type": "markdown",
   "metadata": {},
   "source": [
    "Existe una autocorrelación, siempre positiva, pero no tan grande. Se puede pensar agregar una nueva feature que contenga la información de si el vuelo anterior fue retrasado, o bien el promedio del target en las anteriores N horas. Si bien esta información probablemente mejoraría el resultado del modelo, muy posiblemente no sea posible tener este dato en una situación real, o sea, sería necesario disponer de la información de los vuelos inmediatamente anteriores, entrenar y predecir. Por eso, no se agregará esta feature en la notebook. "
   ]
  },
  {
   "cell_type": "markdown",
   "metadata": {},
   "source": [
    "# Features\n",
    "\n",
    "Veamos ahora las features. No todas las del dataset original van a ser usadas porque contienen leaks"
   ]
  },
  {
   "cell_type": "markdown",
   "metadata": {},
   "source": [
    "# Missing values\n",
    "Veamos que valores faltan, para saber qué hay que imputar si es necesario, y como se relacionan las variables faltantes con el target."
   ]
  },
  {
   "cell_type": "code",
   "execution_count": 446,
   "metadata": {},
   "outputs": [
    {
     "data": {
      "text/plain": [
       "Series([], dtype: float64)"
      ]
     },
     "execution_count": 446,
     "metadata": {},
     "output_type": "execute_result"
    }
   ],
   "source": [
    "vars_with_na = [var for var in data.columns if data[var].isnull().sum() > 0]\n",
    "\n",
    "# determine percentage of missing values (expressed as decimals)\n",
    "# and display the result ordered by % of missin data\n",
    "\n",
    "data[vars_with_na].isnull().mean().sort_values(ascending=False)"
   ]
  },
  {
   "cell_type": "markdown",
   "metadata": {},
   "source": [
    "No faltan datos en el dataset. No hace falta imputar nada."
   ]
  },
  {
   "cell_type": "markdown",
   "metadata": {},
   "source": [
    "## Variables discretas"
   ]
  },
  {
   "cell_type": "code",
   "execution_count": 447,
   "metadata": {},
   "outputs": [
    {
     "data": {
      "text/plain": [
       "Index(['Fecha-I', 'Vlo-I', 'Ori-I', 'Des-I', 'Emp-I', 'Fecha-O', 'Vlo-O',\n",
       "       'Ori-O', 'Des-O', 'Emp-O', 'DIA', 'MES', 'AÑO', 'DIANOM', 'TIPOVUELO',\n",
       "       'OPERA', 'SIGLAORI', 'SIGLADES', 'year', 'month', 'hour',\n",
       "       'temporada_alta', 'dif_min', 'atraso_15', 'periodo_dia', 'day'],\n",
       "      dtype='object')"
      ]
     },
     "execution_count": 447,
     "metadata": {},
     "output_type": "execute_result"
    }
   ],
   "source": [
    "data.columns"
   ]
  },
  {
   "cell_type": "code",
   "execution_count": 452,
   "metadata": {},
   "outputs": [],
   "source": [
    "VARIABLES_DISCRETAS = ['DIA','MES','hour','temporada_alta']"
   ]
  },
  {
   "cell_type": "code",
   "execution_count": 455,
   "metadata": {},
   "outputs": [
    {
     "data": {
      "text/plain": [
       "array([[<AxesSubplot:title={'center':'DIA'}>,\n",
       "        <AxesSubplot:title={'center':'MES'}>],\n",
       "       [<AxesSubplot:title={'center':'hour'}>,\n",
       "        <AxesSubplot:title={'center':'temporada_alta'}>]], dtype=object)"
      ]
     },
     "execution_count": 455,
     "metadata": {},
     "output_type": "execute_result"
    },
    {
     "data": {
      "image/png": "[encoded data removed]",
      "text/plain": [
       "<Figure size 432x288 with 4 Axes>"
      ]
     },
     "metadata": {
      "needs_background": "light"
     },
     "output_type": "display_data"
    }
   ],
   "source": [
    "data[VARIABLES_DISCRETAS].hist()"
   ]
  },
  {
   "cell_type": "markdown",
   "metadata": {},
   "source": [
    "La distribución por día del mes es uniforme, aunque sorprendentemente hay un pequeño aunmento a final de mes. Respecto al mes, final y principio de año son los grandes picos de actividad. Los vuelos durante temporada alta no son tan numerosos como era de esperar, pero son una fracción pequeña de días. Por último, es notable una alta actividad a la mañana (entre 6 y 8) y alrededor de las 15.\n",
    "\n",
    "Veamos ahora cómo se relacionan con el retraso"
   ]
  },
  {
   "cell_type": "code",
   "execution_count": null,
   "metadata": {},
   "outputs": [],
   "source": []
  },
  {
   "cell_type": "code",
   "execution_count": 457,
   "metadata": {},
   "outputs": [
    {
     "data": {
      "text/plain": [
       "Text(0, 0.5, 'retraso (min)')"
      ]
     },
     "execution_count": 457,
     "metadata": {},
     "output_type": "execute_result"
    },
    {
     "data": {
      "image/png": "[encoded data removed]",
      "text/plain": [
       "<Figure size 432x288 with 1 Axes>"
      ]
     },
     "metadata": {
      "needs_background": "light"
     },
     "output_type": "display_data"
    }
   ],
   "source": [
    "data.groupby('hour').mean()['dif_min'].plot()\n",
    "plt.ylabel('retraso (min)')"
   ]
  },
  {
   "cell_type": "code",
   "execution_count": 458,
   "metadata": {},
   "outputs": [
    {
     "data": {
      "text/plain": [
       "Text(0, 0.5, 'retraso (min)')"
      ]
     },
     "execution_count": 458,
     "metadata": {},
     "output_type": "execute_result"
    },
    {
     "data": {
      "image/png": "[encoded data removed]",
      "text/plain": [
       "<Figure size 432x288 with 1 Axes>"
      ]
     },
     "metadata": {
      "needs_background": "light"
     },
     "output_type": "display_data"
    }
   ],
   "source": [
    "data.groupby('DIA').mean()['dif_min'].plot()\n",
    "plt.ylabel('retraso (min)')\n"
   ]
  },
  {
   "cell_type": "code",
   "execution_count": 459,
   "metadata": {},
   "outputs": [
    {
     "data": {
      "text/plain": [
       "Text(0, 0.5, 'retraso (min)')"
      ]
     },
     "execution_count": 459,
     "metadata": {},
     "output_type": "execute_result"
    },
    {
     "data": {
      "image/png": "[encoded data removed]",
      "text/plain": [
       "<Figure size 432x288 with 1 Axes>"
      ]
     },
     "metadata": {
      "needs_background": "light"
     },
     "output_type": "display_data"
    }
   ],
   "source": [
    "data.groupby('MES').mean()['dif_min'].plot()\n",
    "plt.ylabel('retraso (min)')"
   ]
  },
  {
   "cell_type": "code",
   "execution_count": 460,
   "metadata": {},
   "outputs": [
    {
     "data": {
      "text/plain": [
       "Text(0, 0.5, 'retraso (min)')"
      ]
     },
     "execution_count": 460,
     "metadata": {},
     "output_type": "execute_result"
    },
    {
     "data": {
      "image/png": "[encoded data removed]",
      "text/plain": [
       "<Figure size 432x288 with 1 Axes>"
      ]
     },
     "metadata": {
      "needs_background": "light"
     },
     "output_type": "display_data"
    }
   ],
   "source": [
    "data.groupby('temporada_alta').mean()['dif_min'].plot.bar()\n",
    "plt.ylabel('retraso (min)')"
   ]
  },
  {
   "cell_type": "code",
   "execution_count": 358,
   "metadata": {},
   "outputs": [
    {
     "data": {
      "text/plain": [
       "<AxesSubplot:>"
      ]
     },
     "execution_count": 358,
     "metadata": {},
     "output_type": "execute_result"
    },
    {
     "data": {
      "image/png": "[encoded data removed]",
      "text/plain": [
       "<Figure size 432x288 with 1 Axes>"
      ]
     },
     "metadata": {
      "needs_background": "light"
     },
     "output_type": "display_data"
    }
   ],
   "source": []
  },
  {
   "cell_type": "markdown",
   "metadata": {},
   "source": [
    "Se ve que en julio hubo un pico de retrasos. Asimismo, en temporada alta hay mayor retraso, así como a mediados del mes. "
   ]
  },
  {
   "cell_type": "markdown",
   "metadata": {},
   "source": [
    "## Categorical data "
   ]
  },
  {
   "cell_type": "markdown",
   "metadata": {},
   "source": [
    "## Number of labels: cardinality\n",
    "\n",
    "Let's evaluate how many different categories are present in each of the variables."
   ]
  },
  {
   "cell_type": "code",
   "execution_count": 421,
   "metadata": {},
   "outputs": [],
   "source": [
    "VARIABLES_CATEGORICAS = ['OPERA', 'SIGLADES','DIANOM', 'TIPOVUELO','Vlo-I', 'Ori-I', 'Des-I', 'Emp-I','Vlo-O',\n",
    "       'Ori-O', 'Des-O', 'Emp-O']"
   ]
  },
  {
   "cell_type": "code",
   "execution_count": 422,
   "metadata": {},
   "outputs": [
    {
     "data": {
      "text/plain": [
       "Index(['Fecha-I', 'Vlo-I', 'Ori-I', 'Des-I', 'Emp-I', 'Fecha-O', 'Vlo-O',\n",
       "       'Ori-O', 'Des-O', 'Emp-O', 'DIA', 'MES', 'AÑO', 'DIANOM', 'TIPOVUELO',\n",
       "       'OPERA', 'SIGLAORI', 'SIGLADES', 'year', 'month', 'hour',\n",
       "       'temporada_alta', 'dif_min', 'atraso_15', 'periodo_dia', 'day'],\n",
       "      dtype='object')"
      ]
     },
     "execution_count": 422,
     "metadata": {},
     "output_type": "execute_result"
    }
   ],
   "source": [
    "data.columns"
   ]
  },
  {
   "cell_type": "code",
   "execution_count": 423,
   "metadata": {},
   "outputs": [
    {
     "data": {
      "text/plain": [
       "<AxesSubplot:>"
      ]
     },
     "execution_count": 423,
     "metadata": {},
     "output_type": "execute_result"
    },
    {
     "data": {
      "image/png": "[encoded data removed]",
      "text/plain": [
       "<Figure size 864x360 with 1 Axes>"
      ]
     },
     "metadata": {
      "needs_background": "light"
     },
     "output_type": "display_data"
    }
   ],
   "source": [
    "# we count unique categories with pandas unique() \n",
    "# and then plot them in descending order\n",
    "data[VARIABLES_CATEGORICAS].nunique().sort_values(ascending=False).plot.bar(figsize=(12,5))"
   ]
  },
  {
   "cell_type": "markdown",
   "metadata": {},
   "source": [
    "Hay categorías de cardinalidad muy alta. Usar un OneHotEncoder puede ser muy pesado. Saquemos esas dos para ver mejor las otras\n"
   ]
  },
  {
   "cell_type": "code",
   "execution_count": 424,
   "metadata": {},
   "outputs": [],
   "source": [
    "CAT_REDUCED=['OPERA', 'SIGLADES','DIANOM', 'TIPOVUELO', 'Ori-I', 'Des-I', 'Emp-I',\n",
    "       'Ori-O', 'Des-O', 'Emp-O']"
   ]
  },
  {
   "cell_type": "code",
   "execution_count": null,
   "metadata": {},
   "outputs": [],
   "source": [
    "data[CAT_REDUCED].nunique().sort_values(ascending=False).plot.bar(figsize=(12,5))"
   ]
  },
  {
   "cell_type": "code",
   "execution_count": null,
   "metadata": {},
   "outputs": [],
   "source": [
    "# How many games in each category? Rest days & travel.\n",
    "temp_grp_df = box_df.groupby(['rest_cats', 'atraso_15']).count().reset_index(drop=False)\n",
    "temp_grp_df = temp_grp_df.assign(travelled=temp_grp_df.travelled.astype(str))\n",
    "fig = px.bar(temp_grp_df, y='rest_cats', x='outcome', orientation='h', color='travelled', barmode='group')\n",
    "fig.show()"
   ]
  },
  {
   "cell_type": "code",
   "execution_count": null,
   "metadata": {},
   "outputs": [],
   "source": [
    "for cat in VARIABLES_CATEGORICAS:\n",
    "    data.groupby(cat).mean()['atraso_15'].sort_values(by='atraso_15').plot.barh(figsize=(12,5))"
   ]
  },
  {
   "cell_type": "code",
   "execution_count": 499,
   "metadata": {},
   "outputs": [
    {
     "data": {
      "text/plain": [
       "['OPERA',\n",
       " 'SIGLADES',\n",
       " 'DIANOM',\n",
       " 'TIPOVUELO',\n",
       " 'Vlo-I',\n",
       " 'Ori-I',\n",
       " 'Des-I',\n",
       " 'Emp-I',\n",
       " 'Vlo-O',\n",
       " 'Ori-O',\n",
       " 'Des-O',\n",
       " 'Emp-O']"
      ]
     },
     "execution_count": 499,
     "metadata": {},
     "output_type": "execute_result"
    }
   ],
   "source": [
    "VARIABLES_CATEGORICAS"
   ]
  },
  {
   "cell_type": "code",
   "execution_count": 514,
   "metadata": {},
   "outputs": [
    {
     "data": {
      "text/plain": [
       "<AxesSubplot:ylabel='OPERA'>"
      ]
     },
     "execution_count": 514,
     "metadata": {},
     "output_type": "execute_result"
    },
    {
     "data": {
      "image/png": "[encoded data removed]",
      "text/plain": [
       "<Figure size 864x360 with 1 Axes>"
      ]
     },
     "metadata": {
      "needs_background": "light"
     },
     "output_type": "display_data"
    }
   ],
   "source": [
    "data.groupby('OPERA').sum()['atraso_15'].sort_values(axis=0,ascending=True).plot.barh(figsize=(12,5))"
   ]
  },
  {
   "cell_type": "code",
   "execution_count": 515,
   "metadata": {},
   "outputs": [
    {
     "data": {
      "text/plain": [
       "<AxesSubplot:ylabel='OPERA'>"
      ]
     },
     "execution_count": 515,
     "metadata": {},
     "output_type": "execute_result"
    },
    {
     "data": {
      "image/png": "[encoded data removed]",
      "text/plain": [
       "<Figure size 864x360 with 1 Axes>"
      ]
     },
     "metadata": {
      "needs_background": "light"
     },
     "output_type": "display_data"
    }
   ],
   "source": [
    "data.groupby('OPERA').count()['atraso_15'].sort_values(axis=0,ascending=True).plot.barh(figsize=(12,5))"
   ]
  },
  {
   "cell_type": "raw",
   "metadata": {},
   "source": [
    "La gran mayoria de los vuelos son del grupo LATAM y por tanto son la mayor cantidad de retrasos. Aerolineas argentinas esta tercera en retrasos pese a estar cuarta en vuelos."
   ]
  },
  {
   "cell_type": "code",
   "execution_count": 513,
   "metadata": {},
   "outputs": [
    {
     "data": {
      "text/plain": [
       "<AxesSubplot:ylabel='OPERA'>"
      ]
     },
     "execution_count": 513,
     "metadata": {},
     "output_type": "execute_result"
    },
    {
     "data": {
      "image/png": "[encoded data removed]",
      "text/plain": [
       "<Figure size 864x360 with 1 Axes>"
      ]
     },
     "metadata": {
      "needs_background": "light"
     },
     "output_type": "display_data"
    }
   ],
   "source": [
    "data.groupby('OPERA').sum()['atraso_15'].sort_values(axis=0,ascending=True).plot.barh(figsize=(12,5))"
   ]
  },
  {
   "cell_type": "code",
   "execution_count": 510,
   "metadata": {},
   "outputs": [
    {
     "data": {
      "text/plain": [
       "<AxesSubplot:ylabel='SIGLADES'>"
      ]
     },
     "execution_count": 510,
     "metadata": {},
     "output_type": "execute_result"
    },
    {
     "data": {
      "image/png": "[encoded data removed]",
      "text/plain": [
       "<Figure size 864x360 with 1 Axes>"
      ]
     },
     "metadata": {
      "needs_background": "light"
     },
     "output_type": "display_data"
    }
   ],
   "source": [
    "data.groupby('SIGLADES').count()['atraso_15'].sort_values(axis=0,ascending=False)[:10].plot.barh(figsize=(12,5))"
   ]
  },
  {
   "cell_type": "markdown",
   "metadata": {},
   "source": [
    "# Difference I/O\n",
    "\n",
    "Se puede suponer que el si hubo un cambio respecto a lo programado, puede haber alguna causa de fondo que cause un retraso.\n",
    "Veamos primero el retraso promedio"
   ]
  },
  {
   "cell_type": "code",
   "execution_count": 465,
   "metadata": {},
   "outputs": [
    {
     "name": "stdout",
     "output_type": "stream",
     "text": [
      "Retraso promedio: 0.18493974137172683 min\n"
     ]
    }
   ],
   "source": [
    "retraso_promedio = data.atraso_15.mean()\n",
    "print(f'Retraso promedio: {retraso_promedio} min')"
   ]
  },
  {
   "cell_type": "code",
   "execution_count": 476,
   "metadata": {},
   "outputs": [
    {
     "name": "stdout",
     "output_type": "stream",
     "text": [
      "Retraso promedio ante cambio de destino: 0.2857142857142857 min\n"
     ]
    }
   ],
   "source": [
    "retraso_promedio = data[data['Des-O']!=data['Des-I']].atraso_15.mean()\n",
    "print(f'Retraso promedio ante cambio de destino: {retraso_promedio} min')"
   ]
  },
  {
   "cell_type": "code",
   "execution_count": 477,
   "metadata": {},
   "outputs": [
    {
     "name": "stdout",
     "output_type": "stream",
     "text": [
      "Retraso promedio ante cambio de nro de vuelo: 0.252972972972973 min\n"
     ]
    }
   ],
   "source": [
    "retraso = data[data['Vlo-O']!=data['Vlo-I']].atraso_15.mean()\n",
    "print(f'Retraso promedio ante cambio de nro de vuelo: {retraso} min')"
   ]
  },
  {
   "cell_type": "code",
   "execution_count": 479,
   "metadata": {},
   "outputs": [
    {
     "name": "stdout",
     "output_type": "stream",
     "text": [
      "Retraso promedio ante cambio de aerolinea: 0.1800310675451283 min\n"
     ]
    }
   ],
   "source": [
    "retraso = data[data['Emp-O']!=data['Emp-I']].atraso_15.mean()\n",
    "print(f'Retraso promedio ante cambio de aerolinea: {retraso} min')"
   ]
  },
  {
   "cell_type": "markdown",
   "metadata": {},
   "source": [
    "Los cambios en destino y aerolinea reflejan un mayor retraso."
   ]
  },
  {
   "cell_type": "markdown",
   "metadata": {},
   "source": [
    "# Posibles mejoras\n",
    "\n",
    "- tener en cuenta desbalance (ej upsampling, usar metodos de librerias como imblearn)\n",
    "- usar lstm para tener en cuenta factor de orden temporal\n",
    "- tomar como problema de regresion\n",
    "\n",
    "#para hacer despues\n",
    "agregar LOS CONTEOS SOLOS de las categoricas, sin el "
   ]
  }
 ],
 "metadata": {
  "kernelspec": {
   "display_name": "Python 3",
   "language": "python",
   "name": "python3"
  },
  "language_info": {
   "codemirror_mode": {
    "name": "ipython",
    "version": 3
   },
   "file_extension": ".py",
   "mimetype": "text/x-python",
   "name": "python",
   "nbconvert_exporter": "python",
   "pygments_lexer": "ipython3",
   "version": "3.8.10"
  }
 },
 "nbformat": 4,
 "nbformat_minor": 4
}
