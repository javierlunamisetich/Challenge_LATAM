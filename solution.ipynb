{
 "cells": [
  {
   "cell_type": "code",
   "execution_count": 104,
   "metadata": {},
   "outputs": [
    {
     "ename": "ModuleNotFoundError",
     "evalue": "No module named 'xgboost'",
     "output_type": "error",
     "traceback": [
      "\u001b[0;31m---------------------------------------------------------------------------\u001b[0m",
      "\u001b[0;31mModuleNotFoundError\u001b[0m                       Traceback (most recent call last)",
      "\u001b[0;32m<ipython-input-104-058a224267aa>\u001b[0m in \u001b[0;36m<module>\u001b[0;34m\u001b[0m\n\u001b[1;32m     11\u001b[0m \u001b[0;32mfrom\u001b[0m \u001b[0msklearn\u001b[0m\u001b[0;34m.\u001b[0m\u001b[0mpreprocessing\u001b[0m \u001b[0;32mimport\u001b[0m \u001b[0mMinMaxScaler\u001b[0m\u001b[0;34m\u001b[0m\u001b[0;34m\u001b[0m\u001b[0m\n\u001b[1;32m     12\u001b[0m \u001b[0;32mimport\u001b[0m \u001b[0mtimeit\u001b[0m\u001b[0;34m\u001b[0m\u001b[0;34m\u001b[0m\u001b[0m\n\u001b[0;32m---> 13\u001b[0;31m \u001b[0;32mimport\u001b[0m \u001b[0mxgboost\u001b[0m \u001b[0;32mas\u001b[0m \u001b[0mxgb\u001b[0m\u001b[0;34m\u001b[0m\u001b[0;34m\u001b[0m\u001b[0m\n\u001b[0m",
      "\u001b[0;31mModuleNotFoundError\u001b[0m: No module named 'xgboost'"
     ]
    }
   ],
   "source": [
    "import pandas as pd\n",
    "import matplotlib.pyplot as plt\n",
    "import seaborn as sns\n",
    "import datetime\n",
    "from utils import *\n",
    "from sklearn.model_selection import train_test_split\n",
    "from sklearn.pipeline import Pipeline\n",
    "from feature_engine.encoding import (\n",
    "    OrdinalEncoder,\n",
    ")\n",
    "from sklearn.preprocessing import MinMaxScaler\n",
    "import timeit\n",
    "import xgboost as xgb\n"
   ]
  },
  {
   "cell_type": "code",
   "execution_count": 2,
   "metadata": {},
   "outputs": [
    {
     "name": "stdout",
     "output_type": "stream",
     "text": [
      "(68206, 18)\n"
     ]
    },
    {
     "name": "stderr",
     "output_type": "stream",
     "text": [
      "/usr/lib/python3/dist-packages/IPython/core/interactiveshell.py:3254: DtypeWarning: Columns (1,6) have mixed types.Specify dtype option on import or set low_memory=False.\n",
      "  if (await self.run_code(code, result,  async_=asy)):\n"
     ]
    },
    {
     "data": {
      "text/html": [
       "<div>\n",
       "<style scoped>\n",
       "    .dataframe tbody tr th:only-of-type {\n",
       "        vertical-align: middle;\n",
       "    }\n",
       "\n",
       "    .dataframe tbody tr th {\n",
       "        vertical-align: top;\n",
       "    }\n",
       "\n",
       "    .dataframe thead th {\n",
       "        text-align: right;\n",
       "    }\n",
       "</style>\n",
       "<table border=\"1\" class=\"dataframe\">\n",
       "  <thead>\n",
       "    <tr style=\"text-align: right;\">\n",
       "      <th></th>\n",
       "      <th>Fecha-I</th>\n",
       "      <th>Vlo-I</th>\n",
       "      <th>Ori-I</th>\n",
       "      <th>Des-I</th>\n",
       "      <th>Emp-I</th>\n",
       "      <th>Fecha-O</th>\n",
       "      <th>Vlo-O</th>\n",
       "      <th>Ori-O</th>\n",
       "      <th>Des-O</th>\n",
       "      <th>Emp-O</th>\n",
       "      <th>DIA</th>\n",
       "      <th>MES</th>\n",
       "      <th>AÑO</th>\n",
       "      <th>DIANOM</th>\n",
       "      <th>TIPOVUELO</th>\n",
       "      <th>OPERA</th>\n",
       "      <th>SIGLAORI</th>\n",
       "      <th>SIGLADES</th>\n",
       "    </tr>\n",
       "  </thead>\n",
       "  <tbody>\n",
       "    <tr>\n",
       "      <th>169</th>\n",
       "      <td>2017-01-01 00:15:00</td>\n",
       "      <td>11</td>\n",
       "      <td>SCEL</td>\n",
       "      <td>MMMX</td>\n",
       "      <td>AMX</td>\n",
       "      <td>2017-01-01 00:04:00</td>\n",
       "      <td>11</td>\n",
       "      <td>SCEL</td>\n",
       "      <td>MMMX</td>\n",
       "      <td>AMX</td>\n",
       "      <td>1</td>\n",
       "      <td>1</td>\n",
       "      <td>2017</td>\n",
       "      <td>Domingo</td>\n",
       "      <td>I</td>\n",
       "      <td>Aeromexico</td>\n",
       "      <td>Santiago</td>\n",
       "      <td>Ciudad de Mexico</td>\n",
       "    </tr>\n",
       "    <tr>\n",
       "      <th>5078</th>\n",
       "      <td>2017-01-01 01:15:00</td>\n",
       "      <td>572</td>\n",
       "      <td>SCEL</td>\n",
       "      <td>SKBO</td>\n",
       "      <td>LAN</td>\n",
       "      <td>2017-01-01 01:10:00</td>\n",
       "      <td>572</td>\n",
       "      <td>SCEL</td>\n",
       "      <td>SKBO</td>\n",
       "      <td>LAN</td>\n",
       "      <td>1</td>\n",
       "      <td>1</td>\n",
       "      <td>2017</td>\n",
       "      <td>Domingo</td>\n",
       "      <td>I</td>\n",
       "      <td>Grupo LATAM</td>\n",
       "      <td>Santiago</td>\n",
       "      <td>Bogota</td>\n",
       "    </tr>\n",
       "    <tr>\n",
       "      <th>622</th>\n",
       "      <td>2017-01-01 01:23:00</td>\n",
       "      <td>495</td>\n",
       "      <td>SCEL</td>\n",
       "      <td>MPTO</td>\n",
       "      <td>CMP</td>\n",
       "      <td>2017-01-01 01:29:00</td>\n",
       "      <td>495</td>\n",
       "      <td>SCEL</td>\n",
       "      <td>MPTO</td>\n",
       "      <td>CMP</td>\n",
       "      <td>1</td>\n",
       "      <td>1</td>\n",
       "      <td>2017</td>\n",
       "      <td>Domingo</td>\n",
       "      <td>I</td>\n",
       "      <td>Copa Air</td>\n",
       "      <td>Santiago</td>\n",
       "      <td>Ciudad de Panama</td>\n",
       "    </tr>\n",
       "    <tr>\n",
       "      <th>409</th>\n",
       "      <td>2017-01-01 01:33:00</td>\n",
       "      <td>240</td>\n",
       "      <td>SCEL</td>\n",
       "      <td>SKBO</td>\n",
       "      <td>AVA</td>\n",
       "      <td>2017-01-01 01:38:00</td>\n",
       "      <td>240</td>\n",
       "      <td>SCEL</td>\n",
       "      <td>SKBO</td>\n",
       "      <td>AVA</td>\n",
       "      <td>1</td>\n",
       "      <td>1</td>\n",
       "      <td>2017</td>\n",
       "      <td>Domingo</td>\n",
       "      <td>I</td>\n",
       "      <td>Avianca</td>\n",
       "      <td>Santiago</td>\n",
       "      <td>Bogota</td>\n",
       "    </tr>\n",
       "    <tr>\n",
       "      <th>592</th>\n",
       "      <td>2017-01-01 01:42:00</td>\n",
       "      <td>276</td>\n",
       "      <td>SCEL</td>\n",
       "      <td>MPTO</td>\n",
       "      <td>CMP</td>\n",
       "      <td>2017-01-01 01:40:00</td>\n",
       "      <td>276</td>\n",
       "      <td>SCEL</td>\n",
       "      <td>MPTO</td>\n",
       "      <td>CMP</td>\n",
       "      <td>1</td>\n",
       "      <td>1</td>\n",
       "      <td>2017</td>\n",
       "      <td>Domingo</td>\n",
       "      <td>I</td>\n",
       "      <td>Copa Air</td>\n",
       "      <td>Santiago</td>\n",
       "      <td>Ciudad de Panama</td>\n",
       "    </tr>\n",
       "  </tbody>\n",
       "</table>\n",
       "</div>"
      ],
      "text/plain": [
       "                 Fecha-I Vlo-I Ori-I Des-I Emp-I             Fecha-O Vlo-O  \\\n",
       "169  2017-01-01 00:15:00    11  SCEL  MMMX   AMX 2017-01-01 00:04:00    11   \n",
       "5078 2017-01-01 01:15:00   572  SCEL  SKBO   LAN 2017-01-01 01:10:00   572   \n",
       "622  2017-01-01 01:23:00   495  SCEL  MPTO   CMP 2017-01-01 01:29:00   495   \n",
       "409  2017-01-01 01:33:00   240  SCEL  SKBO   AVA 2017-01-01 01:38:00   240   \n",
       "592  2017-01-01 01:42:00   276  SCEL  MPTO   CMP 2017-01-01 01:40:00   276   \n",
       "\n",
       "     Ori-O Des-O Emp-O  DIA  MES   AÑO   DIANOM TIPOVUELO        OPERA  \\\n",
       "169   SCEL  MMMX   AMX    1    1  2017  Domingo         I   Aeromexico   \n",
       "5078  SCEL  SKBO   LAN    1    1  2017  Domingo         I  Grupo LATAM   \n",
       "622   SCEL  MPTO   CMP    1    1  2017  Domingo         I     Copa Air   \n",
       "409   SCEL  SKBO   AVA    1    1  2017  Domingo         I      Avianca   \n",
       "592   SCEL  MPTO   CMP    1    1  2017  Domingo         I     Copa Air   \n",
       "\n",
       "      SIGLAORI          SIGLADES  \n",
       "169   Santiago  Ciudad de Mexico  \n",
       "5078  Santiago            Bogota  \n",
       "622   Santiago  Ciudad de Panama  \n",
       "409   Santiago            Bogota  \n",
       "592   Santiago  Ciudad de Panama  "
      ]
     },
     "execution_count": 2,
     "metadata": {},
     "output_type": "execute_result"
    }
   ],
   "source": [
    "# load dataset\n",
    "\n",
    "\n",
    "data = load_data('dataset_SCL.csv')\n",
    "\n",
    "# rows and columns of the data\n",
    "print(data.shape)\n",
    "\n",
    "# visualise the dataset\n",
    "data.head()"
   ]
  },
  {
   "cell_type": "markdown",
   "metadata": {},
   "source": [
    "# Creación y selección de datos relevantes"
   ]
  },
  {
   "cell_type": "code",
   "execution_count": 3,
   "metadata": {},
   "outputs": [],
   "source": [
    "data = create_hour(data)\n",
    "data = create_syntethic_features(data)"
   ]
  },
  {
   "cell_type": "code",
   "execution_count": 4,
   "metadata": {},
   "outputs": [
    {
     "data": {
      "text/html": [
       "<div>\n",
       "<style scoped>\n",
       "    .dataframe tbody tr th:only-of-type {\n",
       "        vertical-align: middle;\n",
       "    }\n",
       "\n",
       "    .dataframe tbody tr th {\n",
       "        vertical-align: top;\n",
       "    }\n",
       "\n",
       "    .dataframe thead th {\n",
       "        text-align: right;\n",
       "    }\n",
       "</style>\n",
       "<table border=\"1\" class=\"dataframe\">\n",
       "  <thead>\n",
       "    <tr style=\"text-align: right;\">\n",
       "      <th></th>\n",
       "      <th>Fecha-I</th>\n",
       "      <th>Vlo-I</th>\n",
       "      <th>Ori-I</th>\n",
       "      <th>Des-I</th>\n",
       "      <th>Emp-I</th>\n",
       "      <th>Fecha-O</th>\n",
       "      <th>Vlo-O</th>\n",
       "      <th>Ori-O</th>\n",
       "      <th>Des-O</th>\n",
       "      <th>Emp-O</th>\n",
       "      <th>...</th>\n",
       "      <th>DIANOM</th>\n",
       "      <th>TIPOVUELO</th>\n",
       "      <th>OPERA</th>\n",
       "      <th>SIGLAORI</th>\n",
       "      <th>SIGLADES</th>\n",
       "      <th>HORA</th>\n",
       "      <th>temporada_alta</th>\n",
       "      <th>dif_min</th>\n",
       "      <th>atraso_15</th>\n",
       "      <th>periodo_dia</th>\n",
       "    </tr>\n",
       "  </thead>\n",
       "  <tbody>\n",
       "    <tr>\n",
       "      <th>169</th>\n",
       "      <td>2017-01-01 00:15:00</td>\n",
       "      <td>11</td>\n",
       "      <td>SCEL</td>\n",
       "      <td>MMMX</td>\n",
       "      <td>AMX</td>\n",
       "      <td>2017-01-01 00:04:00</td>\n",
       "      <td>11</td>\n",
       "      <td>SCEL</td>\n",
       "      <td>MMMX</td>\n",
       "      <td>AMX</td>\n",
       "      <td>...</td>\n",
       "      <td>Domingo</td>\n",
       "      <td>I</td>\n",
       "      <td>Aeromexico</td>\n",
       "      <td>Santiago</td>\n",
       "      <td>Ciudad de Mexico</td>\n",
       "      <td>0</td>\n",
       "      <td>1</td>\n",
       "      <td>-11.0</td>\n",
       "      <td>0</td>\n",
       "      <td>noche</td>\n",
       "    </tr>\n",
       "    <tr>\n",
       "      <th>5078</th>\n",
       "      <td>2017-01-01 01:15:00</td>\n",
       "      <td>572</td>\n",
       "      <td>SCEL</td>\n",
       "      <td>SKBO</td>\n",
       "      <td>LAN</td>\n",
       "      <td>2017-01-01 01:10:00</td>\n",
       "      <td>572</td>\n",
       "      <td>SCEL</td>\n",
       "      <td>SKBO</td>\n",
       "      <td>LAN</td>\n",
       "      <td>...</td>\n",
       "      <td>Domingo</td>\n",
       "      <td>I</td>\n",
       "      <td>Grupo LATAM</td>\n",
       "      <td>Santiago</td>\n",
       "      <td>Bogota</td>\n",
       "      <td>1</td>\n",
       "      <td>1</td>\n",
       "      <td>-5.0</td>\n",
       "      <td>0</td>\n",
       "      <td>noche</td>\n",
       "    </tr>\n",
       "    <tr>\n",
       "      <th>622</th>\n",
       "      <td>2017-01-01 01:23:00</td>\n",
       "      <td>495</td>\n",
       "      <td>SCEL</td>\n",
       "      <td>MPTO</td>\n",
       "      <td>CMP</td>\n",
       "      <td>2017-01-01 01:29:00</td>\n",
       "      <td>495</td>\n",
       "      <td>SCEL</td>\n",
       "      <td>MPTO</td>\n",
       "      <td>CMP</td>\n",
       "      <td>...</td>\n",
       "      <td>Domingo</td>\n",
       "      <td>I</td>\n",
       "      <td>Copa Air</td>\n",
       "      <td>Santiago</td>\n",
       "      <td>Ciudad de Panama</td>\n",
       "      <td>1</td>\n",
       "      <td>1</td>\n",
       "      <td>6.0</td>\n",
       "      <td>0</td>\n",
       "      <td>noche</td>\n",
       "    </tr>\n",
       "    <tr>\n",
       "      <th>409</th>\n",
       "      <td>2017-01-01 01:33:00</td>\n",
       "      <td>240</td>\n",
       "      <td>SCEL</td>\n",
       "      <td>SKBO</td>\n",
       "      <td>AVA</td>\n",
       "      <td>2017-01-01 01:38:00</td>\n",
       "      <td>240</td>\n",
       "      <td>SCEL</td>\n",
       "      <td>SKBO</td>\n",
       "      <td>AVA</td>\n",
       "      <td>...</td>\n",
       "      <td>Domingo</td>\n",
       "      <td>I</td>\n",
       "      <td>Avianca</td>\n",
       "      <td>Santiago</td>\n",
       "      <td>Bogota</td>\n",
       "      <td>1</td>\n",
       "      <td>1</td>\n",
       "      <td>5.0</td>\n",
       "      <td>0</td>\n",
       "      <td>noche</td>\n",
       "    </tr>\n",
       "    <tr>\n",
       "      <th>592</th>\n",
       "      <td>2017-01-01 01:42:00</td>\n",
       "      <td>276</td>\n",
       "      <td>SCEL</td>\n",
       "      <td>MPTO</td>\n",
       "      <td>CMP</td>\n",
       "      <td>2017-01-01 01:40:00</td>\n",
       "      <td>276</td>\n",
       "      <td>SCEL</td>\n",
       "      <td>MPTO</td>\n",
       "      <td>CMP</td>\n",
       "      <td>...</td>\n",
       "      <td>Domingo</td>\n",
       "      <td>I</td>\n",
       "      <td>Copa Air</td>\n",
       "      <td>Santiago</td>\n",
       "      <td>Ciudad de Panama</td>\n",
       "      <td>1</td>\n",
       "      <td>1</td>\n",
       "      <td>-2.0</td>\n",
       "      <td>0</td>\n",
       "      <td>noche</td>\n",
       "    </tr>\n",
       "    <tr>\n",
       "      <th>...</th>\n",
       "      <td>...</td>\n",
       "      <td>...</td>\n",
       "      <td>...</td>\n",
       "      <td>...</td>\n",
       "      <td>...</td>\n",
       "      <td>...</td>\n",
       "      <td>...</td>\n",
       "      <td>...</td>\n",
       "      <td>...</td>\n",
       "      <td>...</td>\n",
       "      <td>...</td>\n",
       "      <td>...</td>\n",
       "      <td>...</td>\n",
       "      <td>...</td>\n",
       "      <td>...</td>\n",
       "      <td>...</td>\n",
       "      <td>...</td>\n",
       "      <td>...</td>\n",
       "      <td>...</td>\n",
       "      <td>...</td>\n",
       "      <td>...</td>\n",
       "    </tr>\n",
       "    <tr>\n",
       "      <th>66797</th>\n",
       "      <td>2017-12-31 23:30:00</td>\n",
       "      <td>532</td>\n",
       "      <td>SCEL</td>\n",
       "      <td>KJFK</td>\n",
       "      <td>LAN</td>\n",
       "      <td>2017-12-31 23:32:00</td>\n",
       "      <td>532.0</td>\n",
       "      <td>SCEL</td>\n",
       "      <td>KJFK</td>\n",
       "      <td>LAN</td>\n",
       "      <td>...</td>\n",
       "      <td>Domingo</td>\n",
       "      <td>I</td>\n",
       "      <td>Grupo LATAM</td>\n",
       "      <td>Santiago</td>\n",
       "      <td>Nueva York</td>\n",
       "      <td>23</td>\n",
       "      <td>1</td>\n",
       "      <td>2.0</td>\n",
       "      <td>0</td>\n",
       "      <td>noche</td>\n",
       "    </tr>\n",
       "    <tr>\n",
       "      <th>66947</th>\n",
       "      <td>2017-12-31 23:40:00</td>\n",
       "      <td>622</td>\n",
       "      <td>SCEL</td>\n",
       "      <td>MMMX</td>\n",
       "      <td>LAN</td>\n",
       "      <td>2018-01-01 00:12:00</td>\n",
       "      <td>622.0</td>\n",
       "      <td>SCEL</td>\n",
       "      <td>MMMX</td>\n",
       "      <td>LAN</td>\n",
       "      <td>...</td>\n",
       "      <td>Lunes</td>\n",
       "      <td>I</td>\n",
       "      <td>Grupo LATAM</td>\n",
       "      <td>Santiago</td>\n",
       "      <td>Ciudad de Mexico</td>\n",
       "      <td>23</td>\n",
       "      <td>1</td>\n",
       "      <td>32.0</td>\n",
       "      <td>1</td>\n",
       "      <td>noche</td>\n",
       "    </tr>\n",
       "    <tr>\n",
       "      <th>62026</th>\n",
       "      <td>2017-12-31 23:45:00</td>\n",
       "      <td>11</td>\n",
       "      <td>SCEL</td>\n",
       "      <td>MMMX</td>\n",
       "      <td>AMX</td>\n",
       "      <td>2017-12-31 23:42:00</td>\n",
       "      <td>11</td>\n",
       "      <td>SCEL</td>\n",
       "      <td>MMMX</td>\n",
       "      <td>AMX</td>\n",
       "      <td>...</td>\n",
       "      <td>Domingo</td>\n",
       "      <td>I</td>\n",
       "      <td>Aeromexico</td>\n",
       "      <td>Santiago</td>\n",
       "      <td>Ciudad de Mexico</td>\n",
       "      <td>23</td>\n",
       "      <td>1</td>\n",
       "      <td>-3.0</td>\n",
       "      <td>0</td>\n",
       "      <td>noche</td>\n",
       "    </tr>\n",
       "    <tr>\n",
       "      <th>66918</th>\n",
       "      <td>2017-12-31 23:55:00</td>\n",
       "      <td>602</td>\n",
       "      <td>SCEL</td>\n",
       "      <td>KLAX</td>\n",
       "      <td>LAN</td>\n",
       "      <td>2018-01-01 00:02:00</td>\n",
       "      <td>602.0</td>\n",
       "      <td>SCEL</td>\n",
       "      <td>KLAX</td>\n",
       "      <td>LAN</td>\n",
       "      <td>...</td>\n",
       "      <td>Lunes</td>\n",
       "      <td>I</td>\n",
       "      <td>Grupo LATAM</td>\n",
       "      <td>Santiago</td>\n",
       "      <td>Los Angeles</td>\n",
       "      <td>23</td>\n",
       "      <td>1</td>\n",
       "      <td>7.0</td>\n",
       "      <td>0</td>\n",
       "      <td>noche</td>\n",
       "    </tr>\n",
       "    <tr>\n",
       "      <th>61862</th>\n",
       "      <td>2017-12-31 23:55:00</td>\n",
       "      <td>226</td>\n",
       "      <td>SCEL</td>\n",
       "      <td>KMIA</td>\n",
       "      <td>AAL</td>\n",
       "      <td>2017-12-31 23:53:00</td>\n",
       "      <td>226</td>\n",
       "      <td>SCEL</td>\n",
       "      <td>KMIA</td>\n",
       "      <td>AAL</td>\n",
       "      <td>...</td>\n",
       "      <td>Domingo</td>\n",
       "      <td>I</td>\n",
       "      <td>American Airlines</td>\n",
       "      <td>Santiago</td>\n",
       "      <td>Miami</td>\n",
       "      <td>23</td>\n",
       "      <td>1</td>\n",
       "      <td>-2.0</td>\n",
       "      <td>0</td>\n",
       "      <td>noche</td>\n",
       "    </tr>\n",
       "  </tbody>\n",
       "</table>\n",
       "<p>21640 rows × 23 columns</p>\n",
       "</div>"
      ],
      "text/plain": [
       "                  Fecha-I Vlo-I Ori-I Des-I Emp-I             Fecha-O  Vlo-O  \\\n",
       "169   2017-01-01 00:15:00    11  SCEL  MMMX   AMX 2017-01-01 00:04:00     11   \n",
       "5078  2017-01-01 01:15:00   572  SCEL  SKBO   LAN 2017-01-01 01:10:00    572   \n",
       "622   2017-01-01 01:23:00   495  SCEL  MPTO   CMP 2017-01-01 01:29:00    495   \n",
       "409   2017-01-01 01:33:00   240  SCEL  SKBO   AVA 2017-01-01 01:38:00    240   \n",
       "592   2017-01-01 01:42:00   276  SCEL  MPTO   CMP 2017-01-01 01:40:00    276   \n",
       "...                   ...   ...   ...   ...   ...                 ...    ...   \n",
       "66797 2017-12-31 23:30:00   532  SCEL  KJFK   LAN 2017-12-31 23:32:00  532.0   \n",
       "66947 2017-12-31 23:40:00   622  SCEL  MMMX   LAN 2018-01-01 00:12:00  622.0   \n",
       "62026 2017-12-31 23:45:00    11  SCEL  MMMX   AMX 2017-12-31 23:42:00     11   \n",
       "66918 2017-12-31 23:55:00   602  SCEL  KLAX   LAN 2018-01-01 00:02:00  602.0   \n",
       "61862 2017-12-31 23:55:00   226  SCEL  KMIA   AAL 2017-12-31 23:53:00    226   \n",
       "\n",
       "      Ori-O Des-O Emp-O  ...   DIANOM  TIPOVUELO              OPERA  SIGLAORI  \\\n",
       "169    SCEL  MMMX   AMX  ...  Domingo          I         Aeromexico  Santiago   \n",
       "5078   SCEL  SKBO   LAN  ...  Domingo          I        Grupo LATAM  Santiago   \n",
       "622    SCEL  MPTO   CMP  ...  Domingo          I           Copa Air  Santiago   \n",
       "409    SCEL  SKBO   AVA  ...  Domingo          I            Avianca  Santiago   \n",
       "592    SCEL  MPTO   CMP  ...  Domingo          I           Copa Air  Santiago   \n",
       "...     ...   ...   ...  ...      ...        ...                ...       ...   \n",
       "66797  SCEL  KJFK   LAN  ...  Domingo          I        Grupo LATAM  Santiago   \n",
       "66947  SCEL  MMMX   LAN  ...    Lunes          I        Grupo LATAM  Santiago   \n",
       "62026  SCEL  MMMX   AMX  ...  Domingo          I         Aeromexico  Santiago   \n",
       "66918  SCEL  KLAX   LAN  ...    Lunes          I        Grupo LATAM  Santiago   \n",
       "61862  SCEL  KMIA   AAL  ...  Domingo          I  American Airlines  Santiago   \n",
       "\n",
       "               SIGLADES HORA temporada_alta dif_min  atraso_15  periodo_dia  \n",
       "169    Ciudad de Mexico    0              1   -11.0          0        noche  \n",
       "5078             Bogota    1              1    -5.0          0        noche  \n",
       "622    Ciudad de Panama    1              1     6.0          0        noche  \n",
       "409              Bogota    1              1     5.0          0        noche  \n",
       "592    Ciudad de Panama    1              1    -2.0          0        noche  \n",
       "...                 ...  ...            ...     ...        ...          ...  \n",
       "66797        Nueva York   23              1     2.0          0        noche  \n",
       "66947  Ciudad de Mexico   23              1    32.0          1        noche  \n",
       "62026  Ciudad de Mexico   23              1    -3.0          0        noche  \n",
       "66918       Los Angeles   23              1     7.0          0        noche  \n",
       "61862             Miami   23              1    -2.0          0        noche  \n",
       "\n",
       "[21640 rows x 23 columns]"
      ]
     },
     "execution_count": 4,
     "metadata": {},
     "output_type": "execute_result"
    }
   ],
   "source": [
    "data[data.temporada_alta==1]"
   ]
  },
  {
   "cell_type": "code",
   "execution_count": 5,
   "metadata": {},
   "outputs": [
    {
     "data": {
      "text/html": [
       "<div>\n",
       "<style scoped>\n",
       "    .dataframe tbody tr th:only-of-type {\n",
       "        vertical-align: middle;\n",
       "    }\n",
       "\n",
       "    .dataframe tbody tr th {\n",
       "        vertical-align: top;\n",
       "    }\n",
       "\n",
       "    .dataframe thead th {\n",
       "        text-align: right;\n",
       "    }\n",
       "</style>\n",
       "<table border=\"1\" class=\"dataframe\">\n",
       "  <thead>\n",
       "    <tr style=\"text-align: right;\">\n",
       "      <th></th>\n",
       "      <th>Fecha-I</th>\n",
       "      <th>Vlo-I</th>\n",
       "      <th>Ori-I</th>\n",
       "      <th>Des-I</th>\n",
       "      <th>Emp-I</th>\n",
       "      <th>Fecha-O</th>\n",
       "      <th>Vlo-O</th>\n",
       "      <th>Ori-O</th>\n",
       "      <th>Des-O</th>\n",
       "      <th>Emp-O</th>\n",
       "      <th>...</th>\n",
       "      <th>DIANOM</th>\n",
       "      <th>TIPOVUELO</th>\n",
       "      <th>OPERA</th>\n",
       "      <th>SIGLAORI</th>\n",
       "      <th>SIGLADES</th>\n",
       "      <th>HORA</th>\n",
       "      <th>temporada_alta</th>\n",
       "      <th>dif_min</th>\n",
       "      <th>atraso_15</th>\n",
       "      <th>periodo_dia</th>\n",
       "    </tr>\n",
       "  </thead>\n",
       "  <tbody>\n",
       "    <tr>\n",
       "      <th>169</th>\n",
       "      <td>2017-01-01 00:15:00</td>\n",
       "      <td>11</td>\n",
       "      <td>SCEL</td>\n",
       "      <td>MMMX</td>\n",
       "      <td>AMX</td>\n",
       "      <td>2017-01-01 00:04:00</td>\n",
       "      <td>11</td>\n",
       "      <td>SCEL</td>\n",
       "      <td>MMMX</td>\n",
       "      <td>AMX</td>\n",
       "      <td>...</td>\n",
       "      <td>Domingo</td>\n",
       "      <td>I</td>\n",
       "      <td>Aeromexico</td>\n",
       "      <td>Santiago</td>\n",
       "      <td>Ciudad de Mexico</td>\n",
       "      <td>0</td>\n",
       "      <td>1</td>\n",
       "      <td>-11.0</td>\n",
       "      <td>0</td>\n",
       "      <td>noche</td>\n",
       "    </tr>\n",
       "    <tr>\n",
       "      <th>5078</th>\n",
       "      <td>2017-01-01 01:15:00</td>\n",
       "      <td>572</td>\n",
       "      <td>SCEL</td>\n",
       "      <td>SKBO</td>\n",
       "      <td>LAN</td>\n",
       "      <td>2017-01-01 01:10:00</td>\n",
       "      <td>572</td>\n",
       "      <td>SCEL</td>\n",
       "      <td>SKBO</td>\n",
       "      <td>LAN</td>\n",
       "      <td>...</td>\n",
       "      <td>Domingo</td>\n",
       "      <td>I</td>\n",
       "      <td>Grupo LATAM</td>\n",
       "      <td>Santiago</td>\n",
       "      <td>Bogota</td>\n",
       "      <td>1</td>\n",
       "      <td>1</td>\n",
       "      <td>-5.0</td>\n",
       "      <td>0</td>\n",
       "      <td>noche</td>\n",
       "    </tr>\n",
       "    <tr>\n",
       "      <th>622</th>\n",
       "      <td>2017-01-01 01:23:00</td>\n",
       "      <td>495</td>\n",
       "      <td>SCEL</td>\n",
       "      <td>MPTO</td>\n",
       "      <td>CMP</td>\n",
       "      <td>2017-01-01 01:29:00</td>\n",
       "      <td>495</td>\n",
       "      <td>SCEL</td>\n",
       "      <td>MPTO</td>\n",
       "      <td>CMP</td>\n",
       "      <td>...</td>\n",
       "      <td>Domingo</td>\n",
       "      <td>I</td>\n",
       "      <td>Copa Air</td>\n",
       "      <td>Santiago</td>\n",
       "      <td>Ciudad de Panama</td>\n",
       "      <td>1</td>\n",
       "      <td>1</td>\n",
       "      <td>6.0</td>\n",
       "      <td>0</td>\n",
       "      <td>noche</td>\n",
       "    </tr>\n",
       "    <tr>\n",
       "      <th>409</th>\n",
       "      <td>2017-01-01 01:33:00</td>\n",
       "      <td>240</td>\n",
       "      <td>SCEL</td>\n",
       "      <td>SKBO</td>\n",
       "      <td>AVA</td>\n",
       "      <td>2017-01-01 01:38:00</td>\n",
       "      <td>240</td>\n",
       "      <td>SCEL</td>\n",
       "      <td>SKBO</td>\n",
       "      <td>AVA</td>\n",
       "      <td>...</td>\n",
       "      <td>Domingo</td>\n",
       "      <td>I</td>\n",
       "      <td>Avianca</td>\n",
       "      <td>Santiago</td>\n",
       "      <td>Bogota</td>\n",
       "      <td>1</td>\n",
       "      <td>1</td>\n",
       "      <td>5.0</td>\n",
       "      <td>0</td>\n",
       "      <td>noche</td>\n",
       "    </tr>\n",
       "    <tr>\n",
       "      <th>592</th>\n",
       "      <td>2017-01-01 01:42:00</td>\n",
       "      <td>276</td>\n",
       "      <td>SCEL</td>\n",
       "      <td>MPTO</td>\n",
       "      <td>CMP</td>\n",
       "      <td>2017-01-01 01:40:00</td>\n",
       "      <td>276</td>\n",
       "      <td>SCEL</td>\n",
       "      <td>MPTO</td>\n",
       "      <td>CMP</td>\n",
       "      <td>...</td>\n",
       "      <td>Domingo</td>\n",
       "      <td>I</td>\n",
       "      <td>Copa Air</td>\n",
       "      <td>Santiago</td>\n",
       "      <td>Ciudad de Panama</td>\n",
       "      <td>1</td>\n",
       "      <td>1</td>\n",
       "      <td>-2.0</td>\n",
       "      <td>0</td>\n",
       "      <td>noche</td>\n",
       "    </tr>\n",
       "  </tbody>\n",
       "</table>\n",
       "<p>5 rows × 23 columns</p>\n",
       "</div>"
      ],
      "text/plain": [
       "                 Fecha-I Vlo-I Ori-I Des-I Emp-I             Fecha-O Vlo-O  \\\n",
       "169  2017-01-01 00:15:00    11  SCEL  MMMX   AMX 2017-01-01 00:04:00    11   \n",
       "5078 2017-01-01 01:15:00   572  SCEL  SKBO   LAN 2017-01-01 01:10:00   572   \n",
       "622  2017-01-01 01:23:00   495  SCEL  MPTO   CMP 2017-01-01 01:29:00   495   \n",
       "409  2017-01-01 01:33:00   240  SCEL  SKBO   AVA 2017-01-01 01:38:00   240   \n",
       "592  2017-01-01 01:42:00   276  SCEL  MPTO   CMP 2017-01-01 01:40:00   276   \n",
       "\n",
       "     Ori-O Des-O Emp-O  ...   DIANOM  TIPOVUELO        OPERA  SIGLAORI  \\\n",
       "169   SCEL  MMMX   AMX  ...  Domingo          I   Aeromexico  Santiago   \n",
       "5078  SCEL  SKBO   LAN  ...  Domingo          I  Grupo LATAM  Santiago   \n",
       "622   SCEL  MPTO   CMP  ...  Domingo          I     Copa Air  Santiago   \n",
       "409   SCEL  SKBO   AVA  ...  Domingo          I      Avianca  Santiago   \n",
       "592   SCEL  MPTO   CMP  ...  Domingo          I     Copa Air  Santiago   \n",
       "\n",
       "              SIGLADES HORA temporada_alta dif_min  atraso_15  periodo_dia  \n",
       "169   Ciudad de Mexico    0              1   -11.0          0        noche  \n",
       "5078            Bogota    1              1    -5.0          0        noche  \n",
       "622   Ciudad de Panama    1              1     6.0          0        noche  \n",
       "409             Bogota    1              1     5.0          0        noche  \n",
       "592   Ciudad de Panama    1              1    -2.0          0        noche  \n",
       "\n",
       "[5 rows x 23 columns]"
      ]
     },
     "execution_count": 5,
     "metadata": {},
     "output_type": "execute_result"
    }
   ],
   "source": [
    "data.head()"
   ]
  },
  {
   "cell_type": "code",
   "execution_count": 6,
   "metadata": {},
   "outputs": [],
   "source": [
    "PATH='synthetic_data.csv'\n",
    "save_syntethic_features(data, path=PATH)"
   ]
  },
  {
   "cell_type": "markdown",
   "metadata": {},
   "source": [
    "# Drop features\n",
    "## Variables -O\n",
    "\n",
    "Las variables -O se refieren a lo que sucedió, indepentiende de lo programado. Se puede suponer que el si hubo un cambio respecto a lo programado, puede haber alguna causa de fondo que cause un retraso.\n",
    "Veamos primero el retraso promedio"
   ]
  },
  {
   "cell_type": "code",
   "execution_count": 7,
   "metadata": {},
   "outputs": [
    {
     "name": "stdout",
     "output_type": "stream",
     "text": [
      "Retraso promedio: 0.18493974137172683 min\n"
     ]
    }
   ],
   "source": [
    "retraso_promedio = data.atraso_15.mean()\n",
    "print(f'Retraso promedio: {retraso_promedio} min')"
   ]
  },
  {
   "cell_type": "code",
   "execution_count": 8,
   "metadata": {},
   "outputs": [
    {
     "name": "stdout",
     "output_type": "stream",
     "text": [
      "Retraso promedio ante cambio de destino: 0.2857142857142857 min\n"
     ]
    }
   ],
   "source": [
    "retraso_promedio = data[data['Des-O']!=data['Des-I']].atraso_15.mean()\n",
    "print(f'Retraso promedio ante cambio de destino: {retraso_promedio} min')"
   ]
  },
  {
   "cell_type": "code",
   "execution_count": 9,
   "metadata": {},
   "outputs": [
    {
     "name": "stdout",
     "output_type": "stream",
     "text": [
      "Retraso promedio ante cambio de nro de vuelo: 0.252972972972973 min\n"
     ]
    }
   ],
   "source": [
    "retraso = data[data['Vlo-O']!=data['Vlo-I']].atraso_15.mean()\n",
    "print(f'Retraso promedio ante cambio de nro de vuelo: {retraso} min')"
   ]
  },
  {
   "cell_type": "code",
   "execution_count": 10,
   "metadata": {},
   "outputs": [
    {
     "name": "stdout",
     "output_type": "stream",
     "text": [
      "Retraso promedio ante cambio de aerolinea: 0.1800310675451283 min\n"
     ]
    }
   ],
   "source": [
    "retraso = data[data['Emp-O']!=data['Emp-I']].atraso_15.mean()\n",
    "print(f'Retraso promedio ante cambio de aerolinea: {retraso} min')"
   ]
  },
  {
   "cell_type": "markdown",
   "metadata": {},
   "source": [
    "Los cambios en destino y aerolinea reflejan un mayor retraso. Sin embargo, estos datos contienen datos que se conocen luego de que se produjo el retraso, por lo cual no son útiles para predecir."
   ]
  },
  {
   "cell_type": "code",
   "execution_count": 11,
   "metadata": {},
   "outputs": [
    {
     "data": {
      "text/plain": [
       "Index(['Fecha-I', 'Vlo-I', 'Ori-I', 'Des-I', 'Emp-I', 'Fecha-O', 'Vlo-O',\n",
       "       'Ori-O', 'Des-O', 'Emp-O', 'DIA', 'MES', 'AÑO', 'DIANOM', 'TIPOVUELO',\n",
       "       'OPERA', 'SIGLAORI', 'SIGLADES', 'HORA', 'temporada_alta', 'dif_min',\n",
       "       'atraso_15', 'periodo_dia'],\n",
       "      dtype='object')"
      ]
     },
     "execution_count": 11,
     "metadata": {},
     "output_type": "execute_result"
    }
   ],
   "source": [
    "data.columns"
   ]
  },
  {
   "cell_type": "code",
   "execution_count": 12,
   "metadata": {},
   "outputs": [],
   "source": [
    "data.drop(columns=['Vlo-O','Ori-O', 'Des-O', 'Emp-O','Fecha-O'],inplace=True)"
   ]
  },
  {
   "cell_type": "code",
   "execution_count": 13,
   "metadata": {},
   "outputs": [
    {
     "data": {
      "text/plain": [
       "Index(['Fecha-I', 'Vlo-I', 'Ori-I', 'Des-I', 'Emp-I', 'DIA', 'MES', 'AÑO',\n",
       "       'DIANOM', 'TIPOVUELO', 'OPERA', 'SIGLAORI', 'SIGLADES', 'HORA',\n",
       "       'temporada_alta', 'dif_min', 'atraso_15', 'periodo_dia'],\n",
       "      dtype='object')"
      ]
     },
     "execution_count": 13,
     "metadata": {},
     "output_type": "execute_result"
    }
   ],
   "source": [
    "data.columns"
   ]
  },
  {
   "cell_type": "markdown",
   "metadata": {},
   "source": [
    "## Variables redundantes e innecesarias\n",
    "### Origen"
   ]
  },
  {
   "cell_type": "code",
   "execution_count": 14,
   "metadata": {},
   "outputs": [
    {
     "data": {
      "text/plain": [
       "array(['SCEL'], dtype=object)"
      ]
     },
     "execution_count": 14,
     "metadata": {},
     "output_type": "execute_result"
    }
   ],
   "source": [
    "data['Ori-I'].unique()"
   ]
  },
  {
   "cell_type": "code",
   "execution_count": 15,
   "metadata": {},
   "outputs": [
    {
     "data": {
      "text/plain": [
       "array(['Santiago'], dtype=object)"
      ]
     },
     "execution_count": 15,
     "metadata": {},
     "output_type": "execute_result"
    }
   ],
   "source": [
    "data['SIGLAORI'].unique()"
   ]
  },
  {
   "cell_type": "code",
   "execution_count": 16,
   "metadata": {},
   "outputs": [],
   "source": [
    "#ambas se refieren al origen y no contienen información relevante\n",
    "data.drop(columns=['Ori-I','SIGLAORI'],inplace=True)"
   ]
  },
  {
   "cell_type": "markdown",
   "metadata": {},
   "source": [
    "### Empresa operadora"
   ]
  },
  {
   "cell_type": "code",
   "execution_count": 17,
   "metadata": {},
   "outputs": [
    {
     "data": {
      "text/plain": [
       "30"
      ]
     },
     "execution_count": 17,
     "metadata": {},
     "output_type": "execute_result"
    }
   ],
   "source": [
    "len(data['Emp-I'].unique())"
   ]
  },
  {
   "cell_type": "code",
   "execution_count": 18,
   "metadata": {},
   "outputs": [
    {
     "data": {
      "text/plain": [
       "23"
      ]
     },
     "execution_count": 18,
     "metadata": {},
     "output_type": "execute_result"
    }
   ],
   "source": [
    "len(data['OPERA'].unique())"
   ]
  },
  {
   "cell_type": "markdown",
   "metadata": {},
   "source": [
    "Pareece que hay alguna diferencia entre las dos categorias. Chequeemos esto"
   ]
  },
  {
   "cell_type": "code",
   "execution_count": 19,
   "metadata": {},
   "outputs": [
    {
     "name": "stdout",
     "output_type": "stream",
     "text": [
      "Grupo LATAM\n",
      "['LAN' 'TAM' 'LAP' 'LXP' 'LNE' 'DSM' 'LPE']\n",
      "Latin American Wings\n",
      "['LAW' 'JMR']\n"
     ]
    }
   ],
   "source": [
    "for op in data.OPERA.unique(): \n",
    "    tmp = data[data.OPERA==op]\n",
    "    if len(tmp['Emp-I'].unique())>1:\n",
    "        print(op)\n",
    "        print(tmp['Emp-I'].unique())"
   ]
  },
  {
   "cell_type": "code",
   "execution_count": 20,
   "metadata": {},
   "outputs": [
    {
     "data": {
      "text/plain": [
       "0.340146028208662"
      ]
     },
     "execution_count": 20,
     "metadata": {},
     "output_type": "execute_result"
    }
   ],
   "source": [
    "len(data[data['Emp-I'].isin(['LAP','LXP','LNE','DSM','LPE'])])/len(data)*100"
   ]
  },
  {
   "cell_type": "markdown",
   "metadata": {},
   "source": [
    "Dado que las variables son altamente dependientes, y representan lo mismo, se descarta una de ellas."
   ]
  },
  {
   "cell_type": "code",
   "execution_count": 21,
   "metadata": {},
   "outputs": [],
   "source": [
    "data.drop(columns=['Emp-I'],inplace=True)"
   ]
  },
  {
   "cell_type": "code",
   "execution_count": 22,
   "metadata": {},
   "outputs": [
    {
     "data": {
      "text/plain": [
       "Index(['Fecha-I', 'Vlo-I', 'Des-I', 'DIA', 'MES', 'AÑO', 'DIANOM', 'TIPOVUELO',\n",
       "       'OPERA', 'SIGLADES', 'HORA', 'temporada_alta', 'dif_min', 'atraso_15',\n",
       "       'periodo_dia'],\n",
       "      dtype='object')"
      ]
     },
     "execution_count": 22,
     "metadata": {},
     "output_type": "execute_result"
    }
   ],
   "source": [
    "data.columns"
   ]
  },
  {
   "cell_type": "markdown",
   "metadata": {},
   "source": [
    "# Destino"
   ]
  },
  {
   "cell_type": "code",
   "execution_count": 23,
   "metadata": {},
   "outputs": [
    {
     "data": {
      "text/plain": [
       "62"
      ]
     },
     "execution_count": 23,
     "metadata": {},
     "output_type": "execute_result"
    }
   ],
   "source": [
    "data.SIGLADES.nunique()"
   ]
  },
  {
   "cell_type": "code",
   "execution_count": 24,
   "metadata": {},
   "outputs": [
    {
     "data": {
      "text/plain": [
       "64"
      ]
     },
     "execution_count": 24,
     "metadata": {},
     "output_type": "execute_result"
    }
   ],
   "source": [
    "data['Des-I'].nunique()"
   ]
  },
  {
   "cell_type": "code",
   "execution_count": 25,
   "metadata": {},
   "outputs": [
    {
     "name": "stdout",
     "output_type": "stream",
     "text": [
      "Rio de Janeiro\n",
      "['SBGL' 'SBGR']\n",
      "Calama\n",
      "['SCCF' 'SCFA']\n",
      "Puerto Montt\n",
      "['SCTE' 'SCBA' 'SCCI' 'SCIE']\n",
      "Punta Arenas\n",
      "['SCCI' 'SCTE']\n",
      "Buenos Aires\n",
      "['SAEZ' 'SABE' 'SEGU']\n",
      "Temuco\n",
      "['SCQP' 'SCTE' 'SCIE']\n",
      "Miami\n",
      "['KMIA' 'KJFK']\n",
      "Cataratas Iguacu\n",
      "['SBFI' 'SARI']\n",
      "Quito\n",
      "['SEQM' 'SEQU']\n",
      "Melbourne\n",
      "['YMML' 'YSSY']\n"
     ]
    }
   ],
   "source": [
    "for op in data['SIGLADES'].unique(): \n",
    "    tmp = data[data['SIGLADES']==op]\n",
    "    if len(tmp['Des-I'].unique())>1:\n",
    "        print(op)\n",
    "        print(tmp['Des-I'].unique())"
   ]
  },
  {
   "cell_type": "markdown",
   "metadata": {},
   "source": [
    "Se decide conservar ambas variables, ya que ambas representan el destino de acuerdo a distinto criterio (aeropuerto, ciudad). Es posible que haya retrasasos en un cierto aeropuerto en particular del destino, independientemente de lo que ocurra en otro de la misma ciudad. "
   ]
  },
  {
   "cell_type": "markdown",
   "metadata": {},
   "source": [
    "## Fecha y año.\n",
    "La fecha es redundante respecto a las otras variables temporales y no es extrapolable. Por otro lado, todos los datos son del 2017."
   ]
  },
  {
   "cell_type": "code",
   "execution_count": 26,
   "metadata": {},
   "outputs": [],
   "source": [
    "data.drop(columns=['Fecha-I'],inplace=True)"
   ]
  },
  {
   "cell_type": "code",
   "execution_count": 27,
   "metadata": {},
   "outputs": [],
   "source": [
    "data.drop(columns=['AÑO'],inplace=True)"
   ]
  },
  {
   "cell_type": "markdown",
   "metadata": {},
   "source": [
    "# Missing values\n",
    "Veamos que valores faltan, para saber qué hay que imputar si es necesario, y como se relacionan las variables faltantes con el target."
   ]
  },
  {
   "cell_type": "code",
   "execution_count": 28,
   "metadata": {},
   "outputs": [],
   "source": [
    "vars_with_na = [var for var in data.columns if data[var].isnull().sum() > 0]\n",
    "\n",
    "# determine percentage of missing values (expressed as decimals)\n",
    "# and display the result ordered by % of missin data\n",
    "\n",
    "data[vars_with_na].isnull().mean().sort_values(ascending=False)\n",
    "\n",
    "data[data.isna().any(axis=1)]\n",
    "\n",
    "# Dado que solo hay una fila con datos faltantes, se puede tirar sin perjuicio. En otra situación, puede pensarse en imputar dos.\n",
    "data=data.dropna()"
   ]
  },
  {
   "cell_type": "code",
   "execution_count": 29,
   "metadata": {},
   "outputs": [
    {
     "data": {
      "text/plain": [
       "Series([], dtype: float64)"
      ]
     },
     "execution_count": 29,
     "metadata": {},
     "output_type": "execute_result"
    }
   ],
   "source": [
    "#chequeemos que no pase nada raro\n",
    "data[vars_with_na].isnull().mean().sort_values(ascending=False)"
   ]
  },
  {
   "cell_type": "markdown",
   "metadata": {},
   "source": [
    "# 1:¿Cómo se distribuyen los datos? "
   ]
  },
  {
   "cell_type": "markdown",
   "metadata": {},
   "source": [
    "\n",
    "## Target (Retraso)\n",
    "\n",
    "Empecemos por el retraso"
   ]
  },
  {
   "cell_type": "code",
   "execution_count": 30,
   "metadata": {},
   "outputs": [
    {
     "data": {
      "image/png": "[encoded data removed]",
      "text/plain": [
       "<Figure size 432x288 with 1 Axes>"
      ]
     },
     "metadata": {
      "needs_background": "light"
     },
     "output_type": "display_data"
    }
   ],
   "source": [
    "# histogram to evaluate target distribution\n",
    "\n",
    "data['dif_min'].hist(bins=50, density=True)\n",
    "plt.ylabel('Number of flights')\n",
    "plt.xlabel('Delay (in minutes)')\n",
    "plt.show()"
   ]
  },
  {
   "cell_type": "markdown",
   "metadata": {},
   "source": [
    "Tal como se espera, la distribución esta centrada en 0 y decae en ambas direcciones. Existe vuelos que no se retrasan, sino que se adelantan."
   ]
  },
  {
   "cell_type": "code",
   "execution_count": 31,
   "metadata": {},
   "outputs": [
    {
     "name": "stdout",
     "output_type": "stream",
     "text": [
      "El 26.26% de los vuelos salen adelantados\n"
     ]
    }
   ],
   "source": [
    "percent_vuelos_adelantados = round(100*len(data[data.dif_min < 0])/len(data),2) \n",
    "print(f'El {percent_vuelos_adelantados}% de los vuelos salen adelantados')"
   ]
  },
  {
   "cell_type": "markdown",
   "metadata": {},
   "source": [
    " La gran mayoría de los retrasos están por debajo de los 50 minutos, pero hay una larga cola que sobrepasa las 2 horas. Sería interesante analizar qué causa estos retrasos más largos.\n",
    "\n",
    "Si bien en esta notebook se atacará el problema como uno de clasificación, esta larga cola puede causar problemas en un modelo de regresión, por lo que debería aplicarse alguna transformación (p.ej Yeo-Johnson).\n",
    "\n",
    "Veamos ahora el atraso a 15 minutos"
   ]
  },
  {
   "cell_type": "code",
   "execution_count": 32,
   "metadata": {},
   "outputs": [],
   "source": [
    "def make_pie_chart(data, var, title=''):\n",
    "\n",
    "    labels= data[var].value_counts().index\n",
    "    datas = data[var].value_counts()/len(data)\n",
    "    fig = plt.figure(figsize=[6, 6])\n",
    "    ax = fig.add_subplot(111)\n",
    "    title = title\n",
    "    ax.set_title(title)\n",
    "    pie_wedge_collection = ax.pie(datas, labels=labels, labeldistance=1.05,autopct='%.0f%%')\n",
    "\n",
    "    for pie_wedge in pie_wedge_collection[0]:\n",
    "            pie_wedge.set_edgecolor('white')"
   ]
  },
  {
   "cell_type": "code",
   "execution_count": 33,
   "metadata": {},
   "outputs": [
    {
     "data": {
      "image/png": "[encoded data removed]",
      "text/plain": [
       "<Figure size 432x432 with 1 Axes>"
      ]
     },
     "metadata": {},
     "output_type": "display_data"
    }
   ],
   "source": [
    "make_pie_chart(data, var= 'atraso_15',title= 'Retraso mayor a 15 minutos en vuelos' )"
   ]
  },
  {
   "cell_type": "markdown",
   "metadata": {},
   "source": [
    "Como es de esperar, hay un desbalance, no habiendo retraso en la mayoría de los vuelos. Notablemente, hay menos vuelos atrasados que adelantados. El desbalance no es tan grande para aplicar métodos como upsampling (por lo menos en una primera iteración).\n",
    "\n",
    "Ver: https://machinelearningmastery.com/framework-for-imbalanced-classification-projects/"
   ]
  },
  {
   "cell_type": "markdown",
   "metadata": {},
   "source": [
    "Es de esperar que haya una dependencia entre los retrasos (varios retrasos consecutivos por clima, por ejemplo). Podemos ver si existe una autocorrelación en el target."
   ]
  },
  {
   "cell_type": "code",
   "execution_count": 34,
   "metadata": {},
   "outputs": [
    {
     "data": {
      "image/png": "[encoded data removed]",
      "text/plain": [
       "<Figure size 432x288 with 1 Axes>"
      ]
     },
     "metadata": {
      "needs_background": "light"
     },
     "output_type": "display_data"
    }
   ],
   "source": [
    "from statsmodels.graphics.tsaplots import plot_acf\n",
    "import matplotlib.pyplot as plt\n",
    "plot_acf(x=data['dif_min'])\n",
    "plt.show()"
   ]
  },
  {
   "cell_type": "markdown",
   "metadata": {},
   "source": [
    "Existe una autocorrelación, siempre positiva, pero no tan grande. Se puede pensar agregar una nueva feature que contenga la información de si el vuelo anterior fue retrasado, o bien el promedio del target en las anteriores N horas. Si bien esta información probablemente mejoraría el resultado del modelo, muy posiblemente no sea posible tener este dato en una situación real, o sea, sería necesario disponer de la información de los vuelos inmediatamente anteriores, entrenar y predecir. Por eso, no se agregará esta feature en la notebook. "
   ]
  },
  {
   "cell_type": "markdown",
   "metadata": {},
   "source": [
    "# Features\n"
   ]
  },
  {
   "cell_type": "markdown",
   "metadata": {},
   "source": [
    "## Distribución de variables numéricas"
   ]
  },
  {
   "cell_type": "code",
   "execution_count": 35,
   "metadata": {},
   "outputs": [
    {
     "data": {
      "text/plain": [
       "Index(['Vlo-I', 'Des-I', 'DIA', 'MES', 'DIANOM', 'TIPOVUELO', 'OPERA',\n",
       "       'SIGLADES', 'HORA', 'temporada_alta', 'dif_min', 'atraso_15',\n",
       "       'periodo_dia'],\n",
       "      dtype='object')"
      ]
     },
     "execution_count": 35,
     "metadata": {},
     "output_type": "execute_result"
    }
   ],
   "source": [
    "data.columns"
   ]
  },
  {
   "cell_type": "code",
   "execution_count": 36,
   "metadata": {},
   "outputs": [],
   "source": [
    "VARIABLES_DISCRETAS = ['DIA','MES','HORA']"
   ]
  },
  {
   "cell_type": "markdown",
   "metadata": {},
   "source": [
    "### Dia"
   ]
  },
  {
   "cell_type": "code",
   "execution_count": 37,
   "metadata": {},
   "outputs": [
    {
     "data": {
      "text/plain": [
       "<AxesSubplot:>"
      ]
     },
     "execution_count": 37,
     "metadata": {},
     "output_type": "execute_result"
    },
    {
     "data": {
      "image/png": "[encoded data removed]",
      "text/plain": [
       "<Figure size 432x288 with 1 Axes>"
      ]
     },
     "metadata": {
      "needs_background": "light"
     },
     "output_type": "display_data"
    }
   ],
   "source": [
    "# Descartamos los 31 porque son menos\n",
    "data[data['DIA']<31]['DIA'].hist(bins=30)"
   ]
  },
  {
   "cell_type": "markdown",
   "metadata": {},
   "source": [
    "La distribución por día del mes es uniforme, aunque sorprendentemente hay una pequeña caída a fin de mes."
   ]
  },
  {
   "cell_type": "markdown",
   "metadata": {},
   "source": [
    "### Hora"
   ]
  },
  {
   "cell_type": "code",
   "execution_count": 38,
   "metadata": {},
   "outputs": [
    {
     "data": {
      "text/plain": [
       "<AxesSubplot:>"
      ]
     },
     "execution_count": 38,
     "metadata": {},
     "output_type": "execute_result"
    },
    {
     "data": {
      "image/png": "[encoded data removed]",
      "text/plain": [
       "<Figure size 432x288 with 1 Axes>"
      ]
     },
     "metadata": {
      "needs_background": "light"
     },
     "output_type": "display_data"
    }
   ],
   "source": [
    "data['HORA'].hist(bins=24)"
   ]
  },
  {
   "cell_type": "markdown",
   "metadata": {},
   "source": [
    "Es notable una alta actividad a la mañana (entre 6 y 8) y alrededor de las 15.\n",
    "\n",
    "### Mes"
   ]
  },
  {
   "cell_type": "code",
   "execution_count": 39,
   "metadata": {},
   "outputs": [
    {
     "data": {
      "text/plain": [
       "<AxesSubplot:>"
      ]
     },
     "execution_count": 39,
     "metadata": {},
     "output_type": "execute_result"
    },
    {
     "data": {
      "image/png": "[encoded data removed]",
      "text/plain": [
       "<Figure size 432x288 with 1 Axes>"
      ]
     },
     "metadata": {
      "needs_background": "light"
     },
     "output_type": "display_data"
    }
   ],
   "source": [
    "data['MES'].hist(bins=12)"
   ]
  },
  {
   "cell_type": "markdown",
   "metadata": {},
   "source": [
    "La mayor actividad se da a final y principio de año (vacaciones). Hay una caída desde enero hasta julio, cuando vuelve a retomar."
   ]
  },
  {
   "cell_type": "code",
   "execution_count": 40,
   "metadata": {},
   "outputs": [
    {
     "data": {
      "text/plain": [
       "Text(0, 0.5, 'retraso (min)')"
      ]
     },
     "execution_count": 40,
     "metadata": {},
     "output_type": "execute_result"
    },
    {
     "data": {
      "image/png": "[encoded data removed]",
      "text/plain": [
       "<Figure size 432x288 with 1 Axes>"
      ]
     },
     "metadata": {
      "needs_background": "light"
     },
     "output_type": "display_data"
    }
   ],
   "source": [
    "data.groupby('HORA').mean()['dif_min'].plot()\n",
    "plt.ylabel('retraso (min)')"
   ]
  },
  {
   "cell_type": "code",
   "execution_count": 41,
   "metadata": {},
   "outputs": [
    {
     "data": {
      "text/plain": [
       "Text(0, 0.5, 'retraso (min)')"
      ]
     },
     "execution_count": 41,
     "metadata": {},
     "output_type": "execute_result"
    },
    {
     "data": {
      "image/png": "[encoded data removed]",
      "text/plain": [
       "<Figure size 432x288 with 1 Axes>"
      ]
     },
     "metadata": {
      "needs_background": "light"
     },
     "output_type": "display_data"
    }
   ],
   "source": [
    "data.groupby('DIA').mean()['dif_min'].plot()\n",
    "plt.ylabel('retraso (min)')"
   ]
  },
  {
   "cell_type": "code",
   "execution_count": 42,
   "metadata": {},
   "outputs": [
    {
     "data": {
      "text/plain": [
       "Text(0, 0.5, 'retraso (min)')"
      ]
     },
     "execution_count": 42,
     "metadata": {},
     "output_type": "execute_result"
    },
    {
     "data": {
      "image/png": "[encoded data removed]",
      "text/plain": [
       "<Figure size 432x288 with 1 Axes>"
      ]
     },
     "metadata": {
      "needs_background": "light"
     },
     "output_type": "display_data"
    }
   ],
   "source": [
    "data.groupby('HORA').mean()['dif_min'].plot()\n",
    "plt.ylabel('retraso (min)')"
   ]
  },
  {
   "cell_type": "markdown",
   "metadata": {},
   "source": [
    "Se ven mayores retrasos a mediados de mes, pero con grandes fluctuaciones. "
   ]
  },
  {
   "cell_type": "code",
   "execution_count": 43,
   "metadata": {},
   "outputs": [
    {
     "data": {
      "text/plain": [
       "Text(0, 0.5, 'retraso (min)')"
      ]
     },
     "execution_count": 43,
     "metadata": {},
     "output_type": "execute_result"
    },
    {
     "data": {
      "image/png": "[encoded data removed]",
      "text/plain": [
       "<Figure size 432x288 with 1 Axes>"
      ]
     },
     "metadata": {
      "needs_background": "light"
     },
     "output_type": "display_data"
    }
   ],
   "source": [
    "data.groupby('MES').mean()['dif_min'].plot()\n",
    "plt.ylabel('retraso (min)')"
   ]
  },
  {
   "cell_type": "markdown",
   "metadata": {},
   "source": [
    "Hubo un aumento fueret de los retrasos durante el mes de julio, cuyas causas valdría la pena estudiar por separado en otro momento."
   ]
  },
  {
   "cell_type": "code",
   "execution_count": null,
   "metadata": {},
   "outputs": [],
   "source": []
  },
  {
   "cell_type": "markdown",
   "metadata": {},
   "source": [
    "## Variables categóricas: cardinalidad"
   ]
  },
  {
   "cell_type": "code",
   "execution_count": 44,
   "metadata": {},
   "outputs": [],
   "source": [
    "VARIABLES_CATEGORICAS = ['Vlo-I', 'Des-I', 'DIANOM', 'TIPOVUELO', 'OPERA',\n",
    "       'SIGLADES', 'temporada_alta','periodo_dia']"
   ]
  },
  {
   "cell_type": "code",
   "execution_count": 45,
   "metadata": {},
   "outputs": [
    {
     "data": {
      "text/plain": [
       "Index(['Vlo-I', 'Des-I', 'DIA', 'MES', 'DIANOM', 'TIPOVUELO', 'OPERA',\n",
       "       'SIGLADES', 'HORA', 'temporada_alta', 'dif_min', 'atraso_15',\n",
       "       'periodo_dia'],\n",
       "      dtype='object')"
      ]
     },
     "execution_count": 45,
     "metadata": {},
     "output_type": "execute_result"
    }
   ],
   "source": [
    "data.columns"
   ]
  },
  {
   "cell_type": "code",
   "execution_count": 46,
   "metadata": {},
   "outputs": [
    {
     "data": {
      "text/plain": [
       "13"
      ]
     },
     "execution_count": 46,
     "metadata": {},
     "output_type": "execute_result"
    }
   ],
   "source": [
    "len(data.columns)"
   ]
  },
  {
   "cell_type": "code",
   "execution_count": 47,
   "metadata": {},
   "outputs": [
    {
     "data": {
      "text/plain": [
       "8"
      ]
     },
     "execution_count": 47,
     "metadata": {},
     "output_type": "execute_result"
    }
   ],
   "source": [
    "len(VARIABLES_CATEGORICAS)"
   ]
  },
  {
   "cell_type": "code",
   "execution_count": 48,
   "metadata": {},
   "outputs": [
    {
     "data": {
      "text/plain": [
       "<AxesSubplot:>"
      ]
     },
     "execution_count": 48,
     "metadata": {},
     "output_type": "execute_result"
    },
    {
     "data": {
      "image/png": "[encoded data removed]",
      "text/plain": [
       "<Figure size 864x360 with 1 Axes>"
      ]
     },
     "metadata": {
      "needs_background": "light"
     },
     "output_type": "display_data"
    }
   ],
   "source": [
    "# we count unique categories with pandas unique() \n",
    "# and then plot them in descending order\n",
    "data[VARIABLES_CATEGORICAS].nunique().sort_values(ascending=False).plot.bar(figsize=(12,5))"
   ]
  },
  {
   "cell_type": "markdown",
   "metadata": {},
   "source": [
    "El número de vuelo tiene una cardinalidad alta, como es de esperar. Usar un OneHotEncoder puede ser muy pesado. Esta variable puede llegar a no ser importante, dado que es un ID del vuelo y no contiene información en sí.\n"
   ]
  },
  {
   "cell_type": "code",
   "execution_count": 49,
   "metadata": {},
   "outputs": [],
   "source": [
    "CAT_REDUCED=['Des-I', 'DIANOM', 'TIPOVUELO', 'OPERA',\n",
    "       'SIGLADES', 'temporada_alta','periodo_dia']"
   ]
  },
  {
   "cell_type": "code",
   "execution_count": 50,
   "metadata": {},
   "outputs": [
    {
     "data": {
      "text/plain": [
       "<AxesSubplot:>"
      ]
     },
     "execution_count": 50,
     "metadata": {},
     "output_type": "execute_result"
    },
    {
     "data": {
      "image/png": "[encoded data removed]",
      "text/plain": [
       "<Figure size 864x360 with 1 Axes>"
      ]
     },
     "metadata": {
      "needs_background": "light"
     },
     "output_type": "display_data"
    }
   ],
   "source": [
    "data[CAT_REDUCED].nunique().sort_values(ascending=False).plot.bar(figsize=(12,5))"
   ]
  },
  {
   "cell_type": "markdown",
   "metadata": {},
   "source": []
  },
  {
   "cell_type": "markdown",
   "metadata": {},
   "source": []
  },
  {
   "cell_type": "markdown",
   "metadata": {},
   "source": []
  },
  {
   "cell_type": "markdown",
   "metadata": {},
   "source": []
  },
  {
   "cell_type": "markdown",
   "metadata": {},
   "source": []
  },
  {
   "cell_type": "code",
   "execution_count": 51,
   "metadata": {},
   "outputs": [
    {
     "data": {
      "text/plain": [
       "['Vlo-I',\n",
       " 'Des-I',\n",
       " 'DIANOM',\n",
       " 'TIPOVUELO',\n",
       " 'OPERA',\n",
       " 'SIGLADES',\n",
       " 'temporada_alta',\n",
       " 'periodo_dia']"
      ]
     },
     "execution_count": 51,
     "metadata": {},
     "output_type": "execute_result"
    }
   ],
   "source": [
    "VARIABLES_CATEGORICAS"
   ]
  },
  {
   "cell_type": "markdown",
   "metadata": {},
   "source": [
    "## Variables categóricas: distribución"
   ]
  },
  {
   "cell_type": "markdown",
   "metadata": {},
   "source": [
    "## Temporada alta"
   ]
  },
  {
   "cell_type": "code",
   "execution_count": 52,
   "metadata": {},
   "outputs": [
    {
     "data": {
      "image/png": "[encoded data removed]",
      "text/plain": [
       "<Figure size 864x360 with 1 Axes>"
      ]
     },
     "metadata": {
      "needs_background": "light"
     },
     "output_type": "display_data"
    }
   ],
   "source": [
    "plot_distribucion(data,'temporada_alta')"
   ]
  },
  {
   "cell_type": "code",
   "execution_count": 53,
   "metadata": {},
   "outputs": [
    {
     "name": "stdout",
     "output_type": "stream",
     "text": [
      "Días que son temporada alta: 0.2328767123287671\n"
     ]
    }
   ],
   "source": [
    "dias = (16+31+3+16+19)/365\n",
    "print(f'Días que son temporada alta: {dias}')"
   ]
  },
  {
   "cell_type": "code",
   "execution_count": 54,
   "metadata": {},
   "outputs": [
    {
     "name": "stdout",
     "output_type": "stream",
     "text": [
      "Vuelos en temporada alta: 0.3172741401049761\n"
     ]
    }
   ],
   "source": [
    "frac = data.temporada_alta.sum()/len(data)\n",
    "print(f'Vuelos en temporada alta: {frac}')"
   ]
  },
  {
   "cell_type": "markdown",
   "metadata": {},
   "source": [
    "Hay más vuelos en temporada alta, como es esperable, pero no es una cantidad tan importante."
   ]
  },
  {
   "cell_type": "markdown",
   "metadata": {},
   "source": [
    "## Aerolinea "
   ]
  },
  {
   "cell_type": "code",
   "execution_count": 55,
   "metadata": {},
   "outputs": [
    {
     "data": {
      "image/png": "[encoded data removed]",
      "text/plain": [
       "<Figure size 864x360 with 1 Axes>"
      ]
     },
     "metadata": {
      "needs_background": "light"
     },
     "output_type": "display_data"
    }
   ],
   "source": [
    "plot_distribucion(data,'OPERA')"
   ]
  },
  {
   "cell_type": "code",
   "execution_count": null,
   "metadata": {},
   "outputs": [],
   "source": []
  },
  {
   "cell_type": "markdown",
   "metadata": {},
   "source": [
    "La gran mayoria de los vuelos son del grupo LATAM, seguido por Sky Airline, con una participación mucho menor de otras aerolíneas.\n",
    "\n",
    "El retraso depende de la aerolínea, lo cual muestra que puede ser un buen indicador. Dos aerolíneas tuvieron retrasos en más de la mitad de los vuelos."
   ]
  },
  {
   "cell_type": "markdown",
   "metadata": {},
   "source": [
    "## Destino"
   ]
  },
  {
   "cell_type": "code",
   "execution_count": 56,
   "metadata": {},
   "outputs": [
    {
     "data": {
      "image/png": "[encoded data removed]",
      "text/plain": [
       "<Figure size 864x360 with 1 Axes>"
      ]
     },
     "metadata": {
      "needs_background": "light"
     },
     "output_type": "display_data"
    }
   ],
   "source": [
    "plot_distribucion(data,'SIGLADES')"
   ]
  },
  {
   "cell_type": "code",
   "execution_count": 57,
   "metadata": {},
   "outputs": [
    {
     "data": {
      "image/png": "[encoded data removed]",
      "text/plain": [
       "<Figure size 864x360 with 1 Axes>"
      ]
     },
     "metadata": {
      "needs_background": "light"
     },
     "output_type": "display_data"
    }
   ],
   "source": [
    "plot_distribucion(data,'Des-I')"
   ]
  },
  {
   "cell_type": "markdown",
   "metadata": {},
   "source": [
    "Buenos Aires destaca por gran cantidad de vuelos y una cantidad alta de retrasos. Hay lugares con pocos vuelos (Quito) pero en que todos sus vuelos se retrasaron. "
   ]
  },
  {
   "cell_type": "markdown",
   "metadata": {},
   "source": [
    "## Día de la semana"
   ]
  },
  {
   "cell_type": "code",
   "execution_count": 58,
   "metadata": {},
   "outputs": [
    {
     "data": {
      "image/png": "[encoded data removed]",
      "text/plain": [
       "<Figure size 864x360 with 1 Axes>"
      ]
     },
     "metadata": {
      "needs_background": "light"
     },
     "output_type": "display_data"
    }
   ],
   "source": [
    "plot_distribucion(data,'DIANOM')"
   ]
  },
  {
   "cell_type": "markdown",
   "metadata": {},
   "source": [
    "Inesperadamente, hay menos vuelos los sábados. Los viernes, que son el día de mayor actividad, tienen la mayor cantidad de retraso, similar a jueves y lunes"
   ]
  },
  {
   "cell_type": "markdown",
   "metadata": {},
   "source": [
    "## Código de vuelo"
   ]
  },
  {
   "cell_type": "code",
   "execution_count": 59,
   "metadata": {},
   "outputs": [
    {
     "data": {
      "image/png": "[encoded data removed]",
      "text/plain": [
       "<Figure size 864x360 with 1 Axes>"
      ]
     },
     "metadata": {
      "needs_background": "light"
     },
     "output_type": "display_data"
    }
   ],
   "source": [
    "plot_distribucion(data,'Vlo-I')"
   ]
  },
  {
   "cell_type": "markdown",
   "metadata": {},
   "source": [
    "## Tipo de vuelo"
   ]
  },
  {
   "cell_type": "code",
   "execution_count": 60,
   "metadata": {},
   "outputs": [
    {
     "data": {
      "image/png": "[encoded data removed]",
      "text/plain": [
       "<Figure size 864x360 with 1 Axes>"
      ]
     },
     "metadata": {
      "needs_background": "light"
     },
     "output_type": "display_data"
    }
   ],
   "source": [
    "plot_distribucion(data,'TIPOVUELO')"
   ]
  },
  {
   "cell_type": "markdown",
   "metadata": {},
   "source": [
    "Hay una leve cantidad de vuelos nacionales sobre internacionales"
   ]
  },
  {
   "cell_type": "markdown",
   "metadata": {},
   "source": [
    "## Periodo del día"
   ]
  },
  {
   "cell_type": "code",
   "execution_count": 61,
   "metadata": {},
   "outputs": [
    {
     "data": {
      "image/png": "[encoded data removed]",
      "text/plain": [
       "<Figure size 864x360 with 1 Axes>"
      ]
     },
     "metadata": {
      "needs_background": "light"
     },
     "output_type": "display_data"
    }
   ],
   "source": [
    "plot_distribucion(data,'periodo_dia')"
   ]
  },
  {
   "cell_type": "code",
   "execution_count": 62,
   "metadata": {},
   "outputs": [
    {
     "data": {
      "text/html": [
       "<div>\n",
       "<style scoped>\n",
       "    .dataframe tbody tr th:only-of-type {\n",
       "        vertical-align: middle;\n",
       "    }\n",
       "\n",
       "    .dataframe tbody tr th {\n",
       "        vertical-align: top;\n",
       "    }\n",
       "\n",
       "    .dataframe thead th {\n",
       "        text-align: right;\n",
       "    }\n",
       "</style>\n",
       "<table border=\"1\" class=\"dataframe\">\n",
       "  <thead>\n",
       "    <tr style=\"text-align: right;\">\n",
       "      <th></th>\n",
       "      <th>Vlo-I</th>\n",
       "      <th>Des-I</th>\n",
       "      <th>DIA</th>\n",
       "      <th>MES</th>\n",
       "      <th>DIANOM</th>\n",
       "      <th>TIPOVUELO</th>\n",
       "      <th>OPERA</th>\n",
       "      <th>SIGLADES</th>\n",
       "      <th>HORA</th>\n",
       "      <th>temporada_alta</th>\n",
       "      <th>dif_min</th>\n",
       "      <th>atraso_15</th>\n",
       "      <th>periodo_dia</th>\n",
       "    </tr>\n",
       "  </thead>\n",
       "  <tbody>\n",
       "    <tr>\n",
       "      <th>5883</th>\n",
       "      <td>2636</td>\n",
       "      <td>SPJC</td>\n",
       "      <td>1</td>\n",
       "      <td>1</td>\n",
       "      <td>Domingo</td>\n",
       "      <td>I</td>\n",
       "      <td>Grupo LATAM</td>\n",
       "      <td>Lima</td>\n",
       "      <td>5</td>\n",
       "      <td>1</td>\n",
       "      <td>-4.0</td>\n",
       "      <td>0</td>\n",
       "      <td>mañana</td>\n",
       "    </tr>\n",
       "    <tr>\n",
       "      <th>2462</th>\n",
       "      <td>802</td>\n",
       "      <td>SPJC</td>\n",
       "      <td>1</td>\n",
       "      <td>1</td>\n",
       "      <td>Domingo</td>\n",
       "      <td>I</td>\n",
       "      <td>Sky Airline</td>\n",
       "      <td>Lima</td>\n",
       "      <td>5</td>\n",
       "      <td>1</td>\n",
       "      <td>5.0</td>\n",
       "      <td>0</td>\n",
       "      <td>mañana</td>\n",
       "    </tr>\n",
       "    <tr>\n",
       "      <th>477</th>\n",
       "      <td>112</td>\n",
       "      <td>MPTO</td>\n",
       "      <td>1</td>\n",
       "      <td>1</td>\n",
       "      <td>Domingo</td>\n",
       "      <td>I</td>\n",
       "      <td>Copa Air</td>\n",
       "      <td>Ciudad de Panama</td>\n",
       "      <td>5</td>\n",
       "      <td>1</td>\n",
       "      <td>-3.0</td>\n",
       "      <td>0</td>\n",
       "      <td>mañana</td>\n",
       "    </tr>\n",
       "    <tr>\n",
       "      <th>1753</th>\n",
       "      <td>120</td>\n",
       "      <td>SCCF</td>\n",
       "      <td>1</td>\n",
       "      <td>1</td>\n",
       "      <td>Domingo</td>\n",
       "      <td>N</td>\n",
       "      <td>Sky Airline</td>\n",
       "      <td>Calama</td>\n",
       "      <td>6</td>\n",
       "      <td>1</td>\n",
       "      <td>-3.0</td>\n",
       "      <td>0</td>\n",
       "      <td>mañana</td>\n",
       "    </tr>\n",
       "    <tr>\n",
       "      <th>684</th>\n",
       "      <td>7661</td>\n",
       "      <td>SBGR</td>\n",
       "      <td>1</td>\n",
       "      <td>1</td>\n",
       "      <td>Domingo</td>\n",
       "      <td>I</td>\n",
       "      <td>Gol Trans</td>\n",
       "      <td>Sao Paulo</td>\n",
       "      <td>6</td>\n",
       "      <td>1</td>\n",
       "      <td>13.0</td>\n",
       "      <td>0</td>\n",
       "      <td>mañana</td>\n",
       "    </tr>\n",
       "    <tr>\n",
       "      <th>...</th>\n",
       "      <td>...</td>\n",
       "      <td>...</td>\n",
       "      <td>...</td>\n",
       "      <td>...</td>\n",
       "      <td>...</td>\n",
       "      <td>...</td>\n",
       "      <td>...</td>\n",
       "      <td>...</td>\n",
       "      <td>...</td>\n",
       "      <td>...</td>\n",
       "      <td>...</td>\n",
       "      <td>...</td>\n",
       "      <td>...</td>\n",
       "    </tr>\n",
       "    <tr>\n",
       "      <th>65469</th>\n",
       "      <td>251</td>\n",
       "      <td>SCJO</td>\n",
       "      <td>31</td>\n",
       "      <td>12</td>\n",
       "      <td>Domingo</td>\n",
       "      <td>N</td>\n",
       "      <td>Grupo LATAM</td>\n",
       "      <td>Osorno</td>\n",
       "      <td>11</td>\n",
       "      <td>1</td>\n",
       "      <td>1.0</td>\n",
       "      <td>0</td>\n",
       "      <td>mañana</td>\n",
       "    </tr>\n",
       "    <tr>\n",
       "      <th>66448</th>\n",
       "      <td>434</td>\n",
       "      <td>SAME</td>\n",
       "      <td>31</td>\n",
       "      <td>12</td>\n",
       "      <td>Domingo</td>\n",
       "      <td>I</td>\n",
       "      <td>Grupo LATAM</td>\n",
       "      <td>Mendoza</td>\n",
       "      <td>11</td>\n",
       "      <td>1</td>\n",
       "      <td>1.0</td>\n",
       "      <td>0</td>\n",
       "      <td>mañana</td>\n",
       "    </tr>\n",
       "    <tr>\n",
       "      <th>65381</th>\n",
       "      <td>235</td>\n",
       "      <td>SCQP</td>\n",
       "      <td>31</td>\n",
       "      <td>12</td>\n",
       "      <td>Domingo</td>\n",
       "      <td>N</td>\n",
       "      <td>Grupo LATAM</td>\n",
       "      <td>Temuco</td>\n",
       "      <td>11</td>\n",
       "      <td>1</td>\n",
       "      <td>21.0</td>\n",
       "      <td>1</td>\n",
       "      <td>mañana</td>\n",
       "    </tr>\n",
       "    <tr>\n",
       "      <th>64549</th>\n",
       "      <td>91</td>\n",
       "      <td>SCCI</td>\n",
       "      <td>31</td>\n",
       "      <td>12</td>\n",
       "      <td>Domingo</td>\n",
       "      <td>N</td>\n",
       "      <td>Grupo LATAM</td>\n",
       "      <td>Punta Arenas</td>\n",
       "      <td>11</td>\n",
       "      <td>1</td>\n",
       "      <td>-3.0</td>\n",
       "      <td>0</td>\n",
       "      <td>mañana</td>\n",
       "    </tr>\n",
       "    <tr>\n",
       "      <th>64317</th>\n",
       "      <td>630</td>\n",
       "      <td>SBFL</td>\n",
       "      <td>31</td>\n",
       "      <td>12</td>\n",
       "      <td>Domingo</td>\n",
       "      <td>I</td>\n",
       "      <td>Sky Airline</td>\n",
       "      <td>Florianapolis</td>\n",
       "      <td>11</td>\n",
       "      <td>1</td>\n",
       "      <td>5.0</td>\n",
       "      <td>0</td>\n",
       "      <td>mañana</td>\n",
       "    </tr>\n",
       "  </tbody>\n",
       "</table>\n",
       "<p>25352 rows × 13 columns</p>\n",
       "</div>"
      ],
      "text/plain": [
       "      Vlo-I Des-I  DIA  MES   DIANOM TIPOVUELO        OPERA          SIGLADES  \\\n",
       "5883   2636  SPJC    1    1  Domingo         I  Grupo LATAM              Lima   \n",
       "2462    802  SPJC    1    1  Domingo         I  Sky Airline              Lima   \n",
       "477     112  MPTO    1    1  Domingo         I     Copa Air  Ciudad de Panama   \n",
       "1753    120  SCCF    1    1  Domingo         N  Sky Airline            Calama   \n",
       "684    7661  SBGR    1    1  Domingo         I    Gol Trans         Sao Paulo   \n",
       "...     ...   ...  ...  ...      ...       ...          ...               ...   \n",
       "65469   251  SCJO   31   12  Domingo         N  Grupo LATAM            Osorno   \n",
       "66448   434  SAME   31   12  Domingo         I  Grupo LATAM           Mendoza   \n",
       "65381   235  SCQP   31   12  Domingo         N  Grupo LATAM            Temuco   \n",
       "64549    91  SCCI   31   12  Domingo         N  Grupo LATAM      Punta Arenas   \n",
       "64317   630  SBFL   31   12  Domingo         I  Sky Airline     Florianapolis   \n",
       "\n",
       "       HORA  temporada_alta  dif_min  atraso_15 periodo_dia  \n",
       "5883      5               1     -4.0          0      mañana  \n",
       "2462      5               1      5.0          0      mañana  \n",
       "477       5               1     -3.0          0      mañana  \n",
       "1753      6               1     -3.0          0      mañana  \n",
       "684       6               1     13.0          0      mañana  \n",
       "...     ...             ...      ...        ...         ...  \n",
       "65469    11               1      1.0          0      mañana  \n",
       "66448    11               1      1.0          0      mañana  \n",
       "65381    11               1     21.0          1      mañana  \n",
       "64549    11               1     -3.0          0      mañana  \n",
       "64317    11               1      5.0          0      mañana  \n",
       "\n",
       "[25352 rows x 13 columns]"
      ]
     },
     "execution_count": 62,
     "metadata": {},
     "output_type": "execute_result"
    }
   ],
   "source": [
    "data[data.periodo_dia=='mañana']"
   ]
  },
  {
   "cell_type": "markdown",
   "metadata": {},
   "source": [
    "# Pregunta 3: \n",
    "¿Cómo se compone la tasa de atraso por destino, aerolínea, mes del año, día de la semana, temporada, tipo de vuelo?\n",
    "¿Qué variables esperarías que más influyeran en predecir atrasos?"
   ]
  },
  {
   "cell_type": "markdown",
   "metadata": {},
   "source": [
    "Hay más retrasos en temporada alta, como era de esperar."
   ]
  },
  {
   "cell_type": "markdown",
   "metadata": {},
   "source": [
    "## Variables numéricas"
   ]
  },
  {
   "cell_type": "code",
   "execution_count": 63,
   "metadata": {},
   "outputs": [
    {
     "data": {
      "text/plain": [
       "Text(0, 0.5, 'retraso (min)')"
      ]
     },
     "execution_count": 63,
     "metadata": {},
     "output_type": "execute_result"
    },
    {
     "data": {
      "image/png": "[encoded data removed]",
      "text/plain": [
       "<Figure size 432x288 with 1 Axes>"
      ]
     },
     "metadata": {
      "needs_background": "light"
     },
     "output_type": "display_data"
    }
   ],
   "source": [
    "data.groupby('HORA').mean()['dif_min'].plot()\n",
    "plt.ylabel('retraso (min)')"
   ]
  },
  {
   "cell_type": "markdown",
   "metadata": {},
   "source": [
    "Las primeras horas de la mañana, con menos acticidad, fluctúan mucho. El retraso crece con la hora del día después de eso."
   ]
  },
  {
   "cell_type": "code",
   "execution_count": 64,
   "metadata": {},
   "outputs": [
    {
     "data": {
      "text/plain": [
       "Text(0, 0.5, 'retraso (min)')"
      ]
     },
     "execution_count": 64,
     "metadata": {},
     "output_type": "execute_result"
    },
    {
     "data": {
      "image/png": "[encoded data removed]",
      "text/plain": [
       "<Figure size 432x288 with 1 Axes>"
      ]
     },
     "metadata": {
      "needs_background": "light"
     },
     "output_type": "display_data"
    }
   ],
   "source": [
    "data.groupby('DIA').mean()['dif_min'].plot()\n",
    "plt.ylabel('retraso (min)')"
   ]
  },
  {
   "cell_type": "markdown",
   "metadata": {},
   "source": [
    "Se ven mayores retrasos a mediados de mes respecto de los extremos, pero con grandes fluctuaciones. "
   ]
  },
  {
   "cell_type": "markdown",
   "metadata": {},
   "source": [
    "Se ven mayores retrasos a mediados de mes, pero con grandes fluctuaciones. "
   ]
  },
  {
   "cell_type": "code",
   "execution_count": 65,
   "metadata": {},
   "outputs": [
    {
     "data": {
      "text/plain": [
       "Text(0, 0.5, 'retraso (min)')"
      ]
     },
     "execution_count": 65,
     "metadata": {},
     "output_type": "execute_result"
    },
    {
     "data": {
      "image/png": "[encoded data removed]",
      "text/plain": [
       "<Figure size 432x288 with 1 Axes>"
      ]
     },
     "metadata": {
      "needs_background": "light"
     },
     "output_type": "display_data"
    }
   ],
   "source": [
    "data.groupby('MES').mean()['dif_min'].plot()\n",
    "plt.ylabel('retraso (min)')"
   ]
  },
  {
   "cell_type": "markdown",
   "metadata": {},
   "source": [
    "Hubo un aumento fueret de los retrasos durante el mes de julio, cuyas causas valdría la pena estudiar por separado en otro momento."
   ]
  },
  {
   "cell_type": "markdown",
   "metadata": {},
   "source": [
    "## Variables categóricas: distribución\n",
    "\n",
    "## Temporada alta"
   ]
  },
  {
   "cell_type": "code",
   "execution_count": 66,
   "metadata": {},
   "outputs": [
    {
     "data": {
      "image/png": "[encoded data removed]",
      "text/plain": [
       "<Figure size 864x360 with 1 Axes>"
      ]
     },
     "metadata": {
      "needs_background": "light"
     },
     "output_type": "display_data"
    }
   ],
   "source": [
    "plot_retraso_promedio(data,'temporada_alta')"
   ]
  },
  {
   "cell_type": "markdown",
   "metadata": {},
   "source": [
    "La fracción de vuelos retrasados es algo mayor en temporada alta, pero no tan significativa."
   ]
  },
  {
   "cell_type": "markdown",
   "metadata": {},
   "source": [
    "## Aerolinea "
   ]
  },
  {
   "cell_type": "code",
   "execution_count": 68,
   "metadata": {},
   "outputs": [
    {
     "data": {
      "image/png": "[encoded data removed]",
      "text/plain": [
       "<Figure size 864x360 with 1 Axes>"
      ]
     },
     "metadata": {
      "needs_background": "light"
     },
     "output_type": "display_data"
    }
   ],
   "source": [
    "plot_retraso_promedio(data,'OPERA')\n",
    "\n",
    "\n",
    "\n"
   ]
  },
  {
   "cell_type": "markdown",
   "metadata": {},
   "source": [
    "## Destino"
   ]
  },
  {
   "cell_type": "code",
   "execution_count": 69,
   "metadata": {},
   "outputs": [
    {
     "data": {
      "image/png": "[encoded data removed]",
      "text/plain": [
       "<Figure size 864x360 with 1 Axes>"
      ]
     },
     "metadata": {
      "needs_background": "light"
     },
     "output_type": "display_data"
    }
   ],
   "source": [
    "plot_retraso_promedio(data,'SIGLADES')\n",
    "\n"
   ]
  },
  {
   "cell_type": "markdown",
   "metadata": {},
   "source": [
    "## Día de la semana"
   ]
  },
  {
   "cell_type": "code",
   "execution_count": 70,
   "metadata": {},
   "outputs": [
    {
     "data": {
      "image/png": "[encoded data removed]",
      "text/plain": [
       "<Figure size 864x360 with 1 Axes>"
      ]
     },
     "metadata": {
      "needs_background": "light"
     },
     "output_type": "display_data"
    }
   ],
   "source": [
    "plot_retraso_promedio(data,'DIANOM')\n",
    "\n"
   ]
  },
  {
   "cell_type": "code",
   "execution_count": 71,
   "metadata": {},
   "outputs": [],
   "source": [
    "## Código de vuelo"
   ]
  },
  {
   "cell_type": "code",
   "execution_count": 72,
   "metadata": {},
   "outputs": [
    {
     "data": {
      "image/png": "[encoded data removed]",
      "text/plain": [
       "<Figure size 864x360 with 1 Axes>"
      ]
     },
     "metadata": {
      "needs_background": "light"
     },
     "output_type": "display_data"
    }
   ],
   "source": [
    "plot_retraso_promedio(data,'Vlo-I')"
   ]
  },
  {
   "cell_type": "markdown",
   "metadata": {},
   "source": [
    "## Tipo de vuelo"
   ]
  },
  {
   "cell_type": "code",
   "execution_count": 73,
   "metadata": {},
   "outputs": [
    {
     "data": {
      "image/png": "[encoded data removed]",
      "text/plain": [
       "<Figure size 864x360 with 1 Axes>"
      ]
     },
     "metadata": {
      "needs_background": "light"
     },
     "output_type": "display_data"
    }
   ],
   "source": [
    "plot_retraso_promedio(data,'TIPOVUELO')\n",
    "\n"
   ]
  },
  {
   "cell_type": "markdown",
   "metadata": {},
   "source": [
    "## Periodo del día"
   ]
  },
  {
   "cell_type": "code",
   "execution_count": 74,
   "metadata": {},
   "outputs": [
    {
     "data": {
      "image/png": "[encoded data removed]",
      "text/plain": [
       "<Figure size 864x360 with 1 Axes>"
      ]
     },
     "metadata": {
      "needs_background": "light"
     },
     "output_type": "display_data"
    }
   ],
   "source": [
    "plot_retraso_promedio(data,'periodo_dia')\n",
    "\n"
   ]
  },
  {
   "cell_type": "code",
   "execution_count": null,
   "metadata": {},
   "outputs": [],
   "source": []
  },
  {
   "cell_type": "markdown",
   "metadata": {},
   "source": [
    "Es esperable que el mes del año sea un factor indicativo, dado que entran en juego factores climáticos (tormentas). La hora del día también indica que los vuelos se retrasan más al final del día, quizás por efecto de arrastre.\n",
    "\n",
    "El tipo de vuelo y la aerolínea también muestran ser variables importantes."
   ]
  },
  {
   "cell_type": "markdown",
   "metadata": {},
   "source": [
    "# Posibles mejoras\n",
    "\n",
    "- descartar codigo de vuelo\n",
    "- tener en cuenta desbalance (ej upsampling, usar metodos de librerias como imblearn)\n",
    "- usar lstm para tener en cuenta factor de orden temporal\n",
    "- tomar como problema de regresion\n",
    "\n",
    "#para hacer despues\n",
    "agregar LOS CONTEOS SOLOS de las categoricas, sin el "
   ]
  },
  {
   "cell_type": "code",
   "execution_count": 77,
   "metadata": {},
   "outputs": [],
   "source": [
    "X_train, X_test, y_train, y_test = train_test_split(\n",
    "    data.drop(['atraso_15', 'dif_min'], axis=1), # predictive variables\n",
    "    data['atraso_15'], # target\n",
    "    test_size=0.1, # portion of dataset to allocate to test set\n",
    "    random_state=0, # we are setting the seed here\n",
    ")\n"
   ]
  },
  {
   "cell_type": "code",
   "execution_count": 98,
   "metadata": {},
   "outputs": [],
   "source": [
    "CATEGORICAL_VARS = ['Vlo-I', 'Des-I','DIANOM', 'TIPOVUELO', 'OPERA',\n",
    "       'SIGLADES','periodo_dia']\n",
    "\n",
    "data[CATEGORICAL_VARS]=data[CATEGORICAL_VARS].astype('object')"
   ]
  },
  {
   "cell_type": "code",
   "execution_count": 99,
   "metadata": {},
   "outputs": [
    {
     "data": {
      "text/html": [
       "<div>\n",
       "<style scoped>\n",
       "    .dataframe tbody tr th:only-of-type {\n",
       "        vertical-align: middle;\n",
       "    }\n",
       "\n",
       "    .dataframe tbody tr th {\n",
       "        vertical-align: top;\n",
       "    }\n",
       "\n",
       "    .dataframe thead th {\n",
       "        text-align: right;\n",
       "    }\n",
       "</style>\n",
       "<table border=\"1\" class=\"dataframe\">\n",
       "  <thead>\n",
       "    <tr style=\"text-align: right;\">\n",
       "      <th></th>\n",
       "      <th>Vlo-I</th>\n",
       "      <th>Des-I</th>\n",
       "      <th>DIANOM</th>\n",
       "      <th>TIPOVUELO</th>\n",
       "      <th>OPERA</th>\n",
       "      <th>SIGLADES</th>\n",
       "      <th>periodo_dia</th>\n",
       "    </tr>\n",
       "  </thead>\n",
       "  <tbody>\n",
       "    <tr>\n",
       "      <th>169</th>\n",
       "      <td>11</td>\n",
       "      <td>MMMX</td>\n",
       "      <td>Domingo</td>\n",
       "      <td>I</td>\n",
       "      <td>Aeromexico</td>\n",
       "      <td>Ciudad de Mexico</td>\n",
       "      <td>noche</td>\n",
       "    </tr>\n",
       "    <tr>\n",
       "      <th>5078</th>\n",
       "      <td>572</td>\n",
       "      <td>SKBO</td>\n",
       "      <td>Domingo</td>\n",
       "      <td>I</td>\n",
       "      <td>Grupo LATAM</td>\n",
       "      <td>Bogota</td>\n",
       "      <td>noche</td>\n",
       "    </tr>\n",
       "    <tr>\n",
       "      <th>622</th>\n",
       "      <td>495</td>\n",
       "      <td>MPTO</td>\n",
       "      <td>Domingo</td>\n",
       "      <td>I</td>\n",
       "      <td>Copa Air</td>\n",
       "      <td>Ciudad de Panama</td>\n",
       "      <td>noche</td>\n",
       "    </tr>\n",
       "    <tr>\n",
       "      <th>409</th>\n",
       "      <td>240</td>\n",
       "      <td>SKBO</td>\n",
       "      <td>Domingo</td>\n",
       "      <td>I</td>\n",
       "      <td>Avianca</td>\n",
       "      <td>Bogota</td>\n",
       "      <td>noche</td>\n",
       "    </tr>\n",
       "    <tr>\n",
       "      <th>592</th>\n",
       "      <td>276</td>\n",
       "      <td>MPTO</td>\n",
       "      <td>Domingo</td>\n",
       "      <td>I</td>\n",
       "      <td>Copa Air</td>\n",
       "      <td>Ciudad de Panama</td>\n",
       "      <td>noche</td>\n",
       "    </tr>\n",
       "    <tr>\n",
       "      <th>...</th>\n",
       "      <td>...</td>\n",
       "      <td>...</td>\n",
       "      <td>...</td>\n",
       "      <td>...</td>\n",
       "      <td>...</td>\n",
       "      <td>...</td>\n",
       "      <td>...</td>\n",
       "    </tr>\n",
       "    <tr>\n",
       "      <th>66797</th>\n",
       "      <td>532</td>\n",
       "      <td>KJFK</td>\n",
       "      <td>Domingo</td>\n",
       "      <td>I</td>\n",
       "      <td>Grupo LATAM</td>\n",
       "      <td>Nueva York</td>\n",
       "      <td>noche</td>\n",
       "    </tr>\n",
       "    <tr>\n",
       "      <th>66947</th>\n",
       "      <td>622</td>\n",
       "      <td>MMMX</td>\n",
       "      <td>Lunes</td>\n",
       "      <td>I</td>\n",
       "      <td>Grupo LATAM</td>\n",
       "      <td>Ciudad de Mexico</td>\n",
       "      <td>noche</td>\n",
       "    </tr>\n",
       "    <tr>\n",
       "      <th>62026</th>\n",
       "      <td>11</td>\n",
       "      <td>MMMX</td>\n",
       "      <td>Domingo</td>\n",
       "      <td>I</td>\n",
       "      <td>Aeromexico</td>\n",
       "      <td>Ciudad de Mexico</td>\n",
       "      <td>noche</td>\n",
       "    </tr>\n",
       "    <tr>\n",
       "      <th>66918</th>\n",
       "      <td>602</td>\n",
       "      <td>KLAX</td>\n",
       "      <td>Lunes</td>\n",
       "      <td>I</td>\n",
       "      <td>Grupo LATAM</td>\n",
       "      <td>Los Angeles</td>\n",
       "      <td>noche</td>\n",
       "    </tr>\n",
       "    <tr>\n",
       "      <th>61862</th>\n",
       "      <td>226</td>\n",
       "      <td>KMIA</td>\n",
       "      <td>Domingo</td>\n",
       "      <td>I</td>\n",
       "      <td>American Airlines</td>\n",
       "      <td>Miami</td>\n",
       "      <td>noche</td>\n",
       "    </tr>\n",
       "  </tbody>\n",
       "</table>\n",
       "<p>68206 rows × 7 columns</p>\n",
       "</div>"
      ],
      "text/plain": [
       "      Vlo-I Des-I   DIANOM TIPOVUELO              OPERA          SIGLADES  \\\n",
       "169      11  MMMX  Domingo         I         Aeromexico  Ciudad de Mexico   \n",
       "5078    572  SKBO  Domingo         I        Grupo LATAM            Bogota   \n",
       "622     495  MPTO  Domingo         I           Copa Air  Ciudad de Panama   \n",
       "409     240  SKBO  Domingo         I            Avianca            Bogota   \n",
       "592     276  MPTO  Domingo         I           Copa Air  Ciudad de Panama   \n",
       "...     ...   ...      ...       ...                ...               ...   \n",
       "66797   532  KJFK  Domingo         I        Grupo LATAM        Nueva York   \n",
       "66947   622  MMMX    Lunes         I        Grupo LATAM  Ciudad de Mexico   \n",
       "62026    11  MMMX  Domingo         I         Aeromexico  Ciudad de Mexico   \n",
       "66918   602  KLAX    Lunes         I        Grupo LATAM       Los Angeles   \n",
       "61862   226  KMIA  Domingo         I  American Airlines             Miami   \n",
       "\n",
       "      periodo_dia  \n",
       "169         noche  \n",
       "5078        noche  \n",
       "622         noche  \n",
       "409         noche  \n",
       "592         noche  \n",
       "...           ...  \n",
       "66797       noche  \n",
       "66947       noche  \n",
       "62026       noche  \n",
       "66918       noche  \n",
       "61862       noche  \n",
       "\n",
       "[68206 rows x 7 columns]"
      ]
     },
     "execution_count": 99,
     "metadata": {},
     "output_type": "execute_result"
    }
   ],
   "source": [
    "data[CATEGORICAL_VARS]"
   ]
  },
  {
   "cell_type": "code",
   "execution_count": 100,
   "metadata": {},
   "outputs": [],
   "source": [
    "pipeline = Pipeline(\n",
    "    \n",
    "    [ ('categorical_encoder', OrdinalEncoder(\n",
    "        encoding_method='ordered', variables=CATEGORICAL_VARS)),\n",
    "])"
   ]
  },
  {
   "cell_type": "code",
   "execution_count": 101,
   "metadata": {},
   "outputs": [
    {
     "data": {
      "text/plain": [
       "Pipeline(steps=[('categorical_encoder',\n",
       "                 OrdinalEncoder(variables=['Vlo-I', 'Des-I', 'DIANOM',\n",
       "                                           'TIPOVUELO', 'OPERA', 'SIGLADES',\n",
       "                                           'periodo_dia']))])"
      ]
     },
     "execution_count": 101,
     "metadata": {},
     "output_type": "execute_result"
    }
   ],
   "source": [
    "# train the pipeline\n",
    "pipeline.fit(X_train, y_train)"
   ]
  },
  {
   "cell_type": "code",
   "execution_count": 102,
   "metadata": {},
   "outputs": [
    {
     "ename": "NameError",
     "evalue": "name 'timeit' is not defined",
     "output_type": "error",
     "traceback": [
      "\u001b[0;31m---------------------------------------------------------------------------\u001b[0m",
      "\u001b[0;31mNameError\u001b[0m                                 Traceback (most recent call last)",
      "\u001b[0;32m<ipython-input-102-0a4b8d06357a>\u001b[0m in \u001b[0;36m<module>\u001b[0;34m\u001b[0m\n\u001b[1;32m      1\u001b[0m \u001b[0;31m## Hpyerparameter tuning for XGBoost algorithm\u001b[0m\u001b[0;34m\u001b[0m\u001b[0;34m\u001b[0m\u001b[0;34m\u001b[0m\u001b[0m\n\u001b[1;32m      2\u001b[0m \u001b[0;31m# from xgboost import XGBClassifier\u001b[0m\u001b[0;34m\u001b[0m\u001b[0;34m\u001b[0m\u001b[0;34m\u001b[0m\u001b[0m\n\u001b[0;32m----> 3\u001b[0;31m \u001b[0mstart\u001b[0m \u001b[0;34m=\u001b[0m \u001b[0mtimeit\u001b[0m\u001b[0;34m.\u001b[0m\u001b[0mdefault_timer\u001b[0m\u001b[0;34m(\u001b[0m\u001b[0;34m)\u001b[0m\u001b[0;34m\u001b[0m\u001b[0;34m\u001b[0m\u001b[0m\n\u001b[0m\u001b[1;32m      4\u001b[0m \u001b[0mxgb_model\u001b[0m \u001b[0;34m=\u001b[0m \u001b[0mXGBClassifier\u001b[0m\u001b[0;34m(\u001b[0m\u001b[0;34m)\u001b[0m\u001b[0;34m\u001b[0m\u001b[0;34m\u001b[0m\u001b[0m\n\u001b[1;32m      5\u001b[0m param_dist = {\"max_depth\": [2,5,7,10],\n",
      "\u001b[0;31mNameError\u001b[0m: name 'timeit' is not defined"
     ]
    }
   ],
   "source": [
    "## Hpyerparameter tuning for XGBoost algorithm\n",
    "# from xgboost import XGBClassifier\n",
    "start = timeit.default_timer()\n",
    "xgb_model = XGBClassifier()\n",
    "param_dist = {\"max_depth\": [2,5,7,10],\n",
    "           \"min_child_weight\" : [2,6,10,],\n",
    "           \"n_estimators\": [100, 500, 1000],\n",
    "           \"learning_rate\" : [0.01,0.05,0.08, 0.1, 0.5, 0.8]}\n",
    "grid_search = GridSearchCV(xgb_model, param_grid=param_dist, cv = 3, \n",
    "                                verbose=10, n_jobs=-1)\n",
    "grid_search.fit(X_train, y_train)\n",
    "print(grid_search.best_estimator_)\n",
    "\n",
    "stop = timeit.default_timer()\n",
    "print('Time: ', stop - start)"
   ]
  },
  {
   "cell_type": "code",
   "execution_count": null,
   "metadata": {},
   "outputs": [],
   "source": []
  },
  {
   "cell_type": "code",
   "execution_count": null,
   "metadata": {},
   "outputs": [],
   "source": []
  }
 ],
 "metadata": {
  "kernelspec": {
   "display_name": "Python 3",
   "language": "python",
   "name": "python3"
  },
  "language_info": {
   "codemirror_mode": {
    "name": "ipython",
    "version": 3
   },
   "file_extension": ".py",
   "mimetype": "text/x-python",
   "name": "python",
   "nbconvert_exporter": "python",
   "pygments_lexer": "ipython3",
   "version": "3.8.10"
  }
 },
 "nbformat": 4,
 "nbformat_minor": 4
}
